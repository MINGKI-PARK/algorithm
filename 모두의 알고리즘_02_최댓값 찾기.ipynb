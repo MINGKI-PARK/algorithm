{
 "cells": [
  {
   "cell_type": "markdown",
   "metadata": {},
   "source": [
    "# 모두의 알고리즘_02_최댓값 찾기"
   ]
  },
  {
   "cell_type": "markdown",
   "metadata": {
    "toc": true
   },
   "source": [
    "<h1>Table of Contents<span class=\"tocSkip\"></span></h1>\n",
    "<div class=\"toc\"><ul class=\"toc-item\"><li><span><a href=\"#리스트\" data-toc-modified-id=\"리스트-1\"><span class=\"toc-item-num\">1&nbsp;&nbsp;</span>리스트</a></span></li><li><span><a href=\"#최댓값을-찾는-알고리즘\" data-toc-modified-id=\"최댓값을-찾는-알고리즘-2\"><span class=\"toc-item-num\">2&nbsp;&nbsp;</span>최댓값을 찾는 알고리즘</a></span></li><li><span><a href=\"#알고리즘-분석\" data-toc-modified-id=\"알고리즘-분석-3\"><span class=\"toc-item-num\">3&nbsp;&nbsp;</span>알고리즘 분석</a></span></li><li><span><a href=\"#응용하기\" data-toc-modified-id=\"응용하기-4\"><span class=\"toc-item-num\">4&nbsp;&nbsp;</span>응용하기</a></span></li><li><span><a href=\"#연습문제\" data-toc-modified-id=\"연습문제-5\"><span class=\"toc-item-num\">5&nbsp;&nbsp;</span>연습문제</a></span></li></ul></div>"
   ]
  },
  {
   "cell_type": "markdown",
   "metadata": {},
   "source": [
    "**주어진 숫자 n개 중 가장 큰 숫자를 찾는 알고리즘을 만들어 보자!**"
   ]
  },
  {
   "cell_type": "markdown",
   "metadata": {},
   "source": [
    "## 리스트\n",
    "\n",
    "* insert(i, x) : 리스트의 i번 위치에 x를 추가한다.\n",
    "* x in a : 어떤 자료 x가 리스트 a 안에 있는지 확인한다. (x not in a 는 반대 결과)"
   ]
  },
  {
   "cell_type": "markdown",
   "metadata": {},
   "source": [
    "## 최댓값을 찾는 알고리즘"
   ]
  },
  {
   "cell_type": "code",
   "execution_count": 1,
   "metadata": {
    "ExecuteTime": {
     "end_time": "2020-11-24T17:37:22.622177Z",
     "start_time": "2020-11-24T17:37:22.614195Z"
    }
   },
   "outputs": [],
   "source": [
    "# 최댓값 구하기\n",
    "# 입력 : 숫자가 n개 들어있는 리스트\n",
    "# 출력 : 숫자 n개 중 최댓값\n",
    "\n",
    "def find_max(a):\n",
    "    n = len(a) # 입력 크기 n\n",
    "    max_v = a[0] # 리스트의 첫 번째 값을 최댓값으로 기억\n",
    "    for i in range(1, n): # 1부터 n-1까지 반복\n",
    "        if a[i] > max_v: # 이번 값이 현재까지 기억된 최댓값보다 크면\n",
    "            max_v = a[i] # 최댓값을 변경\n",
    "    return max_v"
   ]
  },
  {
   "cell_type": "code",
   "execution_count": 3,
   "metadata": {
    "ExecuteTime": {
     "end_time": "2020-11-24T17:38:01.249134Z",
     "start_time": "2020-11-24T17:38:01.234037Z"
    }
   },
   "outputs": [
    {
     "name": "stdout",
     "output_type": "stream",
     "text": [
      "92\n"
     ]
    }
   ],
   "source": [
    "v = [17, 92, 18, 33, 58, 7, 33, 42]\n",
    "print(find_max(v))"
   ]
  },
  {
   "cell_type": "markdown",
   "metadata": {},
   "source": [
    "## 알고리즘 분석"
   ]
  },
  {
   "cell_type": "markdown",
   "metadata": {},
   "source": [
    "## 응용하기\n",
    "\n",
    "**리스트에 숫자가 n개 있을 때 가장 큰 값이 있는 위치 번호를 돌려주는 알고리즘을 만들어 보자**"
   ]
  },
  {
   "cell_type": "code",
   "execution_count": 4,
   "metadata": {
    "ExecuteTime": {
     "end_time": "2020-11-24T17:43:06.483416Z",
     "start_time": "2020-11-24T17:43:06.462132Z"
    }
   },
   "outputs": [],
   "source": [
    "# 최댓값의 위치 구하기\n",
    "# 입력 : 숫자가 n개 들어 있는 리스트\n",
    "# 출력 : 숫자 n개 중에서 최댓값이 있는 위치 (0부터 n-1까지의 값)\n",
    "\n",
    "def find_max_idx(a):\n",
    "    n = len(a) # 입력 크기 n\n",
    "    max_idx = 0 # 리스트 중 0번 위치를 최댓값 위치로 기억\n",
    "    for i in range(1, n):\n",
    "        if a[i] > a[max_idx]: # 이번 값이 현재까지 기억된 최댓값보다 크면\n",
    "            max_idx = i # 최댓값의 위치를 변경\n",
    "    return max_idx"
   ]
  },
  {
   "cell_type": "code",
   "execution_count": 5,
   "metadata": {
    "ExecuteTime": {
     "end_time": "2020-11-24T17:43:19.812126Z",
     "start_time": "2020-11-24T17:43:19.802366Z"
    }
   },
   "outputs": [
    {
     "name": "stdout",
     "output_type": "stream",
     "text": [
      "1\n"
     ]
    }
   ],
   "source": [
    "v = [17, 92, 18, 33, 58, 7, 33, 42]\n",
    "print(find_max_idx(v))"
   ]
  },
  {
   "cell_type": "markdown",
   "metadata": {},
   "source": [
    "## 연습문제\n",
    "\n",
    "* 최솟값 구하는 프로그램 만들기"
   ]
  },
  {
   "cell_type": "code",
   "execution_count": 7,
   "metadata": {
    "ExecuteTime": {
     "end_time": "2020-11-24T17:51:13.211938Z",
     "start_time": "2020-11-24T17:51:13.203967Z"
    }
   },
   "outputs": [],
   "source": [
    "def find_min(a):\n",
    "    n = len(a)\n",
    "    min_v = a[0]\n",
    "    for i in range(1, n):\n",
    "        if a[i] < min_v:\n",
    "            min_v = a[i]\n",
    "    return min_v"
   ]
  },
  {
   "cell_type": "code",
   "execution_count": 8,
   "metadata": {
    "ExecuteTime": {
     "end_time": "2020-11-24T17:51:20.508287Z",
     "start_time": "2020-11-24T17:51:20.489795Z"
    }
   },
   "outputs": [
    {
     "data": {
      "text/plain": [
       "7"
      ]
     },
     "execution_count": 8,
     "metadata": {},
     "output_type": "execute_result"
    }
   ],
   "source": [
    "find_min(v)"
   ]
  },
  {
   "cell_type": "code",
   "execution_count": 9,
   "metadata": {
    "ExecuteTime": {
     "end_time": "2020-11-24T17:52:42.799379Z",
     "start_time": "2020-11-24T17:52:42.787299Z"
    }
   },
   "outputs": [],
   "source": [
    "# 최솟값 위치를 찾는 프로그램 만들기\n",
    "def find_min_idx(a):\n",
    "    n = len(a)\n",
    "    min_idx = 0\n",
    "    for i in range(1, n):\n",
    "        if a[i] < a[min_idx]:\n",
    "            min_idx = i\n",
    "    return min_idx"
   ]
  },
  {
   "cell_type": "code",
   "execution_count": 10,
   "metadata": {
    "ExecuteTime": {
     "end_time": "2020-11-24T17:52:50.909226Z",
     "start_time": "2020-11-24T17:52:50.890559Z"
    }
   },
   "outputs": [
    {
     "data": {
      "text/plain": [
       "5"
      ]
     },
     "execution_count": 10,
     "metadata": {},
     "output_type": "execute_result"
    }
   ],
   "source": [
    "find_min_idx(v)"
   ]
  }
 ],
 "metadata": {
  "kernelspec": {
   "display_name": "Python 3",
   "language": "python",
   "name": "python3"
  },
  "language_info": {
   "codemirror_mode": {
    "name": "ipython",
    "version": 3
   },
   "file_extension": ".py",
   "mimetype": "text/x-python",
   "name": "python",
   "nbconvert_exporter": "python",
   "pygments_lexer": "ipython3",
   "version": "3.7.6"
  },
  "toc": {
   "base_numbering": 1,
   "nav_menu": {},
   "number_sections": true,
   "sideBar": true,
   "skip_h1_title": true,
   "title_cell": "Table of Contents",
   "title_sidebar": "Contents",
   "toc_cell": true,
   "toc_position": {
    "height": "calc(100% - 180px)",
    "left": "10px",
    "top": "150px",
    "width": "307.2px"
   },
   "toc_section_display": true,
   "toc_window_display": true
  }
 },
 "nbformat": 4,
 "nbformat_minor": 4
}

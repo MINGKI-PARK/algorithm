{
 "cells": [
  {
   "cell_type": "markdown",
   "metadata": {},
   "source": [
    "# 모두의 알고리즘_08_선택 정렬"
   ]
  },
  {
   "cell_type": "markdown",
   "metadata": {
    "toc": true
   },
   "source": [
    "<h1>Table of Contents<span class=\"tocSkip\"></span></h1>\n",
    "<div class=\"toc\"><ul class=\"toc-item\"><li><span><a href=\"#선택-정렬로-줄-세우기\" data-toc-modified-id=\"선택-정렬로-줄-세우기-1\"><span class=\"toc-item-num\">1&nbsp;&nbsp;</span>선택 정렬로 줄 세우기</a></span></li><li><span><a href=\"#쉽게-설명한-선택-정렬-알고리즘\" data-toc-modified-id=\"쉽게-설명한-선택-정렬-알고리즘-2\"><span class=\"toc-item-num\">2&nbsp;&nbsp;</span>쉽게 설명한 선택 정렬 알고리즘</a></span></li><li><span><a href=\"#일반적인-선택-정렬-알고리즘\" data-toc-modified-id=\"일반적인-선택-정렬-알고리즘-3\"><span class=\"toc-item-num\">3&nbsp;&nbsp;</span>일반적인 선택 정렬 알고리즘</a></span></li><li><span><a href=\"#알고리즘-분석\" data-toc-modified-id=\"알고리즘-분석-4\"><span class=\"toc-item-num\">4&nbsp;&nbsp;</span>알고리즘 분석</a></span></li><li><span><a href=\"#연습문제\" data-toc-modified-id=\"연습문제-5\"><span class=\"toc-item-num\">5&nbsp;&nbsp;</span>연습문제</a></span></li></ul></div>"
   ]
  },
  {
   "cell_type": "markdown",
   "metadata": {},
   "source": [
    "**주어진 리스트 안의 자료를 작은 수부터 큰 수 순서로 배열하는 정렬 알고리즘을 만들어 보세요.**\n",
    "\n",
    "알고리즘 공부의 꽃이라 할 수 있는 정렬(sort) 문제\n",
    "\n",
    "리스트에 들어있는 숫자를 크기순으로 나열하는 정렬 알고리즘의 입출력은 다음과 같다.\n",
    "\n",
    "+ 문제 : 리스트 안에 있는 자료를 순서대로 배열하기\n",
    "+ 입력 : 정렬할 리스트\n",
    "+ 출력 : 순서대로 정렬된 리스트"
   ]
  },
  {
   "cell_type": "markdown",
   "metadata": {},
   "source": [
    "## 선택 정렬로 줄 세우기"
   ]
  },
  {
   "cell_type": "markdown",
   "metadata": {},
   "source": [
    "## 쉽게 설명한 선택 정렬 알고리즘"
   ]
  },
  {
   "cell_type": "code",
   "execution_count": 2,
   "metadata": {
    "ExecuteTime": {
     "end_time": "2020-12-09T14:42:48.948168Z",
     "start_time": "2020-12-09T14:42:48.929093Z"
    }
   },
   "outputs": [],
   "source": [
    "# 쉽게 설명한 선택 정렬\n",
    "# 입력 : 리스트 a\n",
    "# 출력 : 정렬된 새 리스트\n",
    "\n",
    "# 주어진 리스트에서 최솟값의 위치를 돌려주는 함수\n",
    "def find_min_idx(a):\n",
    "    n = len(a)\n",
    "    min_idx = 0\n",
    "    for i in range(1, n):\n",
    "        if a[min_idx] > a[i]:\n",
    "            min_idx = i\n",
    "    return min_idx\n",
    "\n",
    "\n",
    "def sel_sort(a):\n",
    "    result = []   # 새 리스트를 만들어 정렬된 값을 저장\n",
    "    while a:      # 주어진 리스트에 값이 남아 있는 동안 계속\n",
    "        min_idx = find_min_idx(a) # 리스트에 남아 있는 값 중 최솟값의 위치\n",
    "        value = a.pop(min_idx)    # 찾은 최솟값을 빼내어 value에 저장\n",
    "        result.append(value)      # value를 결과 리스트 끝에 추가\n",
    "    return result"
   ]
  },
  {
   "cell_type": "code",
   "execution_count": 3,
   "metadata": {
    "ExecuteTime": {
     "end_time": "2020-12-09T14:43:09.371870Z",
     "start_time": "2020-12-09T14:43:09.355908Z"
    }
   },
   "outputs": [
    {
     "data": {
      "text/plain": [
       "[1, 2, 3, 4, 5]"
      ]
     },
     "execution_count": 3,
     "metadata": {},
     "output_type": "execute_result"
    }
   ],
   "source": [
    "d = [2, 4, 5, 1, 3]\n",
    "sel_sort(d)"
   ]
  },
  {
   "cell_type": "markdown",
   "metadata": {},
   "source": [
    "## 일반적인 선택 정렬 알고리즘"
   ]
  },
  {
   "cell_type": "code",
   "execution_count": 9,
   "metadata": {
    "ExecuteTime": {
     "end_time": "2020-12-09T14:48:52.283099Z",
     "start_time": "2020-12-09T14:48:52.260266Z"
    }
   },
   "outputs": [],
   "source": [
    "# 선택 정렬\n",
    "# 입력 : 리스트 a\n",
    "# 출력 : 없음(입력으로 주어진 a가 정렬됨)\n",
    "\n",
    "def sel_sort(a):\n",
    "    n = len(a)\n",
    "    for i in range(n-1): # 0부터 n-2까지 반복\n",
    "        # i번 위치부터 끝까지 자료 값 중 최솟값의 위치를 찾음\n",
    "        min_idx = i\n",
    "        for j in range(i+1, n):\n",
    "            if a[j] < a[min_idx]:\n",
    "                min_idx = j\n",
    "        # 찾은 최솟값을 i번 위치로\n",
    "        a[i], a[min_idx] = a[min_idx], a[i]"
   ]
  },
  {
   "cell_type": "code",
   "execution_count": 10,
   "metadata": {
    "ExecuteTime": {
     "end_time": "2020-12-09T14:48:53.995241Z",
     "start_time": "2020-12-09T14:48:53.980239Z"
    }
   },
   "outputs": [
    {
     "data": {
      "text/plain": [
       "[1, 2, 3, 4, 5]"
      ]
     },
     "execution_count": 10,
     "metadata": {},
     "output_type": "execute_result"
    }
   ],
   "source": [
    "d = [2, 4, 5, 1, 3]\n",
    "sel_sort(d)\n",
    "d"
   ]
  },
  {
   "cell_type": "markdown",
   "metadata": {},
   "source": [
    "## 알고리즘 분석"
   ]
  },
  {
   "cell_type": "markdown",
   "metadata": {},
   "source": [
    "## 연습문제\n",
    "\n",
    "내림차순 정렬로 바꾸기"
   ]
  },
  {
   "cell_type": "code",
   "execution_count": 11,
   "metadata": {
    "ExecuteTime": {
     "end_time": "2020-12-09T14:52:26.384852Z",
     "start_time": "2020-12-09T14:52:26.367830Z"
    }
   },
   "outputs": [],
   "source": [
    "def sel_sort(a):\n",
    "    n = len(a)\n",
    "    for i in range(n-1):\n",
    "\n",
    "        max_idx = i\n",
    "        for j in range(i+1, n):\n",
    "            if a[j] > a[max_idx]:\n",
    "                max_idx = j\n",
    "\n",
    "        a[i], a[max_idx] = a[max_idx], a[i]"
   ]
  },
  {
   "cell_type": "code",
   "execution_count": 12,
   "metadata": {
    "ExecuteTime": {
     "end_time": "2020-12-09T14:52:33.958557Z",
     "start_time": "2020-12-09T14:52:33.948496Z"
    }
   },
   "outputs": [
    {
     "data": {
      "text/plain": [
       "[5, 4, 3, 2, 1]"
      ]
     },
     "execution_count": 12,
     "metadata": {},
     "output_type": "execute_result"
    }
   ],
   "source": [
    "sel_sort(d)\n",
    "d"
   ]
  }
 ],
 "metadata": {
  "kernelspec": {
   "display_name": "Python 3",
   "language": "python",
   "name": "python3"
  },
  "language_info": {
   "codemirror_mode": {
    "name": "ipython",
    "version": 3
   },
   "file_extension": ".py",
   "mimetype": "text/x-python",
   "name": "python",
   "nbconvert_exporter": "python",
   "pygments_lexer": "ipython3",
   "version": "3.7.6"
  },
  "toc": {
   "base_numbering": 1,
   "nav_menu": {},
   "number_sections": true,
   "sideBar": true,
   "skip_h1_title": true,
   "title_cell": "Table of Contents",
   "title_sidebar": "Contents",
   "toc_cell": true,
   "toc_position": {},
   "toc_section_display": true,
   "toc_window_display": true
  }
 },
 "nbformat": 4,
 "nbformat_minor": 4
}

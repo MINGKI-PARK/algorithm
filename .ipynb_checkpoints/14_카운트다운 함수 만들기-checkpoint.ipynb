{
 "cells": [
  {
   "cell_type": "markdown",
   "metadata": {},
   "source": [
    "# 14_카운트다운 함수 만들기"
   ]
  },
  {
   "cell_type": "markdown",
   "metadata": {},
   "source": [
    "## 문제\n",
    "\n",
    "표준 입력으로 정수가 입력됩니다. 다음 소스 코드를 완성하여 함수 c를 호출할 때마다 숫자가 1씩 줄어들게 만드세요. \n",
    "\n",
    "여기서는 함수를 클로저로 만들어야 합니다. \n",
    "\n",
    "정답에 코드를 작성할 때는 def countdown(n):에 맞춰서 들여쓰기를 해주세요.\n",
    "\n",
    "```python\n",
    "def countdown(n):\n",
    "________________\n",
    "________________\n",
    "________________\n",
    "________________\n",
    "________________\n",
    "________________\n",
    "\n",
    "n = int(input())\n",
    " \n",
    "c = countdown(n)\n",
    "for i in range(n):\n",
    "    print(c(), end=' ')\n",
    "```"
   ]
  },
  {
   "cell_type": "markdown",
   "metadata": {},
   "source": [
    "## 나의 풀이"
   ]
  },
  {
   "cell_type": "code",
   "execution_count": 50,
   "metadata": {
    "ExecuteTime": {
     "end_time": "2020-12-14T20:41:33.164526Z",
     "start_time": "2020-12-14T20:41:33.149468Z"
    }
   },
   "outputs": [],
   "source": [
    "def countdown(n):\n",
    "    c = n + 1\n",
    "    def count():\n",
    "        nonlocal c\n",
    "        c -= 1\n",
    "        return c\n",
    "    return count"
   ]
  },
  {
   "cell_type": "code",
   "execution_count": 56,
   "metadata": {
    "ExecuteTime": {
     "end_time": "2020-12-14T20:42:26.520846Z",
     "start_time": "2020-12-14T20:42:24.795330Z"
    }
   },
   "outputs": [
    {
     "name": "stdout",
     "output_type": "stream",
     "text": [
      "20\n"
     ]
    }
   ],
   "source": [
    "n = int(input())\n",
    "\n",
    "# c = countdown(n)\n",
    "# for i in range(n):\n",
    "#     print(c(), end=' ')"
   ]
  },
  {
   "cell_type": "code",
   "execution_count": 57,
   "metadata": {
    "ExecuteTime": {
     "end_time": "2020-12-14T20:42:27.871466Z",
     "start_time": "2020-12-14T20:42:27.859316Z"
    }
   },
   "outputs": [],
   "source": [
    "c = countdown(n)"
   ]
  },
  {
   "cell_type": "code",
   "execution_count": 58,
   "metadata": {
    "ExecuteTime": {
     "end_time": "2020-12-14T20:42:28.551143Z",
     "start_time": "2020-12-14T20:42:28.538359Z"
    }
   },
   "outputs": [
    {
     "name": "stdout",
     "output_type": "stream",
     "text": [
      "20 19 18 17 16 15 14 13 12 11 10 9 8 7 6 5 4 3 2 1 "
     ]
    }
   ],
   "source": [
    "for i in range(n):\n",
    "    print(c(), end=' ')"
   ]
  },
  {
   "cell_type": "markdown",
   "metadata": {},
   "source": [
    "## 정답"
   ]
  },
  {
   "cell_type": "code",
   "execution_count": 73,
   "metadata": {
    "ExecuteTime": {
     "end_time": "2020-12-14T20:47:07.107509Z",
     "start_time": "2020-12-14T20:47:07.089558Z"
    }
   },
   "outputs": [],
   "source": [
    "def countdown(n):\n",
    "    i = n\n",
    "    def count():\n",
    "        nonlocal i\n",
    "        r = i\n",
    "        i -= 1\n",
    "        return r\n",
    "    return count"
   ]
  },
  {
   "cell_type": "code",
   "execution_count": 74,
   "metadata": {
    "ExecuteTime": {
     "end_time": "2020-12-14T20:47:09.445551Z",
     "start_time": "2020-12-14T20:47:08.586262Z"
    }
   },
   "outputs": [
    {
     "name": "stdout",
     "output_type": "stream",
     "text": [
      "5\n"
     ]
    }
   ],
   "source": [
    "n = int(input())"
   ]
  },
  {
   "cell_type": "code",
   "execution_count": 75,
   "metadata": {
    "ExecuteTime": {
     "end_time": "2020-12-14T20:47:09.943256Z",
     "start_time": "2020-12-14T20:47:09.938241Z"
    }
   },
   "outputs": [
    {
     "name": "stdout",
     "output_type": "stream",
     "text": [
      "5 4 3 2 1 "
     ]
    }
   ],
   "source": [
    "c = countdown(n)\n",
    "for i in range(n):\n",
    "    print(c(), end=' ')"
   ]
  }
 ],
 "metadata": {
  "kernelspec": {
   "display_name": "Python 3",
   "language": "python",
   "name": "python3"
  },
  "language_info": {
   "codemirror_mode": {
    "name": "ipython",
    "version": 3
   },
   "file_extension": ".py",
   "mimetype": "text/x-python",
   "name": "python",
   "nbconvert_exporter": "python",
   "pygments_lexer": "ipython3",
   "version": "3.7.6"
  },
  "toc": {
   "base_numbering": 1,
   "nav_menu": {},
   "number_sections": true,
   "sideBar": true,
   "skip_h1_title": true,
   "title_cell": "Table of Contents",
   "title_sidebar": "Contents",
   "toc_cell": false,
   "toc_position": {
    "height": "calc(100% - 180px)",
    "left": "10px",
    "top": "150px",
    "width": "384px"
   },
   "toc_section_display": true,
   "toc_window_display": true
  }
 },
 "nbformat": 4,
 "nbformat_minor": 4
}

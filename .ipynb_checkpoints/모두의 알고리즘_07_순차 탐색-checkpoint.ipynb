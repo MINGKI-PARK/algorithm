{
 "cells": [
  {
   "cell_type": "markdown",
   "metadata": {},
   "source": [
    "# 모두의 알고리즘_07_순차 탐색"
   ]
  },
  {
   "cell_type": "markdown",
   "metadata": {
    "toc": true
   },
   "source": [
    "<h1>Table of Contents<span class=\"tocSkip\"></span></h1>\n",
    "<div class=\"toc\"><ul class=\"toc-item\"><li><span><a href=\"#순차-탐색으로-특정-값의-위치-찾기\" data-toc-modified-id=\"순차-탐색으로-특정-값의-위치-찾기-1\"><span class=\"toc-item-num\">1&nbsp;&nbsp;</span>순차 탐색으로 특정 값의 위치 찾기</a></span></li><li><span><a href=\"#알고리즘-분석\" data-toc-modified-id=\"알고리즘-분석-2\"><span class=\"toc-item-num\">2&nbsp;&nbsp;</span>알고리즘 분석</a></span></li><li><span><a href=\"#연습문제\" data-toc-modified-id=\"연습문제-3\"><span class=\"toc-item-num\">3&nbsp;&nbsp;</span>연습문제</a></span><ul class=\"toc-item\"><li><span><a href=\"#첫-번째\" data-toc-modified-id=\"첫-번째-3.1\"><span class=\"toc-item-num\">3.1&nbsp;&nbsp;</span>첫 번째</a></span></li><li><span><a href=\"#두-번째\" data-toc-modified-id=\"두-번째-3.2\"><span class=\"toc-item-num\">3.2&nbsp;&nbsp;</span>두 번째</a></span></li><li><span><a href=\"#세-번째\" data-toc-modified-id=\"세-번째-3.3\"><span class=\"toc-item-num\">3.3&nbsp;&nbsp;</span>세 번째</a></span><ul class=\"toc-item\"><li><span><a href=\"#나의-풀이\" data-toc-modified-id=\"나의-풀이-3.3.1\"><span class=\"toc-item-num\">3.3.1&nbsp;&nbsp;</span>나의 풀이</a></span></li><li><span><a href=\"#다른-풀이\" data-toc-modified-id=\"다른-풀이-3.3.2\"><span class=\"toc-item-num\">3.3.2&nbsp;&nbsp;</span>다른 풀이</a></span></li></ul></li></ul></li></ul></div>"
   ]
  },
  {
   "cell_type": "markdown",
   "metadata": {},
   "source": [
    "**주어진 리스트에 특정한 값이 있는지 찾아 그 위치를 돌려주는 알고리즘을 만들어보자. 리스트에 찾는 값이 없다면 -1을 돌려준다.**\n",
    "\n",
    "'리스트 안에 잇는 원소를 하나씩 순차적으로 비교하면서 탐색한다'고 하여 '순차 탐색(sequential search)'이라고 부른다."
   ]
  },
  {
   "cell_type": "markdown",
   "metadata": {},
   "source": [
    "## 순차 탐색으로 특정 값의 위치 찾기"
   ]
  },
  {
   "cell_type": "code",
   "execution_count": 1,
   "metadata": {
    "ExecuteTime": {
     "end_time": "2020-12-08T11:12:06.456358Z",
     "start_time": "2020-12-08T11:12:06.436445Z"
    }
   },
   "outputs": [],
   "source": [
    "# 리스트에서 특정 숫자의 위치 찾기\n",
    "# 입력 : 리스트 a, 찾는 값 x\n",
    "# 출력 : 찾으면 그 값의 위치, 찾지 못하면 -1\n",
    "\n",
    "def search_list(a, x):\n",
    "    n = len(a)             # 입력 크기 n\n",
    "    for i in range(n):     # 리스트 a의 모든 값을 차례로\n",
    "        if x == a[i]:      # x 값과 비교하여\n",
    "            return i       # 같으면 위치를 돌려준다.\n",
    "    \n",
    "    return -1              # 끝까지 비교해도 없으면 -1을 돌려준다."
   ]
  },
  {
   "cell_type": "code",
   "execution_count": 3,
   "metadata": {
    "ExecuteTime": {
     "end_time": "2020-12-08T11:12:51.936689Z",
     "start_time": "2020-12-08T11:12:51.928130Z"
    }
   },
   "outputs": [
    {
     "name": "stdout",
     "output_type": "stream",
     "text": [
      "2\n",
      "3\n",
      "-1\n"
     ]
    }
   ],
   "source": [
    "v = [17, 92, 18, 33, 58, 7, 33, 42]\n",
    "\n",
    "print(search_list(v, 18))\n",
    "print(search_list(v, 33))\n",
    "print(search_list(v, 900))"
   ]
  },
  {
   "cell_type": "markdown",
   "metadata": {},
   "source": [
    "## 알고리즘 분석\n",
    "\n",
    "계산 복잡도는 O(n)이다.\n",
    "\n"
   ]
  },
  {
   "cell_type": "markdown",
   "metadata": {},
   "source": [
    "## 연습문제"
   ]
  },
  {
   "cell_type": "markdown",
   "metadata": {},
   "source": [
    "### 첫 번째"
   ]
  },
  {
   "cell_type": "code",
   "execution_count": 4,
   "metadata": {
    "ExecuteTime": {
     "end_time": "2020-12-08T11:17:40.166090Z",
     "start_time": "2020-12-08T11:17:40.146144Z"
    }
   },
   "outputs": [],
   "source": [
    "def search_list(a, x):\n",
    "    result = []\n",
    "    n = len(a)            \n",
    "    for i in range(n):    \n",
    "        if x == a[i]:     \n",
    "            result.append(i)\n",
    "#             continue # 필요없는 친구였음\n",
    "    \n",
    "    return result           "
   ]
  },
  {
   "cell_type": "code",
   "execution_count": 5,
   "metadata": {
    "ExecuteTime": {
     "end_time": "2020-12-08T11:17:46.928908Z",
     "start_time": "2020-12-08T11:17:46.903347Z"
    }
   },
   "outputs": [
    {
     "data": {
      "text/plain": [
       "[3, 6]"
      ]
     },
     "execution_count": 5,
     "metadata": {},
     "output_type": "execute_result"
    }
   ],
   "source": [
    "search_list(v, 33)"
   ]
  },
  {
   "cell_type": "markdown",
   "metadata": {},
   "source": [
    "### 두 번째"
   ]
  },
  {
   "cell_type": "markdown",
   "metadata": {},
   "source": [
    "### 세 번째"
   ]
  },
  {
   "cell_type": "code",
   "execution_count": 6,
   "metadata": {
    "ExecuteTime": {
     "end_time": "2020-12-08T11:19:53.977945Z",
     "start_time": "2020-12-08T11:19:53.967969Z"
    }
   },
   "outputs": [],
   "source": [
    "stu_no = [39, 14, 67, 105]\n",
    "stu_name = ['Justin', 'John', 'Mike', 'Summer']"
   ]
  },
  {
   "cell_type": "code",
   "execution_count": 10,
   "metadata": {
    "ExecuteTime": {
     "end_time": "2020-12-08T11:22:58.344552Z",
     "start_time": "2020-12-08T11:22:58.337566Z"
    }
   },
   "outputs": [
    {
     "data": {
      "text/plain": [
       "{39: None, 14: None, 67: None, 105: None}"
      ]
     },
     "execution_count": 10,
     "metadata": {},
     "output_type": "execute_result"
    }
   ],
   "source": [
    "dict.fromkeys(stu_no)"
   ]
  },
  {
   "cell_type": "code",
   "execution_count": 18,
   "metadata": {
    "ExecuteTime": {
     "end_time": "2020-12-08T11:25:32.755023Z",
     "start_time": "2020-12-08T11:25:32.744044Z"
    }
   },
   "outputs": [
    {
     "data": {
      "text/plain": [
       "'John'"
      ]
     },
     "execution_count": 18,
     "metadata": {},
     "output_type": "execute_result"
    }
   ],
   "source": [
    "x = dict(zip(stu_no, stu_name))\n",
    "x.get(14, -1)"
   ]
  },
  {
   "cell_type": "markdown",
   "metadata": {},
   "source": [
    "#### 나의 풀이"
   ]
  },
  {
   "cell_type": "code",
   "execution_count": 20,
   "metadata": {
    "ExecuteTime": {
     "end_time": "2020-12-08T11:26:10.089543Z",
     "start_time": "2020-12-08T11:26:10.071520Z"
    }
   },
   "outputs": [],
   "source": [
    "def search_stu(a, b, n):\n",
    "    x = dict(zip(a, b))\n",
    "    return x.get(n, '?')"
   ]
  },
  {
   "cell_type": "code",
   "execution_count": 22,
   "metadata": {
    "ExecuteTime": {
     "end_time": "2020-12-08T11:26:23.316985Z",
     "start_time": "2020-12-08T11:26:23.304021Z"
    }
   },
   "outputs": [
    {
     "data": {
      "text/plain": [
       "'?'"
      ]
     },
     "execution_count": 22,
     "metadata": {},
     "output_type": "execute_result"
    }
   ],
   "source": [
    "search_stu(stu_no, stu_name, 50)"
   ]
  },
  {
   "cell_type": "markdown",
   "metadata": {},
   "source": [
    "#### 다른 풀이"
   ]
  },
  {
   "cell_type": "code",
   "execution_count": 23,
   "metadata": {
    "ExecuteTime": {
     "end_time": "2020-12-08T11:29:34.262443Z",
     "start_time": "2020-12-08T11:29:34.255461Z"
    }
   },
   "outputs": [],
   "source": [
    "def get_name(s_no, s_name, find_no):\n",
    "    n = len(s_no)\n",
    "    for i in range(n):\n",
    "        if find_no == s_no[i]:\n",
    "            return s_name[i]\n",
    "    \n",
    "    return '?'"
   ]
  }
 ],
 "metadata": {
  "kernelspec": {
   "display_name": "Python 3",
   "language": "python",
   "name": "python3"
  },
  "language_info": {
   "codemirror_mode": {
    "name": "ipython",
    "version": 3
   },
   "file_extension": ".py",
   "mimetype": "text/x-python",
   "name": "python",
   "nbconvert_exporter": "python",
   "pygments_lexer": "ipython3",
   "version": "3.7.6"
  },
  "toc": {
   "base_numbering": 1,
   "nav_menu": {},
   "number_sections": true,
   "sideBar": true,
   "skip_h1_title": true,
   "title_cell": "Table of Contents",
   "title_sidebar": "Contents",
   "toc_cell": true,
   "toc_position": {
    "height": "calc(100% - 180px)",
    "left": "10px",
    "top": "150px",
    "width": "307.2px"
   },
   "toc_section_display": true,
   "toc_window_display": true
  }
 },
 "nbformat": 4,
 "nbformat_minor": 4
}

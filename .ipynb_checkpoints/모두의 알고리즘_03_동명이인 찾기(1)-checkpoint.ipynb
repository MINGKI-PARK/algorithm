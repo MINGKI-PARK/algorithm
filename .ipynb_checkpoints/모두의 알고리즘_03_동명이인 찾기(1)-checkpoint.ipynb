{
 "cells": [
  {
   "cell_type": "markdown",
   "metadata": {},
   "source": [
    "# 모두의 알고리즘_03_동명이인 찾기(1)"
   ]
  },
  {
   "cell_type": "markdown",
   "metadata": {
    "toc": true
   },
   "source": [
    "<h1>Table of Contents<span class=\"tocSkip\"></span></h1>\n",
    "<div class=\"toc\"><ul class=\"toc-item\"><li><span><a href=\"#집합\" data-toc-modified-id=\"집합-1\"><span class=\"toc-item-num\">1&nbsp;&nbsp;</span>집합</a></span></li><li><span><a href=\"#동명이인을-찾는-알고리즘\" data-toc-modified-id=\"동명이인을-찾는-알고리즘-2\"><span class=\"toc-item-num\">2&nbsp;&nbsp;</span>동명이인을 찾는 알고리즘</a></span></li><li><span><a href=\"#연습문제\" data-toc-modified-id=\"연습문제-3\"><span class=\"toc-item-num\">3&nbsp;&nbsp;</span>연습문제</a></span><ul class=\"toc-item\"><li><span><a href=\"#나의-풀이\" data-toc-modified-id=\"나의-풀이-3.1\"><span class=\"toc-item-num\">3.1&nbsp;&nbsp;</span>나의 풀이</a></span></li><li><span><a href=\"#풀이\" data-toc-modified-id=\"풀이-3.2\"><span class=\"toc-item-num\">3.2&nbsp;&nbsp;</span>풀이</a></span></li></ul></li></ul></div>"
   ]
  },
  {
   "cell_type": "markdown",
   "metadata": {},
   "source": [
    "**n명의 사람 이름 중에서 같은 이름을 찾아 집합으로 만들어 돌려주는 알고리즘을 만들어보자!**"
   ]
  },
  {
   "cell_type": "markdown",
   "metadata": {},
   "source": [
    "## 집합\n",
    "\n",
    "집합 하나에는 같은 자료가 중복되어 들어가지 않고, 자료의 순서도 의미가 없다.\n",
    "\n",
    "* set() : 빈 집합 만들기\n",
    "* len(s) : 집합의 길이(자료 개수)를 구한다.\n",
    "* add(x) : 집합에 자료 x를 추가한다.\n",
    "* discard(x) : 집합에 자료 x가 들어 있다면 삭제한다. (없으면 변화 없음)\n",
    "* clear() : 집합의 모든 자료를 지운다.\n",
    "* x in s : 어떤 자료 x가 집합 s에 들어 있는지 확인한다.(x not in s는 반대 결과)."
   ]
  },
  {
   "cell_type": "markdown",
   "metadata": {},
   "source": [
    "## 동명이인을 찾는 알고리즘"
   ]
  },
  {
   "cell_type": "code",
   "execution_count": 4,
   "metadata": {
    "ExecuteTime": {
     "end_time": "2020-11-24T19:49:18.616961Z",
     "start_time": "2020-11-24T19:49:18.606991Z"
    }
   },
   "outputs": [],
   "source": [
    "# 두 번 이상 나온 이름 찾기\n",
    "# 입력 : 이름이 n개 들어 있는 리스트\n",
    "# 출력 : 이름 n개 중 반복되는 이름의 조합\n",
    "\n",
    "def find_same_name(a):\n",
    "    n = len(a) # 리스트의 자료 개수를 n에 저장\n",
    "    result = set() # 결과를 저장할 빈 집합\n",
    "    for i in range(n-1): # 0부터 n-2까지 반복\n",
    "        for j in range(i+1, n): # i+1부터 n-1까지 반복\n",
    "            if a[i] == a[j]: # 이름이 같았으면\n",
    "                result.add(a[i]) # 찾은 이름을 result에 추가\n",
    "    return result"
   ]
  },
  {
   "cell_type": "code",
   "execution_count": 6,
   "metadata": {
    "ExecuteTime": {
     "end_time": "2020-11-24T19:50:43.575921Z",
     "start_time": "2020-11-24T19:50:43.565929Z"
    }
   },
   "outputs": [
    {
     "name": "stdout",
     "output_type": "stream",
     "text": [
      "{'Tom'}\n",
      "{'Tom', 'Mike'}\n"
     ]
    }
   ],
   "source": [
    "name = ['Tom', 'Jerry', 'Mike', 'Tom']\n",
    "print(find_same_name(name))\n",
    "\n",
    "name2 = ['Tom', 'Jerry', 'Mike', 'Tom', 'Mike']\n",
    "print(find_same_name(name2))"
   ]
  },
  {
   "cell_type": "markdown",
   "metadata": {},
   "source": [
    "## 연습문제\n",
    "\n",
    "* n명 중 두 명을 뽑아 짝을 짓는다고 할 때 짝을 지을 수 있는 모든 조합을 출력하는 알고리즘을 만들어 보자."
   ]
  },
  {
   "cell_type": "markdown",
   "metadata": {},
   "source": [
    "### 나의 풀이"
   ]
  },
  {
   "cell_type": "code",
   "execution_count": 7,
   "metadata": {
    "ExecuteTime": {
     "end_time": "2020-11-24T19:55:22.185118Z",
     "start_time": "2020-11-24T19:55:22.172078Z"
    }
   },
   "outputs": [],
   "source": [
    "def make_couple(a):\n",
    "    n = len(a)\n",
    "    result = []\n",
    "    for i in range(n-1):\n",
    "        for j in range(i+1, n):\n",
    "            result.append([a[i], a[j]])\n",
    "    return result"
   ]
  },
  {
   "cell_type": "code",
   "execution_count": 8,
   "metadata": {
    "ExecuteTime": {
     "end_time": "2020-11-24T19:55:48.595926Z",
     "start_time": "2020-11-24T19:55:48.580020Z"
    }
   },
   "outputs": [
    {
     "data": {
      "text/plain": [
       "[['Tom', 'Jerry'], ['Tom', 'Mike'], ['Jerry', 'Mike']]"
      ]
     },
     "execution_count": 8,
     "metadata": {},
     "output_type": "execute_result"
    }
   ],
   "source": [
    "name3 = ['Tom', 'Jerry', 'Mike']\n",
    "make_couple(name3)"
   ]
  },
  {
   "cell_type": "markdown",
   "metadata": {},
   "source": [
    "### 풀이"
   ]
  },
  {
   "cell_type": "code",
   "execution_count": 14,
   "metadata": {
    "ExecuteTime": {
     "end_time": "2020-11-24T20:00:50.282889Z",
     "start_time": "2020-11-24T20:00:50.268634Z"
    }
   },
   "outputs": [],
   "source": [
    "# n명에서 두 명을 뽑아 짝으로 만드는 모든 경우를 찾는 알고리즘\n",
    "# 입력 : n명의 이름이 들어 있는 리스트\n",
    "# 출력 : 두 명을 뽑아 만들 수 있는 모든 짝\n",
    "\n",
    "def print_pairs(a):\n",
    "    n = len(a)\n",
    "    for i in range(0, n-1):\n",
    "        for j in range(i+1, n):\n",
    "            print(a[i], '-', a[j])"
   ]
  },
  {
   "cell_type": "code",
   "execution_count": 15,
   "metadata": {
    "ExecuteTime": {
     "end_time": "2020-11-24T20:00:50.466509Z",
     "start_time": "2020-11-24T20:00:50.443917Z"
    }
   },
   "outputs": [
    {
     "name": "stdout",
     "output_type": "stream",
     "text": [
      "Tom - Jerry\n",
      "Tom - Mike\n",
      "Jerry - Mike\n",
      "\n",
      "Tom - Jerry\n",
      "Tom - Mike\n",
      "Tom - John\n",
      "Jerry - Mike\n",
      "Jerry - John\n",
      "Mike - John\n"
     ]
    }
   ],
   "source": [
    "name = ['Tom', 'Jerry', 'Mike']\n",
    "print_pairs(name)\n",
    "print()\n",
    "name2 = ['Tom', 'Jerry', 'Mike', 'John']\n",
    "print_pairs(name2)"
   ]
  },
  {
   "cell_type": "code",
   "execution_count": null,
   "metadata": {},
   "outputs": [],
   "source": []
  }
 ],
 "metadata": {
  "kernelspec": {
   "display_name": "Python 3",
   "language": "python",
   "name": "python3"
  },
  "language_info": {
   "codemirror_mode": {
    "name": "ipython",
    "version": 3
   },
   "file_extension": ".py",
   "mimetype": "text/x-python",
   "name": "python",
   "nbconvert_exporter": "python",
   "pygments_lexer": "ipython3",
   "version": "3.7.6"
  },
  "toc": {
   "base_numbering": 1,
   "nav_menu": {},
   "number_sections": true,
   "sideBar": true,
   "skip_h1_title": true,
   "title_cell": "Table of Contents",
   "title_sidebar": "Contents",
   "toc_cell": true,
   "toc_position": {},
   "toc_section_display": true,
   "toc_window_display": true
  }
 },
 "nbformat": 4,
 "nbformat_minor": 4
}

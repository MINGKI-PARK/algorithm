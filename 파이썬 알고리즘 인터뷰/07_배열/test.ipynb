{
 "cells": [
  {
   "cell_type": "code",
   "execution_count": 5,
   "metadata": {
    "ExecuteTime": {
     "end_time": "2021-01-20T02:19:14.860882Z",
     "start_time": "2021-01-20T02:19:14.850887Z"
    }
   },
   "outputs": [],
   "source": [
    "for i in range(10, 2):\n",
    "    print(i)"
   ]
  },
  {
   "cell_type": "code",
   "execution_count": 14,
   "metadata": {
    "ExecuteTime": {
     "end_time": "2021-01-20T02:26:18.142474Z",
     "start_time": "2021-01-20T02:26:18.134478Z"
    }
   },
   "outputs": [],
   "source": [
    "def arrayPairSum(nums):\n",
    "    nums.sort(reverse=True)\n",
    "    n = len(nums)\n",
    "    result = 0\n",
    "    for i in range(0, n, 2):\n",
    "        result += min(nums[i], nums[i+1])\n",
    "    return result"
   ]
  },
  {
   "cell_type": "code",
   "execution_count": 15,
   "metadata": {
    "ExecuteTime": {
     "end_time": "2021-01-20T02:26:19.826819Z",
     "start_time": "2021-01-20T02:26:19.807264Z"
    }
   },
   "outputs": [
    {
     "data": {
      "text/plain": [
       "4"
      ]
     },
     "execution_count": 15,
     "metadata": {},
     "output_type": "execute_result"
    }
   ],
   "source": [
    "arrayPairSum([1,4,3,2])"
   ]
  },
  {
   "cell_type": "code",
   "execution_count": 11,
   "metadata": {
    "ExecuteTime": {
     "end_time": "2021-01-20T02:25:54.633710Z",
     "start_time": "2021-01-20T02:25:54.617918Z"
    }
   },
   "outputs": [
    {
     "data": {
      "text/plain": [
       "[1, 2, 3, 4]"
      ]
     },
     "execution_count": 11,
     "metadata": {},
     "output_type": "execute_result"
    }
   ],
   "source": [
    "a = [1, 4, 3, 2]\n",
    "a.sort()\n",
    "a"
   ]
  },
  {
   "cell_type": "code",
   "execution_count": 17,
   "metadata": {
    "ExecuteTime": {
     "end_time": "2021-01-20T02:51:18.337585Z",
     "start_time": "2021-01-20T02:51:18.320633Z"
    }
   },
   "outputs": [
    {
     "data": {
      "text/plain": [
       "[2, 3, 4]"
      ]
     },
     "execution_count": 17,
     "metadata": {},
     "output_type": "execute_result"
    }
   ],
   "source": [
    "a = [1, 2, 3, 4]\n",
    "\n",
    "result = 1\n",
    "result *= a[1:]\n",
    "result"
   ]
  },
  {
   "cell_type": "code",
   "execution_count": null,
   "metadata": {},
   "outputs": [],
   "source": [
    "result = 1\n",
    "[for i in range]"
   ]
  },
  {
   "cell_type": "code",
   "execution_count": 3,
   "metadata": {
    "ExecuteTime": {
     "end_time": "2021-01-20T06:06:18.593786Z",
     "start_time": "2021-01-20T06:06:18.571476Z"
    }
   },
   "outputs": [],
   "source": [
    "def trap(height):\n",
    "    if not height:\n",
    "        return 0\n",
    "    \n",
    "    volume = 0\n",
    "    left, right = 0, len(height)-1\n",
    "    left_max, right_max = height[left], height[right]\n",
    "    \n",
    "    while left < right:\n",
    "        left_max = max(height[left], left_max)\n",
    "        right_max = max(height[right], right_max)\n",
    "        print('left : {}, right : {}'.format(left, right))\n",
    "        print('left_max : {}, right_max : {}'.format(left_max, right_max))\n",
    "        if left_max <= right_max:\n",
    "            volume += left_max - height[left]\n",
    "            left += 1\n",
    "        else:\n",
    "            volume += right_max - height[right]\n",
    "            right -= 1\n",
    "    \n",
    "    return volume"
   ]
  },
  {
   "cell_type": "code",
   "execution_count": null,
   "metadata": {},
   "outputs": [],
   "source": [
    "for i in range(len(height)):\n",
    "    left_max = max(height[left], left_max)\n",
    "    right_max = max(height[right], right_max)\n",
    "    \n",
    "    if left_max <= right_max:"
   ]
  },
  {
   "cell_type": "code",
   "execution_count": 4,
   "metadata": {
    "ExecuteTime": {
     "end_time": "2021-01-20T06:06:21.619378Z",
     "start_time": "2021-01-20T06:06:21.607407Z"
    }
   },
   "outputs": [
    {
     "name": "stdout",
     "output_type": "stream",
     "text": [
      "left : 0, right : 11\n",
      "left_max : 0, right_max : 1\n",
      "left : 1, right : 11\n",
      "left_max : 1, right_max : 1\n",
      "left : 2, right : 11\n",
      "left_max : 1, right_max : 1\n",
      "left : 3, right : 11\n",
      "left_max : 2, right_max : 1\n",
      "left : 3, right : 10\n",
      "left_max : 2, right_max : 2\n",
      "left : 4, right : 10\n",
      "left_max : 2, right_max : 2\n",
      "left : 5, right : 10\n",
      "left_max : 2, right_max : 2\n",
      "left : 6, right : 10\n",
      "left_max : 2, right_max : 2\n",
      "left : 7, right : 10\n",
      "left_max : 3, right_max : 2\n",
      "left : 7, right : 9\n",
      "left_max : 3, right_max : 2\n",
      "left : 7, right : 8\n",
      "left_max : 3, right_max : 2\n"
     ]
    },
    {
     "data": {
      "text/plain": [
       "6"
      ]
     },
     "execution_count": 4,
     "metadata": {},
     "output_type": "execute_result"
    }
   ],
   "source": [
    "a = [0,1,0,2,1,0,1,3,2,1,2,1]\n",
    "trap(a)"
   ]
  },
  {
   "cell_type": "code",
   "execution_count": 15,
   "metadata": {
    "ExecuteTime": {
     "end_time": "2021-01-20T06:24:36.113571Z",
     "start_time": "2021-01-20T06:24:36.095620Z"
    }
   },
   "outputs": [],
   "source": [
    "def trap(height):\n",
    "    answer = []\n",
    "    left_stack = [0] * len(height)\n",
    "    right_stack = [0] * len(height)\n",
    "    print(left_stack, right_stack)\n",
    "    left_max = 0\n",
    "    right_max = 0\n",
    "    \n",
    "    for i in range(0, len(height)):\n",
    "        if left_max < height[i]:\n",
    "            left_max = height[i]\n",
    "        left_stack[i] = left_max - height[i]\n",
    "    \n",
    "    for j in range(len(height)-1, -1, -1):\n",
    "        if right_max < height[j]:\n",
    "            right_max = height[j]\n",
    "        right_stack[j] = right_max - height[j]\n",
    "    \n",
    "    print(left_stack)\n",
    "    print(right_stack)\n",
    "    \n",
    "    for i in range(len(height)):\n",
    "        answer.append(min(left_stack[i], right_stack[i]))\n",
    "    return answer"
   ]
  },
  {
   "cell_type": "code",
   "execution_count": 16,
   "metadata": {
    "ExecuteTime": {
     "end_time": "2021-01-20T06:24:36.268678Z",
     "start_time": "2021-01-20T06:24:36.256710Z"
    }
   },
   "outputs": [
    {
     "name": "stdout",
     "output_type": "stream",
     "text": [
      "[0, 0, 0, 0, 0, 0, 0, 0, 0, 0, 0, 0] [0, 0, 0, 0, 0, 0, 0, 0, 0, 0, 0, 0]\n",
      "[0, 0, 1, 0, 1, 2, 1, 0, 1, 2, 1, 2]\n",
      "[3, 2, 3, 1, 2, 3, 2, 0, 0, 1, 0, 0]\n"
     ]
    },
    {
     "data": {
      "text/plain": [
       "[0, 0, 1, 0, 1, 2, 1, 0, 0, 1, 0, 0]"
      ]
     },
     "execution_count": 16,
     "metadata": {},
     "output_type": "execute_result"
    }
   ],
   "source": [
    "a = [0,1,0,2,1,0,1,3,2,1,2,1]\n",
    "trap(a)"
   ]
  },
  {
   "cell_type": "code",
   "execution_count": null,
   "metadata": {},
   "outputs": [],
   "source": [
    "for i in range(len(height)):\n",
    "    answer"
   ]
  },
  {
   "cell_type": "code",
   "execution_count": null,
   "metadata": {},
   "outputs": [],
   "source": []
  }
 ],
 "metadata": {
  "kernelspec": {
   "display_name": "Python 3",
   "language": "python",
   "name": "python3"
  },
  "language_info": {
   "codemirror_mode": {
    "name": "ipython",
    "version": 3
   },
   "file_extension": ".py",
   "mimetype": "text/x-python",
   "name": "python",
   "nbconvert_exporter": "python",
   "pygments_lexer": "ipython3",
   "version": "3.7.6"
  },
  "toc": {
   "base_numbering": 1,
   "nav_menu": {},
   "number_sections": true,
   "sideBar": true,
   "skip_h1_title": false,
   "title_cell": "Table of Contents",
   "title_sidebar": "Contents",
   "toc_cell": false,
   "toc_position": {},
   "toc_section_display": true,
   "toc_window_display": false
  }
 },
 "nbformat": 4,
 "nbformat_minor": 4
}

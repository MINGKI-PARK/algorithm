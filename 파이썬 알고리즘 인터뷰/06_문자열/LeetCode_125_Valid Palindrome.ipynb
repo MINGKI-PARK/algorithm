{
 "cells": [
  {
   "cell_type": "markdown",
   "metadata": {},
   "source": [
    "# LeetCode_125_Valid Palindrome\n",
    "\n",
    "+ LeetCode의 125번 문제"
   ]
  },
  {
   "cell_type": "markdown",
   "metadata": {},
   "source": [
    "## 문제\n",
    "\n",
    "Given a string, determine if it is a palindrome, considering only alphanumeric characters and ignoring cases.\n",
    "\n",
    "Note: For the purpose of this problem, we define empty string as valid palindrome.\n",
    "\n",
    "---\n",
    "\n",
    "+ Example 1:\n",
    "\n",
    "```\n",
    "Input: \"A man, a plan, a canal: Panama\"\n",
    "Output: true\n",
    "```\n",
    "\n",
    "+ Example 2:\n",
    "\n",
    "```\n",
    "Input: \"race a car\"\n",
    "Output: false\n",
    "``` "
   ]
  },
  {
   "cell_type": "markdown",
   "metadata": {},
   "source": [
    "## 풀이"
   ]
  },
  {
   "cell_type": "code",
   "execution_count": 4,
   "metadata": {
    "ExecuteTime": {
     "end_time": "2021-01-13T04:32:04.653741Z",
     "start_time": "2021-01-13T04:32:04.632584Z"
    }
   },
   "outputs": [
    {
     "name": "stdout",
     "output_type": "stream",
     "text": [
      "True\n"
     ]
    }
   ],
   "source": [
    "class Solution:\n",
    "    def isPalindrome(self, s: str) -> bool:\n",
    "        # 들어온 문자열을 전처리\n",
    "        # 1. 문자열을 소문자로 바꿔준다.\n",
    "        s = s.lower() \n",
    "        \n",
    "        # 2. 특수문자 제거\n",
    "        result = ''\n",
    "        for i in s:\n",
    "            if i.isalnum(): # 숫자와 알파벳인 경우 True를 반환한다. \n",
    "                result += i\n",
    "        \n",
    "        # palindrome인지 확인하기\n",
    "        if result != result[::-1]:\n",
    "            return False\n",
    "        return True\n",
    "\n",
    "# 확인하기\n",
    "if __name__ == \"__main__\":\n",
    "    # example 데이터\n",
    "    # \"A man, a plan, a canal: Panama\"\n",
    "    input_data = \"A man, a plan, a canal: Panama\"\n",
    "    \n",
    "    solution = Solution()\n",
    "\n",
    "    # 알고리즘 테스트\n",
    "    answer = solution.isPalindrome(input_data)\n",
    "    print(answer)"
   ]
  },
  {
   "cell_type": "markdown",
   "metadata": {},
   "source": [
    "## 시행착오"
   ]
  },
  {
   "cell_type": "code",
   "execution_count": 13,
   "metadata": {
    "ExecuteTime": {
     "end_time": "2021-01-13T05:45:13.633251Z",
     "start_time": "2021-01-13T05:45:13.611309Z"
    }
   },
   "outputs": [],
   "source": [
    "import string"
   ]
  },
  {
   "cell_type": "markdown",
   "metadata": {},
   "source": [
    "## 리마인드\n",
    "\n",
    "+ 소문자, 대문자\n",
    "+ 특수문자 제거\n",
    "    - .strip() : 양 쪽 끝만 제거\n",
    "    - .isalpha(), .isalnum()\n",
    "+ palindrome 확인하는 방법\n",
    "+ if __name__ == \"__main__\":\n",
    "    - 다시 확인하는 법\n",
    "\n",
    "\n",
    "### 필요한 것\n",
    "\n",
    "+ 아직 람다, 정규표현식, 리스트 컴프리헨션이 편하게 사용할 수 없음."
   ]
  }
 ],
 "metadata": {
  "kernelspec": {
   "display_name": "Python 3",
   "language": "python",
   "name": "python3"
  },
  "language_info": {
   "codemirror_mode": {
    "name": "ipython",
    "version": 3
   },
   "file_extension": ".py",
   "mimetype": "text/x-python",
   "name": "python",
   "nbconvert_exporter": "python",
   "pygments_lexer": "ipython3",
   "version": "3.7.6"
  },
  "toc": {
   "base_numbering": 1,
   "nav_menu": {},
   "number_sections": true,
   "sideBar": true,
   "skip_h1_title": true,
   "title_cell": "Table of Contents",
   "title_sidebar": "Contents",
   "toc_cell": false,
   "toc_position": {},
   "toc_section_display": true,
   "toc_window_display": false
  }
 },
 "nbformat": 4,
 "nbformat_minor": 4
}

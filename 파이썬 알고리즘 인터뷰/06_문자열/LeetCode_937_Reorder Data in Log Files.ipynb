{
 "cells": [
  {
   "cell_type": "markdown",
   "metadata": {},
   "source": [
    "# LeetCode_937_Reorder Data in Log Files"
   ]
  },
  {
   "cell_type": "markdown",
   "metadata": {},
   "source": [
    "## 문제\n",
    "\n",
    "You have an array of logs.  Each log is a space delimited string of words.\n",
    "\n",
    "For each log, the first word in each log is an alphanumeric identifier.  Then, either:\n",
    "\n",
    "+ Each word after the identifier will consist only of lowercase letters, or;\n",
    "+ Each word after the identifier will consist only of digits.\n",
    "\n",
    "We will call these two varieties of logs letter-logs and digit-logs.  It is guaranteed that each log has at least one word after its identifier.\n",
    "\n",
    "Reorder the logs so that all of the letter-logs come before any digit-log.  The letter-logs are ordered lexicographically ignoring identifier, with the identifier used in case of ties.  The digit-logs should be put in their original order.\n",
    "\n",
    "Return the final order of the logs.\n",
    "\n",
    " \n",
    "```\n",
    "Example 1:\n",
    "\n",
    "Input: logs = [\"dig1 8 1 5 1\",\"let1 art can\",\"dig2 3 6\",\"let2 own kit dig\",\"let3 art zero\"]\n",
    "Output: [\"let1 art can\",\"let3 art zero\",\"let2 own kit dig\",\"dig1 8 1 5 1\",\"dig2 3 6\"]\n",
    "```"
   ]
  },
  {
   "cell_type": "markdown",
   "metadata": {},
   "source": [
    "## 풀이"
   ]
  },
  {
   "cell_type": "code",
   "execution_count": 16,
   "metadata": {
    "ExecuteTime": {
     "end_time": "2021-01-13T06:31:17.582182Z",
     "start_time": "2021-01-13T06:31:17.563220Z"
    }
   },
   "outputs": [],
   "source": [
    "def reorderLogFiles(logs):\n",
    "    # 데이터 전처리\n",
    "    # 정렬하기 전에 문자와 숫자 로그를 나눠준다.\n",
    "    letters, digits = [], []\n",
    "    \n",
    "    for log in logs:\n",
    "        if log.split()[1].isdigit(): # log를 split으로 나눈 다음, 두 번째 요소로 분류해준다.\n",
    "            digits.append(log) # 숫자라면 digits 리스트에 넣어준다.\n",
    "        else:\n",
    "            letters.append(log) # 숫자가 아니라면 letters 리스트에 넣어준다.\n",
    "    \n",
    "    # letters 정렬하기\n",
    "    # 첫 번째 로그가 아니라 두 번째 요소를 기준으로 정렬해야 하므로\n",
    "    letters.sort(key=lambda x: (x.split()[1:], x.split()[0]))\n",
    "    \n",
    "    return letters + digits # 정렬한 letters와 digits를 합쳐서 리턴!    "
   ]
  },
  {
   "cell_type": "markdown",
   "metadata": {},
   "source": [
    "## 시행착오"
   ]
  },
  {
   "cell_type": "code",
   "execution_count": 10,
   "metadata": {
    "ExecuteTime": {
     "end_time": "2021-01-13T06:22:55.022119Z",
     "start_time": "2021-01-13T06:22:55.015137Z"
    }
   },
   "outputs": [
    {
     "data": {
      "text/plain": [
       "['dig1 8 1 5 1',\n",
       " 'let1 art can',\n",
       " 'dig2 3 6',\n",
       " 'let2 own kit dig',\n",
       " 'let3 art zero']"
      ]
     },
     "execution_count": 10,
     "metadata": {},
     "output_type": "execute_result"
    }
   ],
   "source": [
    "# 데이터 확인\n",
    "logs = [\"dig1 8 1 5 1\",\"let1 art can\",\"dig2 3 6\",\"let2 own kit dig\",\"let3 art zero\"]\n",
    "logs"
   ]
  },
  {
   "cell_type": "code",
   "execution_count": 4,
   "metadata": {
    "ExecuteTime": {
     "end_time": "2021-01-13T06:10:45.156134Z",
     "start_time": "2021-01-13T06:10:45.136159Z"
    }
   },
   "outputs": [
    {
     "data": {
      "text/plain": [
       "['dig1 8 1 5 1',\n",
       " 'dig2 3 6',\n",
       " 'let1 art can',\n",
       " 'let2 own kit dig',\n",
       " 'let3 art zero']"
      ]
     },
     "execution_count": 4,
     "metadata": {},
     "output_type": "execute_result"
    }
   ],
   "source": [
    "# 정렬했을 때 어떻게 나오는지 확인\n",
    "logs = [\"dig1 8 1 5 1\",\"let1 art can\",\"dig2 3 6\",\"let2 own kit dig\",\"let3 art zero\"]\n",
    "logs.sort()\n",
    "logs # 첫 번째 요소를 기준으로 정렬이 된다."
   ]
  },
  {
   "cell_type": "markdown",
   "metadata": {},
   "source": [
    "### 분류"
   ]
  },
  {
   "cell_type": "code",
   "execution_count": 18,
   "metadata": {
    "ExecuteTime": {
     "end_time": "2021-01-13T06:35:02.006180Z",
     "start_time": "2021-01-13T06:35:01.998201Z"
    }
   },
   "outputs": [
    {
     "name": "stdout",
     "output_type": "stream",
     "text": [
      "True\n",
      "True\n"
     ]
    }
   ],
   "source": [
    "# 숫자인지 확인하기\n",
    "print('1'.isdigit())\n",
    "\n",
    "# 알파벳인지 확인하기\n",
    "print('a'.isalpha())"
   ]
  },
  {
   "cell_type": "code",
   "execution_count": 23,
   "metadata": {
    "ExecuteTime": {
     "end_time": "2021-01-13T06:55:16.023263Z",
     "start_time": "2021-01-13T06:55:16.000325Z"
    }
   },
   "outputs": [
    {
     "data": {
      "text/plain": [
       "(['let1 art can', 'let2 own kit dig', 'let3 art zero'],\n",
       " ['dig1 8 1 5 1', 'dig2 3 6'])"
      ]
     },
     "execution_count": 23,
     "metadata": {},
     "output_type": "execute_result"
    }
   ],
   "source": [
    "# 문자 로그, 숫자 로그 나눠주기\n",
    "letters, digits = [], []\n",
    "for log in logs:\n",
    "    if log.split()[1].isdigit():\n",
    "        digits.append(log)\n",
    "    else:\n",
    "        letters.append(log)\n",
    "\n",
    "letters, digits"
   ]
  },
  {
   "cell_type": "code",
   "execution_count": 24,
   "metadata": {
    "ExecuteTime": {
     "end_time": "2021-01-13T06:55:16.438005Z",
     "start_time": "2021-01-13T06:55:16.417065Z"
    }
   },
   "outputs": [
    {
     "data": {
      "text/plain": [
       "['let1 art can',\n",
       " 'let3 art zero',\n",
       " 'let2 own kit dig',\n",
       " 'dig1 8 1 5 1',\n",
       " 'dig2 3 6']"
      ]
     },
     "execution_count": 24,
     "metadata": {},
     "output_type": "execute_result"
    }
   ],
   "source": [
    "# 람다 사용\n",
    "letters.sort(key=lambda x: (x.split()[1:], x.split()[0]))\n",
    "letters + digits"
   ]
  },
  {
   "cell_type": "code",
   "execution_count": 26,
   "metadata": {
    "ExecuteTime": {
     "end_time": "2021-01-13T06:55:23.430554Z",
     "start_time": "2021-01-13T06:55:23.410606Z"
    }
   },
   "outputs": [
    {
     "name": "stdout",
     "output_type": "stream",
     "text": [
      "['let1 art can', 'let3 art can', 'let2 art can', 'dig1 8 1 5 1', 'dig2 3 6']\n"
     ]
    }
   ],
   "source": [
    "# 만약 x.split()[0]을 넣지 않으면?\n",
    "letters.sort(key=lambda x: (x.split()[1:]))\n",
    "print(letters + digits) # 같은 값이 나온다."
   ]
  },
  {
   "cell_type": "code",
   "execution_count": 32,
   "metadata": {
    "ExecuteTime": {
     "end_time": "2021-01-13T06:56:49.669080Z",
     "start_time": "2021-01-13T06:56:49.649151Z"
    }
   },
   "outputs": [
    {
     "name": "stdout",
     "output_type": "stream",
     "text": [
      "['let1 art can', 'let3 art can', 'let2 art can', 'dig1 8 1 5 1', 'dig2 3 6']\n",
      "['let1 art can', 'let2 art can', 'let3 art can']\n"
     ]
    }
   ],
   "source": [
    "# 다른 경우\n",
    "letters = ['let1 art can',\n",
    " 'let3 art can',\n",
    " 'let2 art can']\n",
    "\n",
    "letters.sort(key=lambda x: (x.split()[1:]))\n",
    "print(letters + digits) # 같았을 때 식별자로 정렬이 되지 않음.\n",
    "\n",
    "letters.sort(key=lambda x: (x.split()[1:], x.split()[0]))\n",
    "print(letters) # 같았을 때 식별자를 기준으로도 정렬이 된다."
   ]
  },
  {
   "cell_type": "code",
   "execution_count": 20,
   "metadata": {
    "ExecuteTime": {
     "end_time": "2021-01-13T06:37:50.738345Z",
     "start_time": "2021-01-13T06:37:50.726376Z"
    }
   },
   "outputs": [
    {
     "data": {
      "text/plain": [
       "['let1 art can', 'let3 art zero', 'let2 own kit dig']"
      ]
     },
     "execution_count": 20,
     "metadata": {},
     "output_type": "execute_result"
    }
   ],
   "source": [
    "# 람다식이 아닌 함수를 만들어서 풀기\n",
    "def func(x):\n",
    "    return x.split()[1:], x.split()[0]\n",
    "\n",
    "letters.sort(key=func)\n",
    "letters"
   ]
  },
  {
   "cell_type": "markdown",
   "metadata": {},
   "source": [
    "## 정리\n",
    "\n",
    "### 리마인드\n",
    "+ 숫자 확인 : isdigit()\n",
    "+ 람다\n",
    "+ sort 파라미터 `key`\n",
    "+ key 파라미터에 람다가 아닌 함수로도 가능하다는 것\n",
    "\n",
    "### 필요한 것\n",
    "+ 문제가 이해가 되지 않아서 초반에 헤맸음.\n",
    "+ 람다는 여전히 필요함."
   ]
  }
 ],
 "metadata": {
  "kernelspec": {
   "display_name": "Python 3",
   "language": "python",
   "name": "python3"
  },
  "language_info": {
   "codemirror_mode": {
    "name": "ipython",
    "version": 3
   },
   "file_extension": ".py",
   "mimetype": "text/x-python",
   "name": "python",
   "nbconvert_exporter": "python",
   "pygments_lexer": "ipython3",
   "version": "3.7.6"
  },
  "toc": {
   "base_numbering": 1,
   "nav_menu": {},
   "number_sections": true,
   "sideBar": true,
   "skip_h1_title": true,
   "title_cell": "Table of Contents",
   "title_sidebar": "Contents",
   "toc_cell": false,
   "toc_position": {},
   "toc_section_display": true,
   "toc_window_display": true
  }
 },
 "nbformat": 4,
 "nbformat_minor": 4
}

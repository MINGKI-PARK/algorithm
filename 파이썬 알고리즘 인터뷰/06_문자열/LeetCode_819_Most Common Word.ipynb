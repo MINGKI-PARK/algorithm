{
 "cells": [
  {
   "cell_type": "markdown",
   "metadata": {},
   "source": [
    "# LeetCode_819_Most Common Word"
   ]
  },
  {
   "cell_type": "markdown",
   "metadata": {},
   "source": [
    "## 문제\n",
    "\n",
    "Given a paragraph and a list of banned words, return the most frequent word that is not in the list of banned words.  It is guaranteed there is at least one word that isn't banned, and that the answer is unique.\n",
    "\n",
    "Words in the list of banned words are given in lowercase, and free of punctuation.  Words in the paragraph are not case sensitive.  The answer is in lowercase.\n",
    "\n",
    " \n",
    "```\n",
    "Example:\n",
    "\n",
    "Input: \n",
    "paragraph = \"Bob hit a ball, the hit BALL flew far after it was hit.\"\n",
    "banned = [\"hit\"]\n",
    "Output: \"ball\"\n",
    "Explanation: \n",
    "\"hit\" occurs 3 times, but it is a banned word.\n",
    "\"ball\" occurs twice (and no other word does), so it is the most frequent non-banned word in the paragraph. \n",
    "Note that words in the paragraph are not case sensitive,\n",
    "that punctuation is ignored (even if adjacent to words, such as \"ball,\"), \n",
    "and that \"hit\" isn't the answer even though it occurs more because it is banned.\n",
    "```"
   ]
  },
  {
   "cell_type": "markdown",
   "metadata": {},
   "source": [
    "## 풀이"
   ]
  },
  {
   "cell_type": "code",
   "execution_count": 62,
   "metadata": {
    "ExecuteTime": {
     "end_time": "2021-01-12T17:32:51.787413Z",
     "start_time": "2021-01-12T17:32:51.777438Z"
    }
   },
   "outputs": [],
   "source": [
    "def mostCommonWord(paragraph, banned):\n",
    "    d = dict()\n",
    "    for i in paragraph.lower().split():\n",
    "        i = i.strip('.,!?:;')\n",
    "        if i not in d:\n",
    "            d[i] = 1\n",
    "        else:\n",
    "            d[i] += 1\n",
    "\n",
    "    for ban in banned:\n",
    "        d.pop(ban, 0)\n",
    "\n",
    "    return max(d, key=lambda k: d[k])"
   ]
  },
  {
   "cell_type": "markdown",
   "metadata": {},
   "source": [
    "## 시행착오"
   ]
  },
  {
   "cell_type": "code",
   "execution_count": 98,
   "metadata": {
    "ExecuteTime": {
     "end_time": "2021-01-13T07:38:29.443836Z",
     "start_time": "2021-01-13T07:38:29.431865Z"
    }
   },
   "outputs": [],
   "source": [
    "paragraph = \"Bob hit a ball, the hit BALL flew far after it was hit.\"\n",
    "banned = ['hit']"
   ]
  },
  {
   "cell_type": "code",
   "execution_count": 64,
   "metadata": {
    "ExecuteTime": {
     "end_time": "2021-01-12T17:32:56.375004Z",
     "start_time": "2021-01-12T17:32:56.368016Z"
    }
   },
   "outputs": [
    {
     "data": {
      "text/plain": [
       "'a'"
      ]
     },
     "execution_count": 64,
     "metadata": {},
     "output_type": "execute_result"
    }
   ],
   "source": [
    "paragraph = \"a.\"\n",
    "banned = []\n",
    "\n"
   ]
  },
  {
   "cell_type": "code",
   "execution_count": 65,
   "metadata": {
    "ExecuteTime": {
     "end_time": "2021-01-12T17:32:58.339689Z",
     "start_time": "2021-01-12T17:32:58.319740Z"
    }
   },
   "outputs": [
    {
     "data": {
      "text/plain": [
       "'bob'"
      ]
     },
     "execution_count": 65,
     "metadata": {},
     "output_type": "execute_result"
    }
   ],
   "source": [
    "paragraph = \"Bob!\"\n",
    "banned = ['hit']\n",
    "\n",
    "mostCommonWord(paragraph, banned)"
   ]
  },
  {
   "cell_type": "code",
   "execution_count": 69,
   "metadata": {
    "ExecuteTime": {
     "end_time": "2021-01-12T17:40:43.868351Z",
     "start_time": "2021-01-12T17:40:43.848397Z"
    }
   },
   "outputs": [
    {
     "name": "stdout",
     "output_type": "stream",
     "text": [
      "a\n",
      "a\n",
      "a\n",
      "a\n",
      "b,b,b,c\n",
      "c\n"
     ]
    },
    {
     "data": {
      "text/plain": [
       "'a'"
      ]
     },
     "execution_count": 69,
     "metadata": {},
     "output_type": "execute_result"
    }
   ],
   "source": [
    "d = dict()\n",
    "for i in paragraph.lower().split():\n",
    "    i = i.strip('.,')\n",
    "    print(i)\n",
    "    if i not in d:\n",
    "        d[i] = 1\n",
    "    else:\n",
    "        d[i] += 1\n",
    "    \n",
    "for ban in banned:\n",
    "    d.pop(ban, 0)\n",
    "max(d, key=lambda k: d[k])\n",
    "    "
   ]
  },
  {
   "cell_type": "code",
   "execution_count": 76,
   "metadata": {
    "ExecuteTime": {
     "end_time": "2021-01-12T17:42:15.900107Z",
     "start_time": "2021-01-12T17:42:15.888117Z"
    }
   },
   "outputs": [
    {
     "data": {
      "text/plain": [
       "'a'"
      ]
     },
     "execution_count": 76,
     "metadata": {},
     "output_type": "execute_result"
    }
   ],
   "source": [
    "max(d)\n",
    "key = lambda k : d[k]\n",
    "max(d, key = lambda k : d[k])"
   ]
  },
  {
   "cell_type": "code",
   "execution_count": 35,
   "metadata": {
    "ExecuteTime": {
     "end_time": "2021-01-12T14:54:58.592727Z",
     "start_time": "2021-01-12T14:54:58.583783Z"
    }
   },
   "outputs": [
    {
     "data": {
      "text/plain": [
       "'hit'"
      ]
     },
     "execution_count": 35,
     "metadata": {},
     "output_type": "execute_result"
    }
   ],
   "source": [
    "banned = ['hit']\n",
    "banned[0]"
   ]
  },
  {
   "cell_type": "code",
   "execution_count": 60,
   "metadata": {
    "ExecuteTime": {
     "end_time": "2021-01-12T17:31:30.382533Z",
     "start_time": "2021-01-12T17:31:30.369569Z"
    }
   },
   "outputs": [],
   "source": [
    "for i in []:\n",
    "    i"
   ]
  },
  {
   "cell_type": "code",
   "execution_count": 37,
   "metadata": {
    "ExecuteTime": {
     "end_time": "2021-01-12T14:54:59.891592Z",
     "start_time": "2021-01-12T14:54:59.872597Z"
    }
   },
   "outputs": [
    {
     "data": {
      "text/plain": [
       "False"
      ]
     },
     "execution_count": 37,
     "metadata": {},
     "output_type": "execute_result"
    }
   ],
   "source": [
    "banned[0] in d"
   ]
  },
  {
   "cell_type": "code",
   "execution_count": 38,
   "metadata": {
    "ExecuteTime": {
     "end_time": "2021-01-12T14:55:00.428873Z",
     "start_time": "2021-01-12T14:55:00.416916Z"
    }
   },
   "outputs": [
    {
     "data": {
      "text/plain": [
       "dict_values([1, 1, 2, 1, 1, 1, 1, 1, 1])"
      ]
     },
     "execution_count": 38,
     "metadata": {},
     "output_type": "execute_result"
    }
   ],
   "source": [
    "d.values()"
   ]
  },
  {
   "cell_type": "code",
   "execution_count": 39,
   "metadata": {
    "ExecuteTime": {
     "end_time": "2021-01-12T14:55:01.042573Z",
     "start_time": "2021-01-12T14:55:01.031606Z"
    }
   },
   "outputs": [
    {
     "data": {
      "text/plain": [
       "2"
      ]
     },
     "execution_count": 39,
     "metadata": {},
     "output_type": "execute_result"
    }
   ],
   "source": [
    "max(d.values())"
   ]
  },
  {
   "cell_type": "code",
   "execution_count": 40,
   "metadata": {
    "ExecuteTime": {
     "end_time": "2021-01-12T14:55:01.826223Z",
     "start_time": "2021-01-12T14:55:01.816206Z"
    }
   },
   "outputs": [
    {
     "data": {
      "text/plain": [
       "'ball'"
      ]
     },
     "execution_count": 40,
     "metadata": {},
     "output_type": "execute_result"
    }
   ],
   "source": [
    "max(d, key=lambda k: d[k])"
   ]
  },
  {
   "cell_type": "code",
   "execution_count": 41,
   "metadata": {
    "ExecuteTime": {
     "end_time": "2021-01-12T14:55:02.166501Z",
     "start_time": "2021-01-12T14:55:02.156528Z"
    }
   },
   "outputs": [
    {
     "data": {
      "text/plain": [
       "'was'"
      ]
     },
     "execution_count": 41,
     "metadata": {},
     "output_type": "execute_result"
    }
   ],
   "source": [
    "max(d)"
   ]
  },
  {
   "cell_type": "code",
   "execution_count": 77,
   "metadata": {
    "ExecuteTime": {
     "end_time": "2021-01-12T17:50:10.513688Z",
     "start_time": "2021-01-12T17:50:10.504721Z"
    }
   },
   "outputs": [
    {
     "data": {
      "text/plain": [
       "['a,', 'a,', 'a,', 'a,', 'b,b,b,c,', 'c']"
      ]
     },
     "execution_count": 77,
     "metadata": {},
     "output_type": "execute_result"
    }
   ],
   "source": [
    "paragraph = \"a, a, a, a, b,b,b,c, c\"\n",
    "paragraph.split()\n"
   ]
  },
  {
   "cell_type": "code",
   "execution_count": null,
   "metadata": {},
   "outputs": [],
   "source": [
    "class Solution:\n",
    "    def mostCommonWord(self, paragraph: str, banned: List[str]) -> str:\n",
    "\n",
    "        banned_words = set(banned)\n",
    "        ans = ''\n",
    "        max_count = 0\n",
    "        word_count = defaultdict(int)\n",
    "        word_buffer = []\n",
    "\n",
    "        for p, char in enumerate(paragraph):\n",
    "            #1). consume the characters in a word\n",
    "            if char.isalnum():\n",
    "                word_buffer.append(char.lower())\n",
    "                if p != len(paragraph)-1:\n",
    "                    continue\n",
    "\n",
    "            #2). at the end of one word or at the end of paragraph\n",
    "            if len(word_buffer) > 0:\n",
    "                word = \"\".join(word_buffer)\n",
    "                if word not in banned_words:\n",
    "                    word_count[word] +=1\n",
    "                    if word_count[word] > max_count:\n",
    "                        max_count = word_count[word]\n",
    "                        ans = word\n",
    "                # reset the buffer for the next word\n",
    "                word_buffer = []\n",
    "\n",
    "        return ans"
   ]
  },
  {
   "cell_type": "code",
   "execution_count": 91,
   "metadata": {
    "ExecuteTime": {
     "end_time": "2021-01-12T18:01:08.726870Z",
     "start_time": "2021-01-12T18:01:08.715927Z"
    }
   },
   "outputs": [],
   "source": [
    "paragraph = \"Bob hit a ball, the hit BALL flew far after it was hit.\"\n",
    "banned = ['hit']"
   ]
  },
  {
   "cell_type": "code",
   "execution_count": 93,
   "metadata": {
    "ExecuteTime": {
     "end_time": "2021-01-12T18:01:34.996182Z",
     "start_time": "2021-01-12T18:01:34.973244Z"
    }
   },
   "outputs": [
    {
     "name": "stdout",
     "output_type": "stream",
     "text": [
      "bob\n"
     ]
    },
    {
     "ename": "KeyError",
     "evalue": "'bob'",
     "output_type": "error",
     "traceback": [
      "\u001b[1;31m---------------------------------------------------------------------------\u001b[0m",
      "\u001b[1;31mKeyError\u001b[0m                                  Traceback (most recent call last)",
      "\u001b[1;32m<ipython-input-93-2b199188d638>\u001b[0m in \u001b[0;36m<module>\u001b[1;34m\u001b[0m\n\u001b[0;32m     20\u001b[0m         \u001b[0mprint\u001b[0m\u001b[1;33m(\u001b[0m\u001b[0mword\u001b[0m\u001b[1;33m)\u001b[0m\u001b[1;33m\u001b[0m\u001b[1;33m\u001b[0m\u001b[0m\n\u001b[0;32m     21\u001b[0m         \u001b[1;32mif\u001b[0m \u001b[0mword\u001b[0m \u001b[1;32mnot\u001b[0m \u001b[1;32min\u001b[0m \u001b[0mbanned_words\u001b[0m\u001b[1;33m:\u001b[0m\u001b[1;33m\u001b[0m\u001b[1;33m\u001b[0m\u001b[0m\n\u001b[1;32m---> 22\u001b[1;33m             \u001b[0mword_count\u001b[0m\u001b[1;33m[\u001b[0m\u001b[0mword\u001b[0m\u001b[1;33m]\u001b[0m \u001b[1;33m+=\u001b[0m\u001b[1;36m1\u001b[0m\u001b[1;33m\u001b[0m\u001b[1;33m\u001b[0m\u001b[0m\n\u001b[0m\u001b[0;32m     23\u001b[0m             \u001b[1;32mif\u001b[0m \u001b[0mword_count\u001b[0m\u001b[1;33m[\u001b[0m\u001b[0mword\u001b[0m\u001b[1;33m]\u001b[0m \u001b[1;33m>\u001b[0m \u001b[0mmax_count\u001b[0m\u001b[1;33m:\u001b[0m\u001b[1;33m\u001b[0m\u001b[1;33m\u001b[0m\u001b[0m\n\u001b[0;32m     24\u001b[0m                 \u001b[0mmax_count\u001b[0m \u001b[1;33m=\u001b[0m \u001b[0mword_count\u001b[0m\u001b[1;33m[\u001b[0m\u001b[0mword\u001b[0m\u001b[1;33m]\u001b[0m\u001b[1;33m\u001b[0m\u001b[1;33m\u001b[0m\u001b[0m\n",
      "\u001b[1;31mKeyError\u001b[0m: 'bob'"
     ]
    }
   ],
   "source": [
    "banned_words = set(banned)\n",
    "ans = ''\n",
    "max_count = 0\n",
    "word_count = dict()\n",
    "word_buffer = []\n",
    "\n",
    "\n",
    "\n",
    "for p, char in enumerate(paragraph):\n",
    "#     print(p, char)\n",
    "    #1). consume the characters in a word\n",
    "    if char.isalnum():\n",
    "        word_buffer.append(char.lower())\n",
    "        if p != len(paragraph)-1:\n",
    "                continue\n",
    "\n",
    "    #2). at the end of one word or at the end of paragraph\n",
    "    if len(word_buffer) > 0:\n",
    "        word = \"\".join(word_buffer)\n",
    "        print(word)\n",
    "        if word not in banned_words:\n",
    "            word_count[word] +=1\n",
    "            if word_count[word] > max_count:\n",
    "                max_count = word_count[word]\n",
    "                ans = word\n",
    "        # reset the buffer for the next word\n",
    "        word_buffer = []"
   ]
  },
  {
   "cell_type": "code",
   "execution_count": 88,
   "metadata": {
    "ExecuteTime": {
     "end_time": "2021-01-12T17:56:11.564168Z",
     "start_time": "2021-01-12T17:56:11.541244Z"
    }
   },
   "outputs": [
    {
     "ename": "KeyError",
     "evalue": "'bobhitaballthehitballflewfarafteritwashit'",
     "output_type": "error",
     "traceback": [
      "\u001b[1;31m---------------------------------------------------------------------------\u001b[0m",
      "\u001b[1;31mKeyError\u001b[0m                                  Traceback (most recent call last)",
      "\u001b[1;32m<ipython-input-88-b80931361274>\u001b[0m in \u001b[0;36m<module>\u001b[1;34m\u001b[0m\n\u001b[0;32m      3\u001b[0m     \u001b[0mword\u001b[0m \u001b[1;33m=\u001b[0m \u001b[1;34m\"\"\u001b[0m\u001b[1;33m.\u001b[0m\u001b[0mjoin\u001b[0m\u001b[1;33m(\u001b[0m\u001b[0mword_buffer\u001b[0m\u001b[1;33m)\u001b[0m\u001b[1;33m\u001b[0m\u001b[1;33m\u001b[0m\u001b[0m\n\u001b[0;32m      4\u001b[0m     \u001b[1;32mif\u001b[0m \u001b[0mword\u001b[0m \u001b[1;32mnot\u001b[0m \u001b[1;32min\u001b[0m \u001b[0mbanned_words\u001b[0m\u001b[1;33m:\u001b[0m\u001b[1;33m\u001b[0m\u001b[1;33m\u001b[0m\u001b[0m\n\u001b[1;32m----> 5\u001b[1;33m         \u001b[0mword_count\u001b[0m\u001b[1;33m[\u001b[0m\u001b[0mword\u001b[0m\u001b[1;33m]\u001b[0m \u001b[1;33m+=\u001b[0m\u001b[1;36m1\u001b[0m\u001b[1;33m\u001b[0m\u001b[1;33m\u001b[0m\u001b[0m\n\u001b[0m\u001b[0;32m      6\u001b[0m         \u001b[1;32mif\u001b[0m \u001b[0mword_count\u001b[0m\u001b[1;33m[\u001b[0m\u001b[0mword\u001b[0m\u001b[1;33m]\u001b[0m \u001b[1;33m>\u001b[0m \u001b[0mmax_count\u001b[0m\u001b[1;33m:\u001b[0m\u001b[1;33m\u001b[0m\u001b[1;33m\u001b[0m\u001b[0m\n\u001b[0;32m      7\u001b[0m             \u001b[0mmax_count\u001b[0m \u001b[1;33m=\u001b[0m \u001b[0mword_count\u001b[0m\u001b[1;33m[\u001b[0m\u001b[0mword\u001b[0m\u001b[1;33m]\u001b[0m\u001b[1;33m\u001b[0m\u001b[1;33m\u001b[0m\u001b[0m\n",
      "\u001b[1;31mKeyError\u001b[0m: 'bobhitaballthehitballflewfarafteritwashit'"
     ]
    }
   ],
   "source": [
    "#2). at the end of one word or at the end of paragraph\n",
    "if len(word_buffer) > 0:\n",
    "    word = \"\".join(word_buffer)\n",
    "    if word not in banned_words:\n",
    "        word_count[word] +=1\n",
    "        if word_count[word] > max_count:\n",
    "            max_count = word_count[word]\n",
    "            ans = word\n",
    "    # reset the buffer for the next word\n",
    "    word_buffer = []"
   ]
  },
  {
   "cell_type": "code",
   "execution_count": 96,
   "metadata": {
    "ExecuteTime": {
     "end_time": "2021-01-12T18:03:09.373294Z",
     "start_time": "2021-01-12T18:03:09.348359Z"
    }
   },
   "outputs": [],
   "source": [
    "def mostCommonWord(paragraph, banned):\n",
    "\n",
    "    banned_words = set(banned)\n",
    "    ans = ''\n",
    "    max_count = 0\n",
    "    word_count = dict()\n",
    "    word_buffer = []\n",
    "\n",
    "    for p, char in enumerate(paragraph):\n",
    "        #1). consume the characters in a word\n",
    "        if char.isalnum():\n",
    "            word_buffer.append(char.lower())\n",
    "            if p != len(paragraph)-1:\n",
    "                continue\n",
    "\n",
    "        #2). at the end of one word or at the end of paragraph\n",
    "        if len(word_buffer) > 0:\n",
    "            word = \"\".join(word_buffer)\n",
    "            if word not in banned_words:\n",
    "                word_count[word] +=1\n",
    "                if word_count[word] > max_count:\n",
    "                    max_count = word_count[word]\n",
    "                    ans = word\n",
    "            # reset the buffer for the next word\n",
    "            word_buffer = []\n",
    "\n",
    "    return ans"
   ]
  },
  {
   "cell_type": "code",
   "execution_count": 97,
   "metadata": {
    "ExecuteTime": {
     "end_time": "2021-01-12T18:03:11.548846Z",
     "start_time": "2021-01-12T18:03:11.523907Z"
    }
   },
   "outputs": [
    {
     "ename": "KeyError",
     "evalue": "'bob'",
     "output_type": "error",
     "traceback": [
      "\u001b[1;31m---------------------------------------------------------------------------\u001b[0m",
      "\u001b[1;31mKeyError\u001b[0m                                  Traceback (most recent call last)",
      "\u001b[1;32m<ipython-input-97-727f4e359daf>\u001b[0m in \u001b[0;36m<module>\u001b[1;34m\u001b[0m\n\u001b[0;32m      2\u001b[0m \u001b[0mbanned\u001b[0m \u001b[1;33m=\u001b[0m \u001b[1;33m[\u001b[0m\u001b[1;34m'hit'\u001b[0m\u001b[1;33m]\u001b[0m\u001b[1;33m\u001b[0m\u001b[1;33m\u001b[0m\u001b[0m\n\u001b[0;32m      3\u001b[0m \u001b[1;33m\u001b[0m\u001b[0m\n\u001b[1;32m----> 4\u001b[1;33m \u001b[0mmostCommonWord\u001b[0m\u001b[1;33m(\u001b[0m\u001b[0mparagraph\u001b[0m\u001b[1;33m,\u001b[0m \u001b[0mbanned\u001b[0m\u001b[1;33m)\u001b[0m\u001b[1;33m\u001b[0m\u001b[1;33m\u001b[0m\u001b[0m\n\u001b[0m",
      "\u001b[1;32m<ipython-input-96-aa002b79dbef>\u001b[0m in \u001b[0;36mmostCommonWord\u001b[1;34m(paragraph, banned)\u001b[0m\n\u001b[0;32m     18\u001b[0m             \u001b[0mword\u001b[0m \u001b[1;33m=\u001b[0m \u001b[1;34m\"\"\u001b[0m\u001b[1;33m.\u001b[0m\u001b[0mjoin\u001b[0m\u001b[1;33m(\u001b[0m\u001b[0mword_buffer\u001b[0m\u001b[1;33m)\u001b[0m\u001b[1;33m\u001b[0m\u001b[1;33m\u001b[0m\u001b[0m\n\u001b[0;32m     19\u001b[0m             \u001b[1;32mif\u001b[0m \u001b[0mword\u001b[0m \u001b[1;32mnot\u001b[0m \u001b[1;32min\u001b[0m \u001b[0mbanned_words\u001b[0m\u001b[1;33m:\u001b[0m\u001b[1;33m\u001b[0m\u001b[1;33m\u001b[0m\u001b[0m\n\u001b[1;32m---> 20\u001b[1;33m                 \u001b[0mword_count\u001b[0m\u001b[1;33m[\u001b[0m\u001b[0mword\u001b[0m\u001b[1;33m]\u001b[0m \u001b[1;33m+=\u001b[0m\u001b[1;36m1\u001b[0m\u001b[1;33m\u001b[0m\u001b[1;33m\u001b[0m\u001b[0m\n\u001b[0m\u001b[0;32m     21\u001b[0m                 \u001b[1;32mif\u001b[0m \u001b[0mword_count\u001b[0m\u001b[1;33m[\u001b[0m\u001b[0mword\u001b[0m\u001b[1;33m]\u001b[0m \u001b[1;33m>\u001b[0m \u001b[0mmax_count\u001b[0m\u001b[1;33m:\u001b[0m\u001b[1;33m\u001b[0m\u001b[1;33m\u001b[0m\u001b[0m\n\u001b[0;32m     22\u001b[0m                     \u001b[0mmax_count\u001b[0m \u001b[1;33m=\u001b[0m \u001b[0mword_count\u001b[0m\u001b[1;33m[\u001b[0m\u001b[0mword\u001b[0m\u001b[1;33m]\u001b[0m\u001b[1;33m\u001b[0m\u001b[1;33m\u001b[0m\u001b[0m\n",
      "\u001b[1;31mKeyError\u001b[0m: 'bob'"
     ]
    }
   ],
   "source": [
    "paragraph = \"Bob hit a ball, the hit BALL flew far after it was hit.\"\n",
    "banned = ['hit']\n",
    "\n",
    "mostCommonWord(paragraph, banned)"
   ]
  },
  {
   "cell_type": "code",
   "execution_count": 100,
   "metadata": {
    "ExecuteTime": {
     "end_time": "2021-01-13T07:53:30.196434Z",
     "start_time": "2021-01-13T07:53:30.187275Z"
    }
   },
   "outputs": [],
   "source": [
    "paragraph = \"Bob hit a ball, the hit BALL flew far after it was hit.\"\n",
    "banned = ['hit']\n",
    "\n",
    "# 문자열 확인\n"
   ]
  },
  {
   "cell_type": "code",
   "execution_count": 102,
   "metadata": {
    "ExecuteTime": {
     "end_time": "2021-01-13T07:56:20.318870Z",
     "start_time": "2021-01-13T07:56:20.305898Z"
    }
   },
   "outputs": [
    {
     "data": {
      "text/plain": [
       "['bob',\n",
       " 'hit',\n",
       " 'a',\n",
       " 'ball',\n",
       " 'the',\n",
       " 'hit',\n",
       " 'ball',\n",
       " 'flew',\n",
       " 'far',\n",
       " 'after',\n",
       " 'it',\n",
       " 'was',\n",
       " 'hit']"
      ]
     },
     "execution_count": 102,
     "metadata": {},
     "output_type": "execute_result"
    }
   ],
   "source": [
    "import string\n",
    "\n",
    "result = []\n",
    "\n",
    "# 나눠서 반복\n",
    "for word in paragraph.split():\n",
    "    result.append(word.lower().strip(string.punctuation)) # 소문자로 변경, 특수문자 제거\n",
    "    \n",
    "for i in result:\n",
    "    if i not in banned:\n",
    "        "
   ]
  },
  {
   "cell_type": "code",
   "execution_count": null,
   "metadata": {},
   "outputs": [],
   "source": []
  },
  {
   "cell_type": "code",
   "execution_count": null,
   "metadata": {},
   "outputs": [],
   "source": []
  },
  {
   "cell_type": "code",
   "execution_count": null,
   "metadata": {},
   "outputs": [],
   "source": []
  },
  {
   "cell_type": "code",
   "execution_count": null,
   "metadata": {},
   "outputs": [],
   "source": []
  }
 ],
 "metadata": {
  "kernelspec": {
   "display_name": "Python 3",
   "language": "python",
   "name": "python3"
  },
  "language_info": {
   "codemirror_mode": {
    "name": "ipython",
    "version": 3
   },
   "file_extension": ".py",
   "mimetype": "text/x-python",
   "name": "python",
   "nbconvert_exporter": "python",
   "pygments_lexer": "ipython3",
   "version": "3.7.6"
  },
  "toc": {
   "base_numbering": 1,
   "nav_menu": {},
   "number_sections": true,
   "sideBar": true,
   "skip_h1_title": true,
   "title_cell": "Table of Contents",
   "title_sidebar": "Contents",
   "toc_cell": false,
   "toc_position": {},
   "toc_section_display": true,
   "toc_window_display": true
  }
 },
 "nbformat": 4,
 "nbformat_minor": 4
}

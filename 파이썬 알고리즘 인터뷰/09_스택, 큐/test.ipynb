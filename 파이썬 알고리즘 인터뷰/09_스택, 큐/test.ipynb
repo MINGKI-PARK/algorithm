{
 "cells": [
  {
   "cell_type": "code",
   "execution_count": 11,
   "metadata": {
    "ExecuteTime": {
     "end_time": "2021-01-30T17:49:06.813114Z",
     "start_time": "2021-01-30T17:49:06.804172Z"
    }
   },
   "outputs": [],
   "source": [
    "# 20. 유효한 괄호\n",
    "# 리트코드 20. Valid Parentheses\n",
    "\n",
    "# 괄호로 된 입력값이 올바른지 판별하라\n",
    "\n",
    "def isValid(s):\n",
    "    stack = []\n",
    "    table = {\n",
    "        ')' : '(',\n",
    "        '}' : '{',\n",
    "        ']' : '['\n",
    "    }\n",
    "\n",
    "    for char in s:\n",
    "        if char not in table:\n",
    "            print(char)\n",
    "            stack.append(char)\n",
    "            print(stack)\n",
    "        elif not stack or table[char] != stack.pop():\n",
    "            return False\n",
    "\n",
    "        return len(stack) == 0"
   ]
  },
  {
   "cell_type": "code",
   "execution_count": 8,
   "metadata": {
    "ExecuteTime": {
     "end_time": "2021-01-30T17:33:13.261787Z",
     "start_time": "2021-01-30T17:33:13.252810Z"
    }
   },
   "outputs": [
    {
     "data": {
      "text/plain": [
       "True"
      ]
     },
     "execution_count": 8,
     "metadata": {},
     "output_type": "execute_result"
    }
   ],
   "source": [
    "st = []\n",
    "table = {\n",
    "    ')' : '(',\n",
    "    '}' : '{',\n",
    "    ']' : '['\n",
    "}\n",
    "\n",
    "']' in table"
   ]
  },
  {
   "cell_type": "code",
   "execution_count": 12,
   "metadata": {
    "ExecuteTime": {
     "end_time": "2021-01-30T17:49:14.560120Z",
     "start_time": "2021-01-30T17:49:14.549157Z"
    }
   },
   "outputs": [
    {
     "name": "stdout",
     "output_type": "stream",
     "text": [
      "(\n",
      "['(']\n"
     ]
    },
    {
     "data": {
      "text/plain": [
       "False"
      ]
     },
     "execution_count": 12,
     "metadata": {},
     "output_type": "execute_result"
    }
   ],
   "source": [
    "s = '()'\n",
    "isValid(s)"
   ]
  },
  {
   "cell_type": "code",
   "execution_count": 13,
   "metadata": {
    "ExecuteTime": {
     "end_time": "2021-01-30T17:59:43.022436Z",
     "start_time": "2021-01-30T17:59:43.003490Z"
    }
   },
   "outputs": [],
   "source": [
    "def isValid(s):\n",
    "    \"\"\"\n",
    "    :type s: str\n",
    "    :rtype: bool\n",
    "    \"\"\"\n",
    "\n",
    "    # The stack to keep track of opening brackets.\n",
    "    stack = []\n",
    "\n",
    "    # Hash map for keeping track of mappings. This keeps the code very clean.\n",
    "    # Also makes adding more types of parenthesis easier\n",
    "    mapping = {\")\": \"(\", \"}\": \"{\", \"]\": \"[\"}\n",
    "\n",
    "    # For every bracket in the expression.\n",
    "    for char in s:\n",
    "\n",
    "        # If the character is an closing bracket\n",
    "        if char in mapping:\n",
    "\n",
    "            # Pop the topmost element from the stack, if it is non empty\n",
    "            # Otherwise assign a dummy value of '#' to the top_element variable\n",
    "            top_element = stack.pop() if stack else '#'\n",
    "\n",
    "            # The mapping for the opening bracket in our hash and the top\n",
    "            # element of the stack don't match, return False\n",
    "            if mapping[char] != top_element:\n",
    "                return False\n",
    "        else:\n",
    "            # We have an opening bracket, simply push it onto the stack.\n",
    "            stack.append(char)\n",
    "\n",
    "    # In the end, if the stack is empty, then we have a valid expression.\n",
    "    # The stack won't be empty for cases like ((()\n",
    "    return not stack"
   ]
  },
  {
   "cell_type": "code",
   "execution_count": 17,
   "metadata": {
    "ExecuteTime": {
     "end_time": "2021-01-30T18:02:16.427614Z",
     "start_time": "2021-01-30T18:02:16.418639Z"
    }
   },
   "outputs": [
    {
     "data": {
      "text/plain": [
       "True"
      ]
     },
     "execution_count": 17,
     "metadata": {},
     "output_type": "execute_result"
    }
   ],
   "source": [
    "s = '()'\n",
    "isValid(s)"
   ]
  },
  {
   "cell_type": "code",
   "execution_count": 12,
   "metadata": {
    "ExecuteTime": {
     "end_time": "2021-01-31T14:22:58.318733Z",
     "start_time": "2021-01-31T14:22:58.309758Z"
    }
   },
   "outputs": [
    {
     "data": {
      "text/plain": [
       "'accddss'"
      ]
     },
     "execution_count": 12,
     "metadata": {},
     "output_type": "execute_result"
    }
   ],
   "source": [
    "'cdacsds'.split()\n",
    "\n",
    "a = 'c d a c s d s'.split()\n",
    "a.sort()\n",
    "''.join(a)"
   ]
  },
  {
   "cell_type": "code",
   "execution_count": null,
   "metadata": {},
   "outputs": [],
   "source": [
    "# 21. 중복 문자 제거\n",
    "# 리트코드 316. Remove Duplicate Letters\n",
    "\n",
    "# 중복된 문자를 제외하고 사전식 순서로 나열하라"
   ]
  },
  {
   "cell_type": "code",
   "execution_count": null,
   "metadata": {},
   "outputs": [],
   "source": [
    "# 23. 큐를 이용한 스택 구현\n",
    "# 리트코드 225. Implement Stack using Queues\n",
    "\n",
    "# 큐를 이용해 다음 연산을 지원하는 스택을 구현하라\n",
    "\n",
    "Class "
   ]
  },
  {
   "cell_type": "code",
   "execution_count": null,
   "metadata": {},
   "outputs": [],
   "source": [
    "class MyStack():\n",
    "    def __init__(self):\n",
    "        self.l = []\n",
    "    def push(self, num):\n",
    "        self.l.append(num)\n",
    "        "
   ]
  },
  {
   "cell_type": "code",
   "execution_count": null,
   "metadata": {},
   "outputs": [],
   "source": []
  },
  {
   "cell_type": "code",
   "execution_count": null,
   "metadata": {},
   "outputs": [],
   "source": []
  },
  {
   "cell_type": "code",
   "execution_count": null,
   "metadata": {},
   "outputs": [],
   "source": []
  },
  {
   "cell_type": "code",
   "execution_count": null,
   "metadata": {},
   "outputs": [],
   "source": []
  }
 ],
 "metadata": {
  "hide_input": false,
  "kernelspec": {
   "display_name": "Python 3",
   "language": "python",
   "name": "python3"
  },
  "language_info": {
   "codemirror_mode": {
    "name": "ipython",
    "version": 3
   },
   "file_extension": ".py",
   "mimetype": "text/x-python",
   "name": "python",
   "nbconvert_exporter": "python",
   "pygments_lexer": "ipython3",
   "version": "3.7.6"
  },
  "toc": {
   "base_numbering": 1,
   "nav_menu": {},
   "number_sections": true,
   "sideBar": true,
   "skip_h1_title": false,
   "title_cell": "Table of Contents",
   "title_sidebar": "Contents",
   "toc_cell": false,
   "toc_position": {},
   "toc_section_display": true,
   "toc_window_display": false
  }
 },
 "nbformat": 4,
 "nbformat_minor": 4
}

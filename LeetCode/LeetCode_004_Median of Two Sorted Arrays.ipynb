{
 "cells": [
  {
   "cell_type": "markdown",
   "metadata": {},
   "source": [
    "# LeetCode_4_Median of Two Sorted Arrays"
   ]
  },
  {
   "cell_type": "markdown",
   "metadata": {
    "ExecuteTime": {
     "end_time": "2021-01-06T17:25:32.340891Z",
     "start_time": "2021-01-06T17:25:32.321543Z"
    }
   },
   "source": [
    "## 문제\n",
    "\n",
    "Given two sorted arrays nums1 and nums2 of size m and n respectively, return the median of the two sorted arrays.\n",
    "\n",
    "Follow up: The overall run time complexity should be O(log (m+n)).\n",
    "\n",
    "---\n",
    "\n",
    "+ Example 1:\n",
    "\n",
    "```\n",
    "Input: nums1 = [1,3], nums2 = [2]\n",
    "Output: 2.00000\n",
    "Explanation: merged array = [1,2,3] and median is 2.\n",
    "```\n",
    "\n",
    "+ Example 2:\n",
    "\n",
    "```\n",
    "Input: nums1 = [1,2], nums2 = [3,4]\n",
    "Output: 2.50000\n",
    "Explanation: merged array = [1,2,3,4] and median is (2 + 3) / 2 = 2.5.\n",
    "```\n",
    "\n",
    "+ Example 3:\n",
    "\n",
    "```\n",
    "Input: nums1 = [0,0], nums2 = [0,0]\n",
    "Output: 0.00000\n",
    "```"
   ]
  },
  {
   "cell_type": "markdown",
   "metadata": {},
   "source": [
    "## 풀이"
   ]
  },
  {
   "cell_type": "code",
   "execution_count": 3,
   "metadata": {
    "ExecuteTime": {
     "end_time": "2021-01-06T17:30:16.208441Z",
     "start_time": "2021-01-06T17:30:16.196286Z"
    }
   },
   "outputs": [
    {
     "name": "stdout",
     "output_type": "stream",
     "text": [
      "2.0\n"
     ]
    }
   ],
   "source": [
    "class Solution:\n",
    "    def findMedianSortedArrays(self, nums1, nums2) -> float:\n",
    "        # 두 리스트 합쳐서 정렬해주기\n",
    "        list_all = sorted(nums1 + nums2)\n",
    "        \n",
    "        n = len(list_all)\n",
    "        \n",
    "        if n % 2 == 1: # 리스트의 길이가 홀수일 때\n",
    "            return float(list_all[n//2])\n",
    "        \n",
    "        else: # 리스트의 길이가 짝수일 때\n",
    "            idx = n//2\n",
    "            return (list_all[idx-1] + list_all[idx]) / 2\n",
    "\n",
    "# 코드 확인하기\n",
    "if __name__ == \"__main__\":\n",
    "    # example 데이터\n",
    "    nums1 = [1, 3]\n",
    "    nums2 = [2]\n",
    "    \n",
    "    solution = Solution()\n",
    "\n",
    "    # 알고리즘 테스트\n",
    "    answer = solution.findMedianSortedArrays(nums1, nums2)\n",
    "    print(answer)"
   ]
  },
  {
   "cell_type": "markdown",
   "metadata": {},
   "source": [
    "## 리뷰\n",
    "\n",
    "+ 크게 어려운 문제는 아니였다.\n",
    "+ 중앙값에 대해서 다시 한번 리마인드!"
   ]
  }
 ],
 "metadata": {
  "kernelspec": {
   "display_name": "Python 3",
   "language": "python",
   "name": "python3"
  },
  "language_info": {
   "codemirror_mode": {
    "name": "ipython",
    "version": 3
   },
   "file_extension": ".py",
   "mimetype": "text/x-python",
   "name": "python",
   "nbconvert_exporter": "python",
   "pygments_lexer": "ipython3",
   "version": "3.7.6"
  },
  "toc": {
   "base_numbering": 1,
   "nav_menu": {},
   "number_sections": true,
   "sideBar": true,
   "skip_h1_title": true,
   "title_cell": "Table of Contents",
   "title_sidebar": "Contents",
   "toc_cell": false,
   "toc_position": {},
   "toc_section_display": true,
   "toc_window_display": true
  }
 },
 "nbformat": 4,
 "nbformat_minor": 4
}

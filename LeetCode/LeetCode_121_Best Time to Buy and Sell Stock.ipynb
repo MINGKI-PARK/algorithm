{
 "cells": [
  {
   "cell_type": "markdown",
   "metadata": {},
   "source": [
    "# LeetCode_121_Best Time to Buy and Sell Stock"
   ]
  },
  {
   "cell_type": "markdown",
   "metadata": {},
   "source": [
    "## 문제\n",
    "\n",
    "Say you have an array for which the ith element is the price of a given stock on day i.\n",
    "\n",
    "If you were only permitted to complete at most one transaction (i.e., buy one and sell one share of the stock), design an algorithm to find the maximum profit.\n",
    "\n",
    "Note that you cannot sell a stock before you buy one.\n",
    "\n",
    "---\n",
    "\n",
    "+ Example 1:\n",
    "\n",
    "```\n",
    "Input: [7,1,5,3,6,4]\n",
    "Output: 5\n",
    "Explanation: Buy on day 2 (price = 1) and sell on day 5 (price = 6), profit = 6-1 = 5.\n",
    "             Not 7-1 = 6, as selling price needs to be larger than buying price.\n",
    "```\n",
    "\n",
    "+ Example 2:\n",
    "\n",
    "```\n",
    "Input: [7,6,4,3,1]\n",
    "Output: 0\n",
    "Explanation: In this case, no transaction is done, i.e. max profit = 0.\n",
    "```"
   ]
  },
  {
   "cell_type": "markdown",
   "metadata": {},
   "source": [
    "## 풀이"
   ]
  },
  {
   "cell_type": "markdown",
   "metadata": {},
   "source": [
    "+ 비교하면서 제일 작은 값을 찾고 그 다음에 찾아볼까?"
   ]
  },
  {
   "cell_type": "code",
   "execution_count": 8,
   "metadata": {
    "ExecuteTime": {
     "end_time": "2021-01-09T12:43:34.174193Z",
     "start_time": "2021-01-09T12:43:34.154233Z"
    }
   },
   "outputs": [],
   "source": [
    "def maxProfit(prices):\n",
    "    \n",
    "    profit = 0 # 결국 이 최대 profit을 구하는 문제\n",
    "    min_price = prices[0] # 제일 작은 값에 0번 인덱스를 넣어주고,\n",
    "\n",
    "    for price in prices[1:]: # 1번 인덱스부터 for문에 넣는다.\n",
    "        if min_price > price: # 비교하며 작은 값을 찾아주고\n",
    "            min_price = price\n",
    "        profit = max(profit, price - min_price) # 순서대로 비교하여 가장 큰 profit을 찾아준다.\n",
    "        \n",
    "    return profit"
   ]
  },
  {
   "cell_type": "markdown",
   "metadata": {},
   "source": [
    "### 테스트"
   ]
  },
  {
   "cell_type": "code",
   "execution_count": 10,
   "metadata": {
    "ExecuteTime": {
     "end_time": "2021-01-09T12:44:51.841310Z",
     "start_time": "2021-01-09T12:44:51.826355Z"
    }
   },
   "outputs": [
    {
     "name": "stdout",
     "output_type": "stream",
     "text": [
      "5\n",
      "\n",
      "0\n"
     ]
    }
   ],
   "source": [
    "prices = [7,1,5,3,6,4]\n",
    "print(maxProfit(prices))\n",
    "\n",
    "print()\n",
    "\n",
    "prices = [7,6,4,3,1]\n",
    "print(maxProfit(prices))"
   ]
  },
  {
   "cell_type": "markdown",
   "metadata": {},
   "source": [
    "## 기록\n",
    "\n",
    "+ 생각보다 너무 까다로웠던 문제.\n",
    "+ 며칠동안 고민했다.\n",
    "+ 너무 최소값을 찾는 것에만 포커스를 뒀음.\n",
    "+ 중요한 것은 profit이다.\n",
    "+ 뭘 구해야하는지 먼저 확실하게 인지하고 난 다음 문제에 접근하자."
   ]
  }
 ],
 "metadata": {
  "kernelspec": {
   "display_name": "Python 3",
   "language": "python",
   "name": "python3"
  },
  "language_info": {
   "codemirror_mode": {
    "name": "ipython",
    "version": 3
   },
   "file_extension": ".py",
   "mimetype": "text/x-python",
   "name": "python",
   "nbconvert_exporter": "python",
   "pygments_lexer": "ipython3",
   "version": "3.7.6"
  },
  "toc": {
   "base_numbering": 1,
   "nav_menu": {},
   "number_sections": true,
   "sideBar": true,
   "skip_h1_title": true,
   "title_cell": "Table of Contents",
   "title_sidebar": "Contents",
   "toc_cell": false,
   "toc_position": {
    "height": "calc(100% - 180px)",
    "left": "10px",
    "top": "150px",
    "width": "423px"
   },
   "toc_section_display": true,
   "toc_window_display": false
  }
 },
 "nbformat": 4,
 "nbformat_minor": 4
}

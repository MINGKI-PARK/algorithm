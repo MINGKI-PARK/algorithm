{
 "cells": [
  {
   "cell_type": "markdown",
   "metadata": {},
   "source": [
    "# 모두의 알고리즘_00_들어가보자"
   ]
  },
  {
   "cell_type": "markdown",
   "metadata": {
    "toc": true
   },
   "source": [
    "<h1>Table of Contents<span class=\"tocSkip\"></span></h1>\n",
    "<div class=\"toc\"><ul class=\"toc-item\"><li><span><a href=\"#알고리즘\" data-toc-modified-id=\"알고리즘-1\"><span class=\"toc-item-num\">1&nbsp;&nbsp;</span>알고리즘</a></span></li><li><span><a href=\"#알고리즘-분석\" data-toc-modified-id=\"알고리즘-분석-2\"><span class=\"toc-item-num\">2&nbsp;&nbsp;</span>알고리즘 분석</a></span></li><li><span><a href=\"#파이썬\" data-toc-modified-id=\"파이썬-3\"><span class=\"toc-item-num\">3&nbsp;&nbsp;</span>파이썬</a></span></li></ul></div>"
   ]
  },
  {
   "cell_type": "markdown",
   "metadata": {},
   "source": [
    "## 알고리즘\n",
    "\n",
    "알고리즘이란?\n",
    "\n",
    "어떤 문제를 풀기 위한 절차나 방법.\n",
    "\n",
    "좀 더 구체적으로는 어떤 문제가 있을 때 주어진 '입력' 정보를 원하는 '출력(답)' 정보로 만드는 일련의 과정을 구체적이고 명료하게 적은 것.\n",
    "\n",
    "* 알고리즘은 어떤 문제를 풀기 위한 절차나 방법.\n",
    "* 알고리즘은 주어진 '입력'을 '출력'으로 만드는 과정.\n",
    "* 알고리즘의 각 단계는 구체적이고 명료해야 한다."
   ]
  },
  {
   "cell_type": "markdown",
   "metadata": {},
   "source": [
    "## 알고리즘 분석\n",
    "\n",
    "알고리즘의 성능이나 특징을 분석하는 것"
   ]
  },
  {
   "cell_type": "markdown",
   "metadata": {},
   "source": [
    "## 파이썬"
   ]
  },
  {
   "cell_type": "code",
   "execution_count": 2,
   "metadata": {
    "ExecuteTime": {
     "end_time": "2020-11-23T18:59:42.027440Z",
     "start_time": "2020-11-23T18:59:42.021069Z"
    }
   },
   "outputs": [],
   "source": [
    "import math # 수학 모듈 사용\n",
    "\n",
    "# 절댓값 알고리즘 1 (부호판단)\n",
    "# 입력 : 실수 a\n",
    "# 출력 : a의 절댓값\n",
    "\n",
    "def abs_sign(a):\n",
    "    if a >= 0:\n",
    "        return a\n",
    "    else:\n",
    "        return -a"
   ]
  },
  {
   "cell_type": "code",
   "execution_count": 3,
   "metadata": {
    "ExecuteTime": {
     "end_time": "2020-11-23T19:01:12.689551Z",
     "start_time": "2020-11-23T19:01:12.684564Z"
    }
   },
   "outputs": [],
   "source": [
    "# 절댓값 알고리즘 2 (제곱 -> 제곱근)\n",
    "# 입력 : 실수 a\n",
    "# 출력 : a의 절댓값\n",
    "\n",
    "def abs_square(a):\n",
    "    b = a * a\n",
    "    return math.sqrt(b) # 수학 모듈의 제곱근 함수"
   ]
  },
  {
   "cell_type": "code",
   "execution_count": 4,
   "metadata": {
    "ExecuteTime": {
     "end_time": "2020-11-23T19:01:41.930770Z",
     "start_time": "2020-11-23T19:01:41.909823Z"
    }
   },
   "outputs": [
    {
     "name": "stdout",
     "output_type": "stream",
     "text": [
      "5\n",
      "3\n",
      "\n",
      "5.0\n",
      "3.0\n"
     ]
    }
   ],
   "source": [
    "print(abs_sign(5))\n",
    "print(abs_sign(-3))\n",
    "print()\n",
    "print(abs_square(5))\n",
    "print(abs_square(-3))"
   ]
  },
  {
   "cell_type": "markdown",
   "metadata": {},
   "source": [
    "제곱근 함수 math.sqrt()는 소수점이 붙은 값을 돌려준다."
   ]
  }
 ],
 "metadata": {
  "kernelspec": {
   "display_name": "Python 3",
   "language": "python",
   "name": "python3"
  },
  "language_info": {
   "codemirror_mode": {
    "name": "ipython",
    "version": 3
   },
   "file_extension": ".py",
   "mimetype": "text/x-python",
   "name": "python",
   "nbconvert_exporter": "python",
   "pygments_lexer": "ipython3",
   "version": "3.7.6"
  },
  "toc": {
   "base_numbering": 1,
   "nav_menu": {},
   "number_sections": true,
   "sideBar": true,
   "skip_h1_title": true,
   "title_cell": "Table of Contents",
   "title_sidebar": "Contents",
   "toc_cell": true,
   "toc_position": {
    "height": "calc(100% - 180px)",
    "left": "10px",
    "top": "150px",
    "width": "384px"
   },
   "toc_section_display": true,
   "toc_window_display": true
  }
 },
 "nbformat": 4,
 "nbformat_minor": 4
}

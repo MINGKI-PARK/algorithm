{
 "cells": [
  {
   "cell_type": "markdown",
   "metadata": {},
   "source": [
    "# 모두의 알고리즘_09_삽입 정렬"
   ]
  },
  {
   "cell_type": "markdown",
   "metadata": {
    "toc": true
   },
   "source": [
    "<h1>Table of Contents<span class=\"tocSkip\"></span></h1>\n",
    "<div class=\"toc\"><ul class=\"toc-item\"><li><span><a href=\"#삽입-정렬로-줄-세우기\" data-toc-modified-id=\"삽입-정렬로-줄-세우기-1\"><span class=\"toc-item-num\">1&nbsp;&nbsp;</span>삽입 정렬로 줄 세우기</a></span></li><li><span><a href=\"#쉽게-설명한-삽입-정렬-알고리즘\" data-toc-modified-id=\"쉽게-설명한-삽입-정렬-알고리즘-2\"><span class=\"toc-item-num\">2&nbsp;&nbsp;</span>쉽게 설명한 삽입 정렬 알고리즘</a></span></li><li><span><a href=\"#일반적인-삽입-정렬-알고리즘\" data-toc-modified-id=\"일반적인-삽입-정렬-알고리즘-3\"><span class=\"toc-item-num\">3&nbsp;&nbsp;</span>일반적인 삽입 정렬 알고리즘</a></span></li><li><span><a href=\"#알고리즘-분석\" data-toc-modified-id=\"알고리즘-분석-4\"><span class=\"toc-item-num\">4&nbsp;&nbsp;</span>알고리즘 분석</a></span></li><li><span><a href=\"#연습문제\" data-toc-modified-id=\"연습문제-5\"><span class=\"toc-item-num\">5&nbsp;&nbsp;</span>연습문제</a></span></li></ul></div>"
   ]
  },
  {
   "cell_type": "markdown",
   "metadata": {},
   "source": [
    "**리스트 안의 자료를 작은 수부터 큰 수 순서로 배열하는 정렬 알고리즘을 만들어 보자.**\n",
    "\n",
    "삽입 정렬(Insertion sort)"
   ]
  },
  {
   "cell_type": "markdown",
   "metadata": {},
   "source": [
    "## 삽입 정렬로 줄 세우기"
   ]
  },
  {
   "cell_type": "markdown",
   "metadata": {},
   "source": [
    "## 쉽게 설명한 삽입 정렬 알고리즘"
   ]
  },
  {
   "cell_type": "code",
   "execution_count": 1,
   "metadata": {
    "ExecuteTime": {
     "end_time": "2020-12-16T10:15:36.524668Z",
     "start_time": "2020-12-16T10:15:36.509076Z"
    }
   },
   "outputs": [
    {
     "name": "stdout",
     "output_type": "stream",
     "text": [
      "[1, 2, 3, 4, 5]\n"
     ]
    }
   ],
   "source": [
    "# 쉽게 설명한 삽입 정렬\n",
    "# 입력 : 리스트 a\n",
    "# 출력 : 정렬된 새 리스트\n",
    "\n",
    "# 리스트 r에서 v가 들어가야 할 위치를 돌려주는 함수\n",
    "def find_ins_idx(r, v):\n",
    "    # 이미 정렬된 리스트 r의 자료를 앞에서부터 차례로 확인하여\n",
    "    for i in range(len(r)):\n",
    "        # v 값보다 i번 위치에 있는 자료 값이 크면\n",
    "        # v가 그 값 바로 앞에 놓여야 정렬 순서가 유지됨\n",
    "        if v < r[i]:\n",
    "            return i\n",
    "        \n",
    "    # 적절한 위치를 못 찾았을 때는\n",
    "    # v가 r의 모든 자료보다 크다는 뜻이므로 맨 뒤에 삽입\n",
    "    return len(r)\n",
    "\n",
    "\n",
    "def ins_sort(a):\n",
    "    result = [] # 새 리스트를 만들어 정렬된 값을 저장\n",
    "    while a:  # 기존 리스트에 값이 남아 있는 동안 반복\n",
    "        value = a.pop(0) # 기존 리스트에서 한 개를 꺼냄\n",
    "        ins_idx = find_ins_idx(result, value) # 꺼낸 값이 들어갈 적당한 위치 찾기\n",
    "        result.insert(ins_idx, value) # 찾은 위치에 값 삽입(이후 값은 한 칸씩 밀려남)\n",
    "    return result    \n",
    "\n",
    "d = [2, 4, 5, 1, 3]\n",
    "print(ins_sort(d))"
   ]
  },
  {
   "cell_type": "markdown",
   "metadata": {},
   "source": [
    "## 일반적인 삽입 정렬 알고리즘"
   ]
  },
  {
   "cell_type": "code",
   "execution_count": 8,
   "metadata": {
    "ExecuteTime": {
     "end_time": "2020-12-16T10:22:01.302182Z",
     "start_time": "2020-12-16T10:22:01.290247Z"
    }
   },
   "outputs": [
    {
     "data": {
      "text/plain": [
       "[1, 2, 3, 4, 5]"
      ]
     },
     "execution_count": 8,
     "metadata": {},
     "output_type": "execute_result"
    }
   ],
   "source": [
    "# 삽입 정렬\n",
    "# 입력 : 리스트 a\n",
    "# 출력 : 없음(입력으로 주어진 a가 정렬됨)\n",
    "\n",
    "def ins_sort(a):\n",
    "    n = len(a)\n",
    "    for i in range(1, n): # 1부터 n-1까지\n",
    "        key = a[i] # i번 위치에 있는 값을 key에 저장\n",
    "        # j를 i 바로 왼쪽 위치로 저장\n",
    "        j = i - 1\n",
    "        # 리스트의 i번 위치에 있는 값과 key를 비교해 key가 삽입될 적절한 위치를 찾음\n",
    "        while j >= 0 and a[j] > key:\n",
    "            a[j+1] = a[j] # 삽입할 공간이 생기도록 값을 오른쪽으로 한 칸 이동\n",
    "            j -= 1\n",
    "        a[j+1] = key # 찾은 삽입 위치에 key를 저장\n",
    "        \n",
    "\n",
    "d = [2, 4, 5, 1, 3]\n",
    "ins_sort(d)\n",
    "d"
   ]
  },
  {
   "cell_type": "markdown",
   "metadata": {
    "ExecuteTime": {
     "end_time": "2020-12-16T10:20:28.646807Z",
     "start_time": "2020-12-16T10:20:28.635174Z"
    }
   },
   "source": [
    "## 알고리즘 분석"
   ]
  },
  {
   "cell_type": "markdown",
   "metadata": {},
   "source": [
    "## 연습문제\n",
    "\n",
    "+ 내림차순 정렬로 바꿔보기"
   ]
  },
  {
   "cell_type": "code",
   "execution_count": 9,
   "metadata": {
    "ExecuteTime": {
     "end_time": "2020-12-16T11:34:29.785400Z",
     "start_time": "2020-12-16T11:34:29.777513Z"
    }
   },
   "outputs": [],
   "source": [
    "def ins_sort(a):\n",
    "    n = len(a)\n",
    "    for i in range(1, n): # 1부터 n-1까지\n",
    "        key = a[i] # i번 위치에 있는 값을 key에 저장\n",
    "        # j를 i 바로 왼쪽 위치로 저장\n",
    "        j = i - 1\n",
    "        # 리스트의 i번 위치에 있는 값과 key를 비교해 key가 삽입될 적절한 위치를 찾음\n",
    "        while j >= 0 and a[j] < key:\n",
    "            a[j+1] = a[j] # 삽입할 공간이 생기도록 값을 오른쪽으로 한 칸 이동\n",
    "            j -= 1\n",
    "        a[j+1] = key # 찾은 삽입 위치에 key를 저장"
   ]
  },
  {
   "cell_type": "code",
   "execution_count": 11,
   "metadata": {
    "ExecuteTime": {
     "end_time": "2020-12-16T11:34:45.115160Z",
     "start_time": "2020-12-16T11:34:45.106185Z"
    }
   },
   "outputs": [
    {
     "data": {
      "text/plain": [
       "[5, 4, 3, 2, 1]"
      ]
     },
     "execution_count": 11,
     "metadata": {},
     "output_type": "execute_result"
    }
   ],
   "source": [
    "ins_sort(d)\n",
    "d"
   ]
  }
 ],
 "metadata": {
  "kernelspec": {
   "display_name": "Python 3",
   "language": "python",
   "name": "python3"
  },
  "language_info": {
   "codemirror_mode": {
    "name": "ipython",
    "version": 3
   },
   "file_extension": ".py",
   "mimetype": "text/x-python",
   "name": "python",
   "nbconvert_exporter": "python",
   "pygments_lexer": "ipython3",
   "version": "3.7.6"
  },
  "toc": {
   "base_numbering": 1,
   "nav_menu": {},
   "number_sections": true,
   "sideBar": true,
   "skip_h1_title": true,
   "title_cell": "Table of Contents",
   "title_sidebar": "Contents",
   "toc_cell": true,
   "toc_position": {
    "height": "calc(100% - 180px)",
    "left": "10px",
    "top": "150px",
    "width": "307.2px"
   },
   "toc_section_display": true,
   "toc_window_display": true
  }
 },
 "nbformat": 4,
 "nbformat_minor": 4
}

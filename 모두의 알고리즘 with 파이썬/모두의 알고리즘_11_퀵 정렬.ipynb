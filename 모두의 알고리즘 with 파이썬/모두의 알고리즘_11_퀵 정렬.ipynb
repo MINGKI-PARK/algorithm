{
 "cells": [
  {
   "cell_type": "markdown",
   "metadata": {},
   "source": [
    "# 모두의 알고리즘_11_퀵 정렬"
   ]
  },
  {
   "cell_type": "markdown",
   "metadata": {
    "toc": true
   },
   "source": [
    "<h1>Table of Contents<span class=\"tocSkip\"></span></h1>\n",
    "<div class=\"toc\"><ul class=\"toc-item\"><li><span><a href=\"#퀵-정렬로-줄-세우기\" data-toc-modified-id=\"퀵-정렬로-줄-세우기-1\"><span class=\"toc-item-num\">1&nbsp;&nbsp;</span>퀵 정렬로 줄 세우기</a></span></li><li><span><a href=\"#쉽게-설명한-퀵-정렬-알고리즘\" data-toc-modified-id=\"쉽게-설명한-퀵-정렬-알고리즘-2\"><span class=\"toc-item-num\">2&nbsp;&nbsp;</span>쉽게 설명한 퀵 정렬 알고리즘</a></span></li><li><span><a href=\"#일반적인-퀵-정렬-알고리즘\" data-toc-modified-id=\"일반적인-퀵-정렬-알고리즘-3\"><span class=\"toc-item-num\">3&nbsp;&nbsp;</span>일반적인 퀵 정렬 알고리즘</a></span></li><li><span><a href=\"#기준-값의-중요성\" data-toc-modified-id=\"기준-값의-중요성-4\"><span class=\"toc-item-num\">4&nbsp;&nbsp;</span>기준 값의 중요성</a></span></li><li><span><a href=\"#알고리즘-분석\" data-toc-modified-id=\"알고리즘-분석-5\"><span class=\"toc-item-num\">5&nbsp;&nbsp;</span>알고리즘 분석</a></span></li></ul></div>"
   ]
  },
  {
   "cell_type": "markdown",
   "metadata": {},
   "source": [
    "**리스트 안의 자료를 작은 수부터 큰 수 순서로 배열하는 정렬 알고리즘을 만들어 보세요**\n",
    "\n",
    "퀵 정렬(Quicksort)은 '그룹을 둘로 나눠 재귀 호출'하는 방식은 병합 정렬과 같지만, 그룹을 나눌 때 미리 기준과 비교해서 나눈다는 점이 다릅니다. 즉, 먼저 기준과 비교해서 그룹을 나눈 다음 각각 재귀 호출하여 합치는 방식입니다."
   ]
  },
  {
   "cell_type": "markdown",
   "metadata": {},
   "source": [
    "## 퀵 정렬로 줄 세우기"
   ]
  },
  {
   "cell_type": "markdown",
   "metadata": {},
   "source": [
    "## 쉽게 설명한 퀵 정렬 알고리즘"
   ]
  },
  {
   "cell_type": "code",
   "execution_count": 5,
   "metadata": {
    "ExecuteTime": {
     "end_time": "2020-12-28T09:50:28.820217Z",
     "start_time": "2020-12-28T09:50:28.806255Z"
    }
   },
   "outputs": [],
   "source": [
    "# 쉽게 설명한 퀵 정렬\n",
    "# 입력 : 리스트 a\n",
    "# 출력 : 정렬된 새 리스트\n",
    "\n",
    "def quick_sort(a):\n",
    "    n = len(a)\n",
    "    # 종료 조건 : 정렬할 리스트의 자료 개수가 한 개 이하이면 정렬할 필요가 없음\n",
    "    if n <= 1:\n",
    "        return a\n",
    "    # 기준 값을 정하고 기준에 맞춰 그룹을 나누는 과정\n",
    "    pivot = a[-1] # 편의상 리스트의 마지막 값을 기준 값으로 정함\n",
    "    g1 = []       # 그룹 1 : 기준 값보다 작은 값을 담을 리스트\n",
    "    g2 = []       # 그룹 2 : 기준 값보다 큰 값을 담을 리스트\n",
    "    for i in range(n-1):\n",
    "        if a[i] < pivot:\n",
    "            g1.append(a[i])\n",
    "        else:\n",
    "            g2.append(a[i])\n",
    "    # 각 그룹에 대해 재귀 호출로 퀵 정렬을 한 후\n",
    "    # 기준 값과 합쳐 하나의 리스트로 결괏값 반환\n",
    "    return quick_sort(g1) + [pivot] + quick_sort(g2)"
   ]
  },
  {
   "cell_type": "code",
   "execution_count": 6,
   "metadata": {
    "ExecuteTime": {
     "end_time": "2020-12-28T09:50:30.021679Z",
     "start_time": "2020-12-28T09:50:30.006663Z"
    }
   },
   "outputs": [
    {
     "name": "stdout",
     "output_type": "stream",
     "text": [
      "[1, 2, 3, 4, 5, 6, 7, 8, 9, 10]\n"
     ]
    }
   ],
   "source": [
    "d = [6, 8, 3, 9, 10, 1, 2, 4, 7, 5]\n",
    "print(quick_sort(d))"
   ]
  },
  {
   "cell_type": "markdown",
   "metadata": {},
   "source": [
    "## 일반적인 퀵 정렬 알고리즘"
   ]
  },
  {
   "cell_type": "code",
   "execution_count": 8,
   "metadata": {
    "ExecuteTime": {
     "end_time": "2020-12-28T10:06:01.279568Z",
     "start_time": "2020-12-28T10:06:01.259620Z"
    }
   },
   "outputs": [],
   "source": [
    "# 퀵 정렬\n",
    "# 입력 : 리스트 a\n",
    "# 출력 : 없음(입력으로 주어진 a가 정렬됨)\n",
    "# 리스트 a에서 어디부터(start) 어디까지(end)가 정렬 대상인지\n",
    "# 범위를 지정하여 정렬하는 재귀 호출 함수\n",
    "def quick_sort_sub(a, start, end):\n",
    "    # 종료 조건 : 정렬 대상이 한 개 이하이면 정렬할 필요가 없음\n",
    "    if end - start <= 0:\n",
    "        return\n",
    "    # 기준 값을 정하고 기준 값에 맞춰 리스트 안에서 각 자료의 위치를 맞춤\n",
    "    # [기준 값보다 작은 값들, 기준 값, 기준 값보다 큰 값들]\n",
    "    pivot = a[end]  # 편의상 리스트의 마지막 값을 기준 값으로 정함\n",
    "    i = start\n",
    "    for j in range(start, end):\n",
    "        if a[j] <= pivot:\n",
    "            a[i], a[j] = a[j], a[i]\n",
    "            i += 1\n",
    "    a[i], a[end] = a[end], a[i]\n",
    "    # 재귀 호출 부분\n",
    "    quick_sort_sub(a, start, i-1) # 기준 값보다 작은 그룹을 재귀 호출로 다시 정렬\n",
    "    quick_sort_sub(a, i+1, end)   # 기준 값보다 큰 그룹을 재귀 호출로 다시 정렬\n",
    "    \n",
    "# 리스트 전체(0 ~ len(a)-1)를 대상으로 재귀 호출 함수 호출\n",
    "def quick_sort(a):\n",
    "    quick_sort_sub(a, 0, len(a)-1)"
   ]
  },
  {
   "cell_type": "code",
   "execution_count": 9,
   "metadata": {
    "ExecuteTime": {
     "end_time": "2020-12-28T10:06:28.104182Z",
     "start_time": "2020-12-28T10:06:28.085196Z"
    }
   },
   "outputs": [
    {
     "data": {
      "text/plain": [
       "[1, 2, 3, 4, 5, 6, 7, 8, 9, 10]"
      ]
     },
     "execution_count": 9,
     "metadata": {},
     "output_type": "execute_result"
    }
   ],
   "source": [
    "d = [6, 8, 3, 9, 10, 1, 2, 4, 7, 5]\n",
    "quick_sort(d)\n",
    "d"
   ]
  },
  {
   "cell_type": "markdown",
   "metadata": {},
   "source": [
    "## 기준 값의 중요성\n",
    "\n",
    "퀵 정렬에서는 '좋은 기준'을 정하는 것이 정렬의 효율성을 가늠하므로 굉장히 중요합니다."
   ]
  },
  {
   "cell_type": "markdown",
   "metadata": {},
   "source": [
    "## 알고리즘 분석"
   ]
  }
 ],
 "metadata": {
  "kernelspec": {
   "display_name": "Python 3",
   "language": "python",
   "name": "python3"
  },
  "language_info": {
   "codemirror_mode": {
    "name": "ipython",
    "version": 3
   },
   "file_extension": ".py",
   "mimetype": "text/x-python",
   "name": "python",
   "nbconvert_exporter": "python",
   "pygments_lexer": "ipython3",
   "version": "3.7.6"
  },
  "toc": {
   "base_numbering": 1,
   "nav_menu": {},
   "number_sections": true,
   "sideBar": true,
   "skip_h1_title": true,
   "title_cell": "Table of Contents",
   "title_sidebar": "Contents",
   "toc_cell": true,
   "toc_position": {},
   "toc_section_display": true,
   "toc_window_display": true
  }
 },
 "nbformat": 4,
 "nbformat_minor": 4
}

{
 "cells": [
  {
   "cell_type": "markdown",
   "metadata": {},
   "source": [
    "# 모두의 알고리즘_06_하노이의 탑 옮기기"
   ]
  },
  {
   "cell_type": "markdown",
   "metadata": {
    "toc": true
   },
   "source": [
    "<h1>Table of Contents<span class=\"tocSkip\"></span></h1>\n",
    "<div class=\"toc\"><ul class=\"toc-item\"><li><span><a href=\"#하노이의-탑\" data-toc-modified-id=\"하노이의-탑-1\"><span class=\"toc-item-num\">1&nbsp;&nbsp;</span>하노이의 탑</a></span></li><li><span><a href=\"#하노이의-탑-풀이\" data-toc-modified-id=\"하노이의-탑-풀이-2\"><span class=\"toc-item-num\">2&nbsp;&nbsp;</span>하노이의 탑 풀이</a></span></li><li><span><a href=\"#하노이의-탑-알고리즘\" data-toc-modified-id=\"하노이의-탑-알고리즘-3\"><span class=\"toc-item-num\">3&nbsp;&nbsp;</span>하노이의 탑 알고리즘</a></span></li><li><span><a href=\"#알고리즘-분석\" data-toc-modified-id=\"알고리즘-분석-4\"><span class=\"toc-item-num\">4&nbsp;&nbsp;</span>알고리즘 분석</a></span></li><li><span><a href=\"#부록-D\" data-toc-modified-id=\"부록-D-5\"><span class=\"toc-item-num\">5&nbsp;&nbsp;</span>부록 D</a></span><ul class=\"toc-item\"><li><span><a href=\"#사각-나선을-그리는-프로그램\" data-toc-modified-id=\"사각-나선을-그리는-프로그램-5.1\"><span class=\"toc-item-num\">5.1&nbsp;&nbsp;</span>사각 나선을 그리는 프로그램</a></span></li><li><span><a href=\"#시에르핀스키의-삼각형을-그리는-프로그램\" data-toc-modified-id=\"시에르핀스키의-삼각형을-그리는-프로그램-5.2\"><span class=\"toc-item-num\">5.2&nbsp;&nbsp;</span>시에르핀스키의 삼각형을 그리는 프로그램</a></span></li><li><span><a href=\"#나무를-그리는-프로그램\" data-toc-modified-id=\"나무를-그리는-프로그램-5.3\"><span class=\"toc-item-num\">5.3&nbsp;&nbsp;</span>나무를 그리는 프로그램</a></span></li><li><span><a href=\"#눈꽃을-그리는-프로그램\" data-toc-modified-id=\"눈꽃을-그리는-프로그램-5.4\"><span class=\"toc-item-num\">5.4&nbsp;&nbsp;</span>눈꽃을 그리는 프로그램</a></span></li></ul></li></ul></div>"
   ]
  },
  {
   "cell_type": "markdown",
   "metadata": {},
   "source": [
    "**원반이 n개인 하노이의 탑을 옮기기 위한 원반 이동 순서를 출력하는 알고리즘을 만들어보자.**"
   ]
  },
  {
   "cell_type": "markdown",
   "metadata": {},
   "source": [
    "## 하노이의 탑"
   ]
  },
  {
   "cell_type": "markdown",
   "metadata": {},
   "source": [
    "## 하노이의 탑 풀이"
   ]
  },
  {
   "cell_type": "markdown",
   "metadata": {},
   "source": [
    "## 하노이의 탑 알고리즘"
   ]
  },
  {
   "cell_type": "code",
   "execution_count": 1,
   "metadata": {
    "ExecuteTime": {
     "end_time": "2020-12-01T13:54:11.379092Z",
     "start_time": "2020-12-01T13:54:11.369118Z"
    }
   },
   "outputs": [],
   "source": [
    "# 하노이의 탑\n",
    "# 입력 : 옮기려는 원반의 개수 n\n",
    "#     옮길 원반이 현재 있는 출발점 기둥 from_pos\n",
    "#     원반을 옮길 도착점 기둥 to_pos\n",
    "#     옮기는 과정에서 사용할 보조 기둥 aux_pos\n",
    "# 출력 : 원반을 옮기는 순서\n",
    "\n",
    "def hanoi(n, from_pos, to_pos, aux_pos):\n",
    "    if n == 1: # 원반 한 개를 옮기는 문제면 그냥 옮기면 됨\n",
    "        print(from_pos, '->', to_pos)\n",
    "        return\n",
    "    \n",
    "    # 원반 n-1개를 aux_pos로 이동(to_pos를 보조 기둥으로)\n",
    "    hanoi(n-1, from_pos, aux_pos, to_pos)\n",
    "    \n",
    "    # 가장 큰 원반을 목적지로 이동\n",
    "    print(from_pos, '->', to_pos)\n",
    "    \n",
    "    # aux_pos에 있는 원반 n-1개를 목적지로 이동(from_pos를 보조 기둥으로)\n",
    "    hanoi(n-1, aux_pos, to_pos, from_pos)"
   ]
  },
  {
   "cell_type": "code",
   "execution_count": 4,
   "metadata": {
    "ExecuteTime": {
     "end_time": "2020-12-01T13:55:14.535871Z",
     "start_time": "2020-12-01T13:55:14.523912Z"
    }
   },
   "outputs": [
    {
     "name": "stdout",
     "output_type": "stream",
     "text": [
      "n = 1\n",
      "1 -> 3\n",
      "\n",
      "n = 2\n",
      "1 -> 2\n",
      "1 -> 3\n",
      "2 -> 3\n",
      "\n",
      "n = 3\n",
      "1 -> 3\n",
      "1 -> 2\n",
      "3 -> 2\n",
      "1 -> 3\n",
      "2 -> 1\n",
      "2 -> 3\n",
      "1 -> 3\n"
     ]
    }
   ],
   "source": [
    "print('n = 1')\n",
    "hanoi(1, 1, 3, 2)\n",
    "print()\n",
    "print('n = 2')\n",
    "hanoi(2, 1, 3, 2)\n",
    "print()\n",
    "print('n = 3')\n",
    "hanoi(3, 1, 3, 2)"
   ]
  },
  {
   "cell_type": "markdown",
   "metadata": {},
   "source": [
    "## 알고리즘 분석"
   ]
  },
  {
   "cell_type": "markdown",
   "metadata": {
    "ExecuteTime": {
     "end_time": "2020-12-01T13:56:39.800558Z",
     "start_time": "2020-12-01T13:56:29.549003Z"
    }
   },
   "source": [
    "## 부록 D"
   ]
  },
  {
   "cell_type": "markdown",
   "metadata": {},
   "source": [
    "### 사각 나선을 그리는 프로그램"
   ]
  },
  {
   "cell_type": "code",
   "execution_count": 9,
   "metadata": {
    "ExecuteTime": {
     "end_time": "2020-12-01T14:00:47.137949Z",
     "start_time": "2020-12-01T14:00:38.043208Z"
    }
   },
   "outputs": [],
   "source": [
    "# 재귀 호출을 이용한 사각 나선 그리기\n",
    "import turtle as t\n",
    "\n",
    "def spiral(sp_len):\n",
    "    if sp_len <= 5:\n",
    "        return\n",
    "    t.forward(sp_len)\n",
    "    t.right(90)\n",
    "    spiral(sp_len -5)\n",
    "    \n",
    "t.speed(0)\n",
    "spiral(200)\n",
    "t.hideturtle()\n",
    "t.done()"
   ]
  },
  {
   "cell_type": "markdown",
   "metadata": {},
   "source": [
    "### 시에르핀스키의 삼각형을 그리는 프로그램"
   ]
  },
  {
   "cell_type": "code",
   "execution_count": 13,
   "metadata": {
    "ExecuteTime": {
     "end_time": "2020-12-01T14:07:10.644402Z",
     "start_time": "2020-12-01T14:06:55.147365Z"
    }
   },
   "outputs": [],
   "source": [
    "# 재귀 호출을 이용한 시에르핀스키(sierpinski)의 삼각형 그리기\n",
    "import turtle as t\n",
    "\n",
    "def tri(tri_len):\n",
    "    if tri_len <= 10:\n",
    "        for i in range(3):\n",
    "            t.forward(tri_len)\n",
    "            t.left(120)\n",
    "        return\n",
    "    new_len = tri_len / 2\n",
    "    tri(new_len)\n",
    "    t.forward(new_len)\n",
    "    tri(new_len)\n",
    "    t.backward(new_len)\n",
    "    t.left(60)\n",
    "    t.forward(new_len)\n",
    "    t.right(60)\n",
    "    tri(new_len)\n",
    "    t.left(60)\n",
    "    t.backward(new_len)\n",
    "    t.right(60)\n",
    "    \n",
    "    \n",
    "t.speed(0)\n",
    "tri(160)\n",
    "t.hideturtle()\n",
    "t.done()"
   ]
  },
  {
   "cell_type": "markdown",
   "metadata": {},
   "source": [
    "### 나무를 그리는 프로그램"
   ]
  },
  {
   "cell_type": "code",
   "execution_count": 15,
   "metadata": {
    "ExecuteTime": {
     "end_time": "2020-12-01T14:09:51.804499Z",
     "start_time": "2020-12-01T14:09:26.429852Z"
    }
   },
   "outputs": [],
   "source": [
    "# 재귀 호출을 이용한 나무 모형 그리기\n",
    "import turtle as t\n",
    "\n",
    "def tree(br_len):\n",
    "    if br_len <= 5:\n",
    "        return\n",
    "    new_len = br_len * 0.7\n",
    "    t.forward(br_len)\n",
    "    t.right(20)\n",
    "    tree(new_len)\n",
    "    t.left(40)\n",
    "    tree(new_len)\n",
    "    t.right(20)\n",
    "    t.backward(br_len)\n",
    "    \n",
    "t.speed(0)\n",
    "t.left(90)\n",
    "tree(70)\n",
    "t.hideturtle()\n",
    "t.done()"
   ]
  },
  {
   "cell_type": "markdown",
   "metadata": {},
   "source": [
    "### 눈꽃을 그리는 프로그램"
   ]
  },
  {
   "cell_type": "code",
   "execution_count": 17,
   "metadata": {
    "ExecuteTime": {
     "end_time": "2020-12-01T14:12:35.176998Z",
     "start_time": "2020-12-01T14:12:26.156567Z"
    }
   },
   "outputs": [],
   "source": [
    "# 재귀 호출을 이용한 눈꽃 그리기\n",
    "import turtle as t\n",
    "\n",
    "def snow_line(snow_len):\n",
    "    if snow_len <= 10:\n",
    "        t.forward(snow_len)\n",
    "        return\n",
    "    new_len = snow_len / 3\n",
    "    snow_line(new_len)\n",
    "    t.left(60)\n",
    "    snow_line(new_len)\n",
    "    t.right(120)\n",
    "    snow_line(new_len)\n",
    "    t.left(60)\n",
    "    snow_line(new_len)\n",
    "    \n",
    "    \n",
    "t.speed(0)\n",
    "snow_line(150)\n",
    "t.right(120)\n",
    "snow_line(150)\n",
    "t.right(120)\n",
    "snow_line(150)\n",
    "t.hideturtle()\n",
    "t.done()"
   ]
  }
 ],
 "metadata": {
  "kernelspec": {
   "display_name": "Python 3",
   "language": "python",
   "name": "python3"
  },
  "language_info": {
   "codemirror_mode": {
    "name": "ipython",
    "version": 3
   },
   "file_extension": ".py",
   "mimetype": "text/x-python",
   "name": "python",
   "nbconvert_exporter": "python",
   "pygments_lexer": "ipython3",
   "version": "3.7.6"
  },
  "toc": {
   "base_numbering": 1,
   "nav_menu": {},
   "number_sections": true,
   "sideBar": true,
   "skip_h1_title": true,
   "title_cell": "Table of Contents",
   "title_sidebar": "Contents",
   "toc_cell": true,
   "toc_position": {
    "height": "calc(100% - 180px)",
    "left": "10px",
    "top": "150px",
    "width": "384px"
   },
   "toc_section_display": true,
   "toc_window_display": true
  }
 },
 "nbformat": 4,
 "nbformat_minor": 4
}

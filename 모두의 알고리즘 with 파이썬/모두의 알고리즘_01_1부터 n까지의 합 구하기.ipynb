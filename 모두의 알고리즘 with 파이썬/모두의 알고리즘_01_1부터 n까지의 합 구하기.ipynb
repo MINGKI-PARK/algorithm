{
 "cells": [
  {
   "cell_type": "markdown",
   "metadata": {},
   "source": [
    "# 모두의 알고리즘_01_1부터 n까지의 합 구하기"
   ]
  },
  {
   "cell_type": "markdown",
   "metadata": {
    "toc": true
   },
   "source": [
    "<h1>Table of Contents<span class=\"tocSkip\"></span></h1>\n",
    "<div class=\"toc\"><ul class=\"toc-item\"><li><span><a href=\"#알고리즘의-중요-포인트\" data-toc-modified-id=\"알고리즘의-중요-포인트-1\"><span class=\"toc-item-num\">1&nbsp;&nbsp;</span>알고리즘의 중요 포인트</a></span></li><li><span><a href=\"#구체적이고-명료한-계산-과정\" data-toc-modified-id=\"구체적이고-명료한-계산-과정-2\"><span class=\"toc-item-num\">2&nbsp;&nbsp;</span>구체적이고 명료한 계산 과정</a></span></li><li><span><a href=\"#1부터-n까지의-합을-구하는-알고리즘\" data-toc-modified-id=\"1부터-n까지의-합을-구하는-알고리즘-3\"><span class=\"toc-item-num\">3&nbsp;&nbsp;</span>1부터 n까지의 합을 구하는 알고리즘</a></span></li><li><span><a href=\"#알고리즘-분석\" data-toc-modified-id=\"알고리즘-분석-4\"><span class=\"toc-item-num\">4&nbsp;&nbsp;</span>알고리즘 분석</a></span></li><li><span><a href=\"#입력-크기와-계산-횟수\" data-toc-modified-id=\"입력-크기와-계산-횟수-5\"><span class=\"toc-item-num\">5&nbsp;&nbsp;</span>입력 크기와 계산 횟수</a></span></li><li><span><a href=\"#대문자-O-표기법-:-계산-복잡도-표현\" data-toc-modified-id=\"대문자-O-표기법-:-계산-복잡도-표현-6\"><span class=\"toc-item-num\">6&nbsp;&nbsp;</span>대문자 O 표기법 : 계산 복잡도 표현</a></span></li><li><span><a href=\"#연습-문제\" data-toc-modified-id=\"연습-문제-7\"><span class=\"toc-item-num\">7&nbsp;&nbsp;</span>연습 문제</a></span><ul class=\"toc-item\"><li><span><a href=\"#연습문제-1\" data-toc-modified-id=\"연습문제-1-7.1\"><span class=\"toc-item-num\">7.1&nbsp;&nbsp;</span>연습문제 1</a></span></li></ul></li></ul></div>"
   ]
  },
  {
   "cell_type": "markdown",
   "metadata": {},
   "source": [
    "## 알고리즘의 중요 포인트\n",
    "\n",
    "알고리즘은 어떤 문제를 풀기 위한 절차나 방법. 주어진 입력을 출력으로 만드는 과정을 구체적이고 명료하게 표현한 것.\n",
    "\n",
    "* 문제\n",
    "\n",
    "알고리즘이 있으려면 반드시 문제가 필요. 여기서는 '1부터 n까지 연속한 숫자의 합 구하기'가 문제이다.\n",
    "\n",
    "* 입력\n",
    "\n",
    "이 문제에서 입력은 'n까지'에 해당하는 n이다.\n",
    "\n",
    "* 출력\n",
    "\n",
    "n = 10이면 1부터 10까지의 합은 55, n = 100이면 1부터 100까지의 합은 5050이다. 55와 5050이 각각의 입력에 대한 출력이다."
   ]
  },
  {
   "cell_type": "markdown",
   "metadata": {},
   "source": [
    "## 구체적이고 명료한 계산 과정"
   ]
  },
  {
   "cell_type": "markdown",
   "metadata": {},
   "source": [
    "## 1부터 n까지의 합을 구하는 알고리즘"
   ]
  },
  {
   "cell_type": "code",
   "execution_count": 1,
   "metadata": {
    "ExecuteTime": {
     "end_time": "2020-11-23T19:12:08.121202Z",
     "start_time": "2020-11-23T19:12:08.106244Z"
    }
   },
   "outputs": [],
   "source": [
    "# 1부터 n까지 연속한 숫자의 합을 구하는 알고리즘 1\n",
    "# 입력 : n\n",
    "# 출력 : 1부터 n까지의 숫자를 더한 값\n",
    "\n",
    "def sum_n(n):\n",
    "    s = 0 # 합을 계산할 변수\n",
    "    for i in range(1, n+1): # 1부터 n까지 반복 (n+1은 제외)\n",
    "        s += i\n",
    "    return s"
   ]
  },
  {
   "cell_type": "code",
   "execution_count": 2,
   "metadata": {
    "ExecuteTime": {
     "end_time": "2020-11-23T19:12:19.975893Z",
     "start_time": "2020-11-23T19:12:19.965966Z"
    }
   },
   "outputs": [
    {
     "name": "stdout",
     "output_type": "stream",
     "text": [
      "55\n",
      "5050\n"
     ]
    }
   ],
   "source": [
    "print(sum_n(10))\n",
    "print(sum_n(100))"
   ]
  },
  {
   "cell_type": "markdown",
   "metadata": {},
   "source": [
    "## 알고리즘 분석"
   ]
  },
  {
   "cell_type": "code",
   "execution_count": 3,
   "metadata": {
    "ExecuteTime": {
     "end_time": "2020-11-23T19:14:13.346212Z",
     "start_time": "2020-11-23T19:14:13.334208Z"
    }
   },
   "outputs": [],
   "source": [
    "# 1부터 n까지 연속한 숫자의 합을 구하는 알고리즘 1\n",
    "# 입력 : n\n",
    "# 출력 : 1부터 n까지의 숫자를 더한 값\n",
    "\n",
    "def sum_n(n):\n",
    "    return n * (n + 1) // 2 # 슬래시 두 개(//)는 정수 나눗셈을 의미"
   ]
  },
  {
   "cell_type": "code",
   "execution_count": 4,
   "metadata": {
    "ExecuteTime": {
     "end_time": "2020-11-23T19:14:20.162055Z",
     "start_time": "2020-11-23T19:14:20.143105Z"
    }
   },
   "outputs": [
    {
     "name": "stdout",
     "output_type": "stream",
     "text": [
      "55\n",
      "5050\n"
     ]
    }
   ],
   "source": [
    "print(sum_n(10))\n",
    "print(sum_n(100))"
   ]
  },
  {
   "cell_type": "markdown",
   "metadata": {},
   "source": [
    "## 입력 크기와 계산 횟수\n",
    "\n",
    "* 첫 번째 알고리즘 : 덧셈 n번\n",
    "* 두 번째 알고리즘 : 덧셈, 곱셈, 나눗셈 각 한 번(총 세 번)"
   ]
  },
  {
   "cell_type": "markdown",
   "metadata": {},
   "source": [
    "## 대문자 O 표기법 : 계산 복잡도 표현\n",
    "\n",
    "어떤 알고리즘이 문제를 풀기 위해 해야 하는 계산이 얼마나 복잡한지 나타낸 정도를 '계산 복잡도(complexity)'라고 한다.\n",
    "\n",
    "대문자 O 표기법을 가장 많이 사용한다. ('빅 오'표기법이라고도 부른다.)\n",
    "\n",
    "대문자 O 표기법은 알고리즘의 대략적인 성능을 표시하는 방법이다. 세밀한 계산 횟수나 소요 시간을 표현한다기보다 입력 크기 n과 필요한 계산 횟수와의 '관계'에 더 주목하는 표현이다.\n",
    "\n",
    "* O(n) : 필요한 계산 횟수가 입력 크기 n과 비례할 때\n",
    "* O(1) : 필요한 계산 횟수가 입력 크기 n과 무관할 때\n",
    "\n",
    "> 계산 복잡도 : 시간 복잡도와 공간 복잡도\n",
    ">\n",
    "> 알고리즘의 계산 복잡도는 시간 복잡도(time complexity)와 공간 복잡도(space complexity)로 나눌 수 있다.\n",
    ">\n",
    "> 시간 복잡도는 어떤 알고리즘을 수행하는 데 얼마나 오랜 시간이 걸리는지 분석한 것\n",
    ">\n",
    "> 공간 복잡도는 어떤 알고리즘을 수행하는 데 얼마나 많은 공간(메모리/기억장소)이 필요한지 분석한 것"
   ]
  },
  {
   "cell_type": "markdown",
   "metadata": {},
   "source": [
    "## 연습 문제"
   ]
  },
  {
   "cell_type": "markdown",
   "metadata": {},
   "source": [
    "### 연습문제 1\n",
    "\n",
    "1부터 n까지 연속한 숫자의 제곱의 합을 구하는 프로그램을 for 반복문으로 만들어보기"
   ]
  },
  {
   "cell_type": "code",
   "execution_count": 5,
   "metadata": {
    "ExecuteTime": {
     "end_time": "2020-11-23T19:27:23.424944Z",
     "start_time": "2020-11-23T19:27:23.408971Z"
    }
   },
   "outputs": [],
   "source": [
    "def sum_n(n):\n",
    "    s = 0\n",
    "    for i in range(1, n+1):\n",
    "        s += i**2\n",
    "    return s"
   ]
  },
  {
   "cell_type": "code",
   "execution_count": 6,
   "metadata": {
    "ExecuteTime": {
     "end_time": "2020-11-23T19:27:35.856991Z",
     "start_time": "2020-11-23T19:27:35.837044Z"
    }
   },
   "outputs": [
    {
     "data": {
      "text/plain": [
       "385"
      ]
     },
     "execution_count": 6,
     "metadata": {},
     "output_type": "execute_result"
    }
   ],
   "source": [
    "sum_n(10)"
   ]
  },
  {
   "cell_type": "code",
   "execution_count": 8,
   "metadata": {
    "ExecuteTime": {
     "end_time": "2020-11-23T19:28:40.449171Z",
     "start_time": "2020-11-23T19:28:40.437548Z"
    }
   },
   "outputs": [],
   "source": [
    "def sum_n(n):\n",
    "    return n * (n + 1) * (2 * n + 1) // 6"
   ]
  },
  {
   "cell_type": "code",
   "execution_count": 9,
   "metadata": {
    "ExecuteTime": {
     "end_time": "2020-11-23T19:28:45.395343Z",
     "start_time": "2020-11-23T19:28:45.382376Z"
    }
   },
   "outputs": [
    {
     "data": {
      "text/plain": [
       "385"
      ]
     },
     "execution_count": 9,
     "metadata": {},
     "output_type": "execute_result"
    }
   ],
   "source": [
    "sum_n(10)"
   ]
  }
 ],
 "metadata": {
  "kernelspec": {
   "display_name": "Python 3",
   "language": "python",
   "name": "python3"
  },
  "language_info": {
   "codemirror_mode": {
    "name": "ipython",
    "version": 3
   },
   "file_extension": ".py",
   "mimetype": "text/x-python",
   "name": "python",
   "nbconvert_exporter": "python",
   "pygments_lexer": "ipython3",
   "version": "3.7.6"
  },
  "toc": {
   "base_numbering": 1,
   "nav_menu": {},
   "number_sections": true,
   "sideBar": true,
   "skip_h1_title": true,
   "title_cell": "Table of Contents",
   "title_sidebar": "Contents",
   "toc_cell": true,
   "toc_position": {
    "height": "calc(100% - 180px)",
    "left": "10px",
    "top": "150px",
    "width": "384px"
   },
   "toc_section_display": true,
   "toc_window_display": true
  }
 },
 "nbformat": 4,
 "nbformat_minor": 4
}

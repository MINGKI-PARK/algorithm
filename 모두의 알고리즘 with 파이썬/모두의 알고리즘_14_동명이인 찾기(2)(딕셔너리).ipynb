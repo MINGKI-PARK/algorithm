{
 "cells": [
  {
   "cell_type": "markdown",
   "metadata": {},
   "source": [
    "# 모두의 알고리즘_14_동명이인 찾기(2)(딕셔너리)"
   ]
  },
  {
   "cell_type": "markdown",
   "metadata": {
    "toc": true
   },
   "source": [
    "<h1>Table of Contents<span class=\"tocSkip\"></span></h1>\n",
    "<div class=\"toc\"><ul class=\"toc-item\"></ul></div>"
   ]
  },
  {
   "cell_type": "code",
   "execution_count": 1,
   "metadata": {
    "ExecuteTime": {
     "end_time": "2021-01-31T13:44:35.958452Z",
     "start_time": "2021-01-31T13:44:35.948475Z"
    }
   },
   "outputs": [],
   "source": [
    "# 두 번 이상 나온 이름 찾기\n",
    "# 입력 : 이름이 n개 들어 있는 리스트\n",
    "# 출력 : n개의 이름 중 반복되는 이름의 집합\n",
    "\n",
    "def findSameName(a):\n",
    "    # 1단계 : 각 이름이 등장한 횟수를 딕셔너리로 만듦\n",
    "    name_dict = {}\n",
    "    for name in a:                 # 리스트 a에 있는 자료들을 차례로 반복\n",
    "        if name in name_dict:      # 이름이 name_dict에 있으면\n",
    "            name_dict[name] += 1   # 등장 횟수를 1 증가\n",
    "        else:                      # 새 이름이면\n",
    "            name_dict[name] = 1    # 등장 횟수를 1로 저장\n",
    "    \n",
    "    # 2단계 : 만들어진 딕셔너리에서 등장 횟수가 2 이상인 것을 결과에 추가\n",
    "    result = set()                 # 결괏값을 저장할 빈 집합\n",
    "    for name in name_dict:         # 딕셔너리 name_dict에 있는 자료들을 차례로 반복\n",
    "        if name_dict[name] >= 2:\n",
    "            result.add(name)\n",
    "            \n",
    "    return result"
   ]
  },
  {
   "cell_type": "code",
   "execution_count": 2,
   "metadata": {
    "ExecuteTime": {
     "end_time": "2021-01-31T13:45:34.189084Z",
     "start_time": "2021-01-31T13:45:34.176118Z"
    }
   },
   "outputs": [
    {
     "name": "stdout",
     "output_type": "stream",
     "text": [
      "{'Tom'}\n",
      "{'Mike', 'Tom'}\n"
     ]
    }
   ],
   "source": [
    "name = ['Tom', 'Jerry', 'Mike', 'Tom']\n",
    "print(findSameName(name))\n",
    "\n",
    "name = ['Tom', 'Jerry', 'Mike', 'Tom', 'Mike']\n",
    "print(findSameName(name))"
   ]
  },
  {
   "cell_type": "code",
   "execution_count": 3,
   "metadata": {
    "ExecuteTime": {
     "end_time": "2021-01-31T13:51:18.514356Z",
     "start_time": "2021-01-31T13:51:18.495407Z"
    }
   },
   "outputs": [],
   "source": [
    "def numberFindName(name_dict, num):\n",
    "    if num in name_dict:\n",
    "        return name_dict[num]\n",
    "    else:\n",
    "        return '?'"
   ]
  },
  {
   "cell_type": "code",
   "execution_count": 6,
   "metadata": {
    "ExecuteTime": {
     "end_time": "2021-01-31T13:53:00.618389Z",
     "start_time": "2021-01-31T13:52:59.647832Z"
    }
   },
   "outputs": [
    {
     "name": "stdout",
     "output_type": "stream",
     "text": [
      "번호를 입력하세요 : 16\n",
      "?\n"
     ]
    }
   ],
   "source": [
    "num = int(input('번호를 입력하세요 : '))\n",
    "name_dict = {\n",
    "    39 : 'Justin',\n",
    "    14 : 'John',\n",
    "    67 : 'Mike',\n",
    "    105 : 'Summer'\n",
    "}\n",
    "\n",
    "print(numberFindName(name_dict, num))"
   ]
  }
 ],
 "metadata": {
  "hide_input": false,
  "kernelspec": {
   "display_name": "Python 3",
   "language": "python",
   "name": "python3"
  },
  "language_info": {
   "codemirror_mode": {
    "name": "ipython",
    "version": 3
   },
   "file_extension": ".py",
   "mimetype": "text/x-python",
   "name": "python",
   "nbconvert_exporter": "python",
   "pygments_lexer": "ipython3",
   "version": "3.7.6"
  },
  "toc": {
   "base_numbering": 1,
   "nav_menu": {},
   "number_sections": true,
   "sideBar": true,
   "skip_h1_title": true,
   "title_cell": "Table of Contents",
   "title_sidebar": "Contents",
   "toc_cell": true,
   "toc_position": {},
   "toc_section_display": true,
   "toc_window_display": true
  }
 },
 "nbformat": 4,
 "nbformat_minor": 4
}

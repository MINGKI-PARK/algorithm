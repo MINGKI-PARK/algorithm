{
 "cells": [
  {
   "cell_type": "markdown",
   "metadata": {},
   "source": [
    "# 모두의 알고리즘_12_이분 탐색"
   ]
  },
  {
   "cell_type": "markdown",
   "metadata": {
    "toc": true
   },
   "source": [
    "<h1>Table of Contents<span class=\"tocSkip\"></span></h1>\n",
    "<div class=\"toc\"><ul class=\"toc-item\"><li><span><a href=\"#일상생활-속의-탐색-문제\" data-toc-modified-id=\"일상생활-속의-탐색-문제-1\"><span class=\"toc-item-num\">1&nbsp;&nbsp;</span>일상생활 속의 탐색 문제</a></span></li><li><span><a href=\"#이분-탐색-알고리즘\" data-toc-modified-id=\"이분-탐색-알고리즘-2\"><span class=\"toc-item-num\">2&nbsp;&nbsp;</span>이분 탐색 알고리즘</a></span></li><li><span><a href=\"#알고리즘-분석\" data-toc-modified-id=\"알고리즘-분석-3\"><span class=\"toc-item-num\">3&nbsp;&nbsp;</span>알고리즘 분석</a></span></li><li><span><a href=\"#연습문제\" data-toc-modified-id=\"연습문제-4\"><span class=\"toc-item-num\">4&nbsp;&nbsp;</span>연습문제</a></span></li></ul></div>"
   ]
  },
  {
   "cell_type": "markdown",
   "metadata": {},
   "source": [
    "자료의 크기 순서대로 절렬된 리스트에서 특정한 값이 있는지 찾아 그 위치를 돌려주는 알고리즘을 만들어 보세요. 리스트에 찾는 값이 없으면 -1을 돌려줍니다.\n",
    "\n",
    "이분 탐색(Binary search)의 이분은 둘로 나눈다는 뜻입니다. 탐색할 자료를 둘로 나누어 찾는 값이 있을 법한 곳만 탐색하기 때문에 자료를 하나하나 찾아야 하는 차 탐색보다 원하는 자료를 훨씬 빨리 찾을 수 있습니다."
   ]
  },
  {
   "cell_type": "markdown",
   "metadata": {},
   "source": [
    "## 일상생활 속의 탐색 문제\n",
    "\n",
    "+ 두꺼운 책을 한 권 앞에 두고 특정한 쪽 수(예를 들어 618쪽)를 찾는 과정\n",
    "+ 굉장히 큰 호텔에서 원하는 방의 호수를 찾는 것"
   ]
  },
  {
   "cell_type": "markdown",
   "metadata": {},
   "source": [
    "## 이분 탐색 알고리즘\n",
    "\n",
    "1. 중간 위치를 찾습니다.\n",
    "2. 찾는 값과 중간 위치 값을 비교합니다.\n",
    "3. 같다면 원하는 값을 찾은 것이므로 위치 번호를 결괏값으로 돌려줍니다.\n",
    "4. 찾는 값이 중간 위치 값보다 크다면 중간 위치의 오른쪽을 대상으로 다시 탐색합니다(1번 과정부터 반복).\n",
    "5. 찾는 값이 중간 위치 값보다 작다면 중간 위치의 왼쪽을 대상으로 다시 탐색합니다(1번 과정부터 반복)."
   ]
  },
  {
   "cell_type": "code",
   "execution_count": 1,
   "metadata": {
    "ExecuteTime": {
     "end_time": "2021-01-20T18:16:53.511378Z",
     "start_time": "2021-01-20T18:16:53.488462Z"
    }
   },
   "outputs": [],
   "source": [
    "# 리스트에서 특정 숫자 위치 찾기(이분 탐색)\n",
    "# 입력 : 리스트 a, 찾는 값 x\n",
    "# 출력 : 찾으면 그 값의 위치, 찾지 못하면 -1\n",
    "\n",
    "def binary_search(a, x):\n",
    "    # 정렬\n",
    "    a.sort()\n",
    "    \n",
    "    # 탐색할 범위를 저장하는 변수 start, end\n",
    "    # 리스트 전체를 범위로 탐색 시장(0 ~ len(a)-1)\n",
    "    start = 0\n",
    "    end = len(a)-1\n",
    "    \n",
    "    while start <= end: # 탐색할 범위가 남아 있는 동안 반복\n",
    "        mid = (start + end) // 2 # 탐색 범위의 중간 위치\n",
    "        if x == a[mid]:\n",
    "            return mid\n",
    "        elif x > a[mid]:\n",
    "            start = mid + 1\n",
    "        else:\n",
    "            end = mid -1\n",
    "    return -1"
   ]
  },
  {
   "cell_type": "code",
   "execution_count": 4,
   "metadata": {
    "ExecuteTime": {
     "end_time": "2021-01-20T18:19:28.962672Z",
     "start_time": "2021-01-20T18:19:28.937709Z"
    }
   },
   "outputs": [
    {
     "name": "stdout",
     "output_type": "stream",
     "text": [
      "5\n",
      "-1\n"
     ]
    }
   ],
   "source": [
    "d = [1, 6, 123, 56, 12, 76,8,0,2, 123,6,8,7,868,6,1,23,54,7,658,1,23,465,7,65,4657,45,6,456,456,45]\n",
    "binary_search(d, 123)\n",
    "\n",
    "d = [1, 4, 9, 16, 25, 36, 49, 64, 81]\n",
    "print(binary_search(d, 36))\n",
    "print(binary_search(d, 50))"
   ]
  },
  {
   "cell_type": "markdown",
   "metadata": {},
   "source": [
    "## 알고리즘 분석\n",
    "\n",
    "이분 탐색의 계산 복잡도는 O(logn)으로, 순차 탐색의 계산 복잡도인 O(n)보다 훨씬 더 효율적입니다.\n",
    "\n",
    "물론 이분 탐색을 가능하게 하려면 자료를 미리 정렬해 둬야 해서 번거로울 수 있습니다. 하지만 필요한 값을 여러 번 찾아야 한다면 시간이 조금 걸리더라도 자료를 한 번 정렬한 다음에 이분 탐색을 계속 이용하는 방법이 훨씬 효율적입니다."
   ]
  },
  {
   "cell_type": "markdown",
   "metadata": {},
   "source": [
    "## 연습문제\n",
    "\n",
    "다음 과정을 참고하여 재귀 호출을 사용한 이분 탐색 알고리즘을 만들어보세요.\n",
    "\n",
    "1. 주어진 탐색 대상이 비어 있다면 탐색할 필요가 없습니다(종료 조건).\n",
    "2. 찾는 값과 주어진 탐색 대상의 중간 위치 값을 비교합니다.\n",
    "3. 찾는 값과 중간 위치 값이 같다면 결괏값으로 중간 위치 값을 돌려줍니다.\n",
    "4. 찾는 값이 중간 위치 값보다 크다면 중간 위치의 오른쪽을 대상으로 이분 탐색 함수를 재귀 호출합니다.\n",
    "5. 찾는 값이 중간 위치 값보다 작다면 중간 위치의 왼쪽을 대상으로 이분 탐색 함수를 재귀 호출합니다."
   ]
  },
  {
   "cell_type": "code",
   "execution_count": 5,
   "metadata": {
    "ExecuteTime": {
     "end_time": "2021-01-20T18:30:17.390423Z",
     "start_time": "2021-01-20T18:30:17.373758Z"
    }
   },
   "outputs": [],
   "source": [
    "def binary_self(a, x):\n",
    "    if not a:\n",
    "        return -1\n",
    "    start = 0\n",
    "    end = len(a)-1\n",
    "    mid = (len(a) // 2)\n",
    "    \n",
    "    if x > a[mid]:\n",
    "        return binary_self(a[mid+1:], x)\n",
    "    elif x < a[mid]:\n",
    "        return binary_self(a[:mid], x)\n",
    "    else:\n",
    "        return mid"
   ]
  },
  {
   "cell_type": "code",
   "execution_count": 6,
   "metadata": {
    "ExecuteTime": {
     "end_time": "2021-01-20T18:30:18.050160Z",
     "start_time": "2021-01-20T18:30:18.036197Z"
    }
   },
   "outputs": [
    {
     "name": "stdout",
     "output_type": "stream",
     "text": [
      "0\n",
      "-1\n"
     ]
    }
   ],
   "source": [
    "d = [1, 4, 9, 16, 25, 36, 49, 64, 81]\n",
    "print(binary_self(d, 36))\n",
    "print(binary_self(d, 50))"
   ]
  }
 ],
 "metadata": {
  "hide_input": false,
  "kernelspec": {
   "display_name": "Python 3",
   "language": "python",
   "name": "python3"
  },
  "language_info": {
   "codemirror_mode": {
    "name": "ipython",
    "version": 3
   },
   "file_extension": ".py",
   "mimetype": "text/x-python",
   "name": "python",
   "nbconvert_exporter": "python",
   "pygments_lexer": "ipython3",
   "version": "3.7.6"
  },
  "toc": {
   "base_numbering": 1,
   "nav_menu": {},
   "number_sections": true,
   "sideBar": true,
   "skip_h1_title": true,
   "title_cell": "Table of Contents",
   "title_sidebar": "Contents",
   "toc_cell": true,
   "toc_position": {},
   "toc_section_display": true,
   "toc_window_display": true
  }
 },
 "nbformat": 4,
 "nbformat_minor": 4
}

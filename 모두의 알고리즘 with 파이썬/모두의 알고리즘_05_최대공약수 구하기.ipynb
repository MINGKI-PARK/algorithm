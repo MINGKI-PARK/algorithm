{
 "cells": [
  {
   "cell_type": "markdown",
   "metadata": {},
   "source": [
    "# 모두의 알고리즘_05_최대공약수 구하기"
   ]
  },
  {
   "cell_type": "markdown",
   "metadata": {
    "toc": true
   },
   "source": [
    "<h1>Table of Contents<span class=\"tocSkip\"></span></h1>\n",
    "<div class=\"toc\"><ul class=\"toc-item\"><li><span><a href=\"#최대공약수-알고리즘\" data-toc-modified-id=\"최대공약수-알고리즘-1\"><span class=\"toc-item-num\">1&nbsp;&nbsp;</span>최대공약수 알고리즘</a></span></li><li><span><a href=\"#유클리드-알고리즘\" data-toc-modified-id=\"유클리드-알고리즘-2\"><span class=\"toc-item-num\">2&nbsp;&nbsp;</span>유클리드 알고리즘</a></span><ul class=\"toc-item\"><li><span><a href=\"#유클리드-방식을-이용해-최대공약수를-구하는-알고리즘\" data-toc-modified-id=\"유클리드-방식을-이용해-최대공약수를-구하는-알고리즘-2.1\"><span class=\"toc-item-num\">2.1&nbsp;&nbsp;</span>유클리드 방식을 이용해 최대공약수를 구하는 알고리즘</a></span></li></ul></li><li><span><a href=\"#연습문제-:-피보나치-수열\" data-toc-modified-id=\"연습문제-:-피보나치-수열-3\"><span class=\"toc-item-num\">3&nbsp;&nbsp;</span>연습문제 : 피보나치 수열</a></span></li></ul></div>"
   ]
  },
  {
   "cell_type": "markdown",
   "metadata": {},
   "source": [
    "**두 자연수 a와 b의 최대공약수를 구하는 알고리즘을 만들어 보자.**"
   ]
  },
  {
   "cell_type": "markdown",
   "metadata": {},
   "source": [
    "최대공약수(Greatest Common Divisor, GCD)는 두 개 이상의 정수의 공통 약수 중에서 가장 큰 값을 의미한다.\n",
    "\n",
    "두 자연수의 최대공약수를 찾으려면\n",
    "\n",
    "1. 두 수의 약수 중에서\n",
    "2. 공통된 것을 찾아\n",
    "3. 그 값 중 최댓값인 것을 찾아야 한다."
   ]
  },
  {
   "cell_type": "markdown",
   "metadata": {},
   "source": [
    "## 최대공약수 알고리즘"
   ]
  },
  {
   "cell_type": "code",
   "execution_count": 3,
   "metadata": {
    "ExecuteTime": {
     "end_time": "2020-11-29T14:07:29.781924Z",
     "start_time": "2020-11-29T14:07:29.768951Z"
    }
   },
   "outputs": [],
   "source": [
    "# 최대공약수 구하기\n",
    "# 입력 : a, b\n",
    "# 출력 : a와 b의 최대공약수\n",
    "\n",
    "def gcd(a, b):\n",
    "    i = min(a, b) # 두 수 중에서 최솟값을 구하는 파이썬 함수\n",
    "    while True:\n",
    "        if a % i == 0 and b % i == 0:\n",
    "            return i\n",
    "        i -= 1"
   ]
  },
  {
   "cell_type": "code",
   "execution_count": 4,
   "metadata": {
    "ExecuteTime": {
     "end_time": "2020-11-29T14:07:34.356966Z",
     "start_time": "2020-11-29T14:07:34.345802Z"
    }
   },
   "outputs": [
    {
     "name": "stdout",
     "output_type": "stream",
     "text": [
      "1\n",
      "3\n",
      "12\n",
      "27\n"
     ]
    }
   ],
   "source": [
    "print(gcd(1, 5))\n",
    "print(gcd(3, 6))\n",
    "print(gcd(60, 24))\n",
    "print(gcd(81, 27))"
   ]
  },
  {
   "cell_type": "markdown",
   "metadata": {},
   "source": [
    "## 유클리드 알고리즘\n",
    "\n",
    "유클리드는 최대공약수에 다음과 같은 성질이 있다는 것을 발견했다.\n",
    "\n",
    "* a와 b의 최대공약수는 'b'와 'a를 b로 나눈 나머지'의 최대공약수와 같다. 즉, gcd(a, b) = gcd(b, a % b)\n",
    "* 어떤 수와 0의 최대공약수는 자기 자신이다. 즉, gcd(n, 0) = n이다."
   ]
  },
  {
   "cell_type": "markdown",
   "metadata": {},
   "source": [
    "### 유클리드 방식을 이용해 최대공약수를 구하는 알고리즘"
   ]
  },
  {
   "cell_type": "code",
   "execution_count": 5,
   "metadata": {
    "ExecuteTime": {
     "end_time": "2020-11-29T14:12:40.025470Z",
     "start_time": "2020-11-29T14:12:40.017666Z"
    }
   },
   "outputs": [],
   "source": [
    "# 최대공약수 구하기\n",
    "# 입력 : a, b\n",
    "# 출력 : a와 b의 최대공약수\n",
    "\n",
    "def gcd(a, b):\n",
    "    if b == 0: # 종료 조건\n",
    "        return a\n",
    "    return gcd(b, a % b) # 좀 더 작은 작ㅄ으로 자기 자신을 호출"
   ]
  },
  {
   "cell_type": "code",
   "execution_count": 6,
   "metadata": {
    "ExecuteTime": {
     "end_time": "2020-11-29T14:13:09.032884Z",
     "start_time": "2020-11-29T14:13:09.015288Z"
    }
   },
   "outputs": [
    {
     "name": "stdout",
     "output_type": "stream",
     "text": [
      "1\n",
      "3\n",
      "12\n",
      "27\n"
     ]
    }
   ],
   "source": [
    "print(gcd(1, 5))\n",
    "print(gcd(3, 6))\n",
    "print(gcd(60, 24))\n",
    "print(gcd(81, 27))"
   ]
  },
  {
   "cell_type": "markdown",
   "metadata": {},
   "source": [
    "## 연습문제 : 피보나치 수열"
   ]
  },
  {
   "cell_type": "markdown",
   "metadata": {},
   "source": [
    "재귀 호출을 이용한 피보나치 수열 구하기\n",
    "\n",
    "* 종료 조건 : n = 0 -> 결괏값 0, n = 1 -> 결괏값 1\n",
    "* 재귀 호출 조건 : n번 피보나치 수 = n-2번 피보나치 수 + n-1번 피보나치 수"
   ]
  },
  {
   "cell_type": "code",
   "execution_count": 10,
   "metadata": {
    "ExecuteTime": {
     "end_time": "2020-11-29T14:22:11.642043Z",
     "start_time": "2020-11-29T14:22:11.625847Z"
    }
   },
   "outputs": [],
   "source": [
    "# n번째 피보나치 수열 찾기\n",
    "# 입력 : n 값(0부터 시작)\n",
    "# 출력 : n번째 피보나치 수열 값\n",
    "\n",
    "def fibo(n):\n",
    "    if n <= 1:\n",
    "        return n # n=0 -> - | n=1 -> 1\n",
    "    return fibo(n-2) + fibo(n-1)"
   ]
  },
  {
   "cell_type": "code",
   "execution_count": 13,
   "metadata": {
    "ExecuteTime": {
     "end_time": "2020-11-29T14:22:43.896369Z",
     "start_time": "2020-11-29T14:22:43.889393Z"
    }
   },
   "outputs": [
    {
     "name": "stdout",
     "output_type": "stream",
     "text": [
      "13\n",
      "55\n"
     ]
    }
   ],
   "source": [
    "print(fibo(7))\n",
    "print(fibo(10))"
   ]
  }
 ],
 "metadata": {
  "kernelspec": {
   "display_name": "Python 3",
   "language": "python",
   "name": "python3"
  },
  "language_info": {
   "codemirror_mode": {
    "name": "ipython",
    "version": 3
   },
   "file_extension": ".py",
   "mimetype": "text/x-python",
   "name": "python",
   "nbconvert_exporter": "python",
   "pygments_lexer": "ipython3",
   "version": "3.7.6"
  },
  "toc": {
   "base_numbering": 1,
   "nav_menu": {},
   "number_sections": true,
   "sideBar": true,
   "skip_h1_title": true,
   "title_cell": "Table of Contents",
   "title_sidebar": "Contents",
   "toc_cell": true,
   "toc_position": {},
   "toc_section_display": true,
   "toc_window_display": true
  }
 },
 "nbformat": 4,
 "nbformat_minor": 4
}

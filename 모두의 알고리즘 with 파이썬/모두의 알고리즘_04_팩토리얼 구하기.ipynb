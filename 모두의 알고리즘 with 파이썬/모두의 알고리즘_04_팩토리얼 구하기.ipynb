{
 "cells": [
  {
   "cell_type": "markdown",
   "metadata": {},
   "source": [
    "# 모두의 알고리즘_04_팩토리얼 구하기"
   ]
  },
  {
   "cell_type": "markdown",
   "metadata": {
    "toc": true
   },
   "source": [
    "<h1>Table of Contents<span class=\"tocSkip\"></span></h1>\n",
    "<div class=\"toc\"><ul class=\"toc-item\"><li><span><a href=\"#팩토리얼\" data-toc-modified-id=\"팩토리얼-1\"><span class=\"toc-item-num\">1&nbsp;&nbsp;</span>팩토리얼</a></span></li><li><span><a href=\"#러시아-인형\" data-toc-modified-id=\"러시아-인형-2\"><span class=\"toc-item-num\">2&nbsp;&nbsp;</span>러시아 인형</a></span></li><li><span><a href=\"#재귀호출-:-다시-돌아가-부르기\" data-toc-modified-id=\"재귀호출-:-다시-돌아가-부르기-3\"><span class=\"toc-item-num\">3&nbsp;&nbsp;</span>재귀호출 : 다시 돌아가 부르기</a></span></li><li><span><a href=\"#재귀-호출-알고리즘\" data-toc-modified-id=\"재귀-호출-알고리즘-4\"><span class=\"toc-item-num\">4&nbsp;&nbsp;</span>재귀 호출 알고리즘</a></span></li><li><span><a href=\"#알고리즘-분석\" data-toc-modified-id=\"알고리즘-분석-5\"><span class=\"toc-item-num\">5&nbsp;&nbsp;</span>알고리즘 분석</a></span></li><li><span><a href=\"#연습문제\" data-toc-modified-id=\"연습문제-6\"><span class=\"toc-item-num\">6&nbsp;&nbsp;</span>연습문제</a></span></li></ul></div>"
   ]
  },
  {
   "cell_type": "markdown",
   "metadata": {},
   "source": [
    "**1부터 n까지 연속한 정수의 곱을 구하는 알고리즘을 만들어 보자**\n",
    "\n",
    "1부터 n까지의 곱, 즉 팩토리얼(factorial)을 구하는 문제이다."
   ]
  },
  {
   "cell_type": "markdown",
   "metadata": {},
   "source": [
    "## 팩토리얼\n",
    "\n",
    "계승이라고도 한다."
   ]
  },
  {
   "cell_type": "code",
   "execution_count": 1,
   "metadata": {
    "ExecuteTime": {
     "end_time": "2020-11-25T23:26:27.601807Z",
     "start_time": "2020-11-25T23:26:27.585816Z"
    }
   },
   "outputs": [],
   "source": [
    "# 연속한 숫자의 곱을 구하는 알고리즘\n",
    "# 입력 : n\n",
    "# 출력 : 1부터 n까지 연속한 숫자를 곱한 값\n",
    "\n",
    "def fact(n):\n",
    "    f = 1 # 곱을 계산할 변수. 초깃값은 1\n",
    "    for i in range(1, n+1): # 1부터 n까지 반복(n+1은 제외)\n",
    "        f *= i # 곱셈 연산으로 수정\n",
    "    return f"
   ]
  },
  {
   "cell_type": "code",
   "execution_count": 2,
   "metadata": {
    "ExecuteTime": {
     "end_time": "2020-11-25T23:26:38.659845Z",
     "start_time": "2020-11-25T23:26:38.643889Z"
    }
   },
   "outputs": [
    {
     "name": "stdout",
     "output_type": "stream",
     "text": [
      "1\n",
      "120\n",
      "3628800\n"
     ]
    }
   ],
   "source": [
    "print(fact(1))\n",
    "print(fact(5))\n",
    "print(fact(10))"
   ]
  },
  {
   "cell_type": "markdown",
   "metadata": {},
   "source": [
    "## 러시아 인형\n",
    "\n",
    "마트료시카"
   ]
  },
  {
   "cell_type": "markdown",
   "metadata": {},
   "source": [
    "## 재귀호출 : 다시 돌아가 부르기\n",
    "\n",
    "재귀 호출(recursion)은 어떤 함수 안에서 자기 자신을 부르는 것을 말한다.\n",
    "\n",
    "```python\n",
    "def hello():\n",
    "    print('hello')\n",
    "    hello() # hello() 함수 안에서 다시 hello()를 호출\n",
    "    \n",
    "hello() # hello() 함수를 호출\n",
    "```"
   ]
  },
  {
   "cell_type": "markdown",
   "metadata": {},
   "source": [
    "## 재귀 호출 알고리즘\n",
    "\n",
    "팩토리얼을 재귀 호출로 표현하기\n",
    "\n",
    "n! = n * (n-1)!"
   ]
  },
  {
   "cell_type": "code",
   "execution_count": 3,
   "metadata": {
    "ExecuteTime": {
     "end_time": "2020-11-25T23:32:58.075818Z",
     "start_time": "2020-11-25T23:32:58.056834Z"
    }
   },
   "outputs": [],
   "source": [
    "# 연속한 숫자의 곱을 구하는 알고리즘\n",
    "# 입력 : n\n",
    "# 출력 : 1부터 n까지 연속한 숫자를 곱한 값\n",
    "\n",
    "def fact(n):\n",
    "    if n <= 1:\n",
    "        return 1\n",
    "    return n * fact(n-1)"
   ]
  },
  {
   "cell_type": "code",
   "execution_count": 4,
   "metadata": {
    "ExecuteTime": {
     "end_time": "2020-11-25T23:33:11.734093Z",
     "start_time": "2020-11-25T23:33:11.717139Z"
    }
   },
   "outputs": [
    {
     "name": "stdout",
     "output_type": "stream",
     "text": [
      "1\n",
      "120\n",
      "3628800\n"
     ]
    }
   ],
   "source": [
    "print(fact(1))\n",
    "print(fact(5))\n",
    "print(fact(10))"
   ]
  },
  {
   "cell_type": "markdown",
   "metadata": {},
   "source": [
    "## 알고리즘 분석"
   ]
  },
  {
   "cell_type": "markdown",
   "metadata": {},
   "source": [
    "재귀 호출의 일반적인 형태\n",
    "\n",
    "```python\n",
    "def func(입력값):\n",
    "    if 입력 값이 충분히 작으면: # 종료 조건\n",
    "        return 결괏값    \n",
    "    ...\n",
    "    func(더 작은 입력 값) # 더 작은 값으로 자기 자신을 호출\n",
    "    ...\n",
    "    return 결괏값\n",
    "```\n",
    "\n",
    "재귀 호출에는 **종료 조건**이 필요하다."
   ]
  },
  {
   "cell_type": "markdown",
   "metadata": {},
   "source": [
    "## 연습문제\n",
    "\n",
    "* 1부터 n까지의 합 구하기를 재귀 호출로 만들어 보자\n",
    "* 숫자 n개 중에서 최댓값 찾기를 재귀 호출로 만들어 보자"
   ]
  },
  {
   "cell_type": "code",
   "execution_count": 5,
   "metadata": {
    "ExecuteTime": {
     "end_time": "2020-11-26T10:16:19.205694Z",
     "start_time": "2020-11-26T10:16:19.194725Z"
    }
   },
   "outputs": [],
   "source": [
    "def sum_n(n):\n",
    "    if n <= 1:\n",
    "        return 1\n",
    "    return n + sum_n(n-1)"
   ]
  },
  {
   "cell_type": "code",
   "execution_count": 7,
   "metadata": {
    "ExecuteTime": {
     "end_time": "2020-11-26T10:16:47.554551Z",
     "start_time": "2020-11-26T10:16:47.544577Z"
    }
   },
   "outputs": [
    {
     "name": "stdout",
     "output_type": "stream",
     "text": [
      "1\n",
      "55\n",
      "5050\n"
     ]
    }
   ],
   "source": [
    "print(sum_n(1))\n",
    "print(sum_n(10))\n",
    "print(sum_n(100))"
   ]
  },
  {
   "cell_type": "code",
   "execution_count": 12,
   "metadata": {
    "ExecuteTime": {
     "end_time": "2020-11-26T10:30:08.246926Z",
     "start_time": "2020-11-26T10:30:08.233310Z"
    }
   },
   "outputs": [],
   "source": [
    "# 최댓값 구하기\n",
    "# 입력 : 숫자가 n개 들어 있는 리스트\n",
    "# 출력 : 숫자 n개 중 최댓값\n",
    "\n",
    "def find_max(a, n): # 리스트 a의 앞부분 n개 중 최댓값을 구하는 재귀 함수\n",
    "    if n == 1:\n",
    "        return a[0]\n",
    "    max_n_1 = find_max(a, n-1) # n-1개 중 최댓값을 구함\n",
    "    if max_n_1 > a[n-1]:\n",
    "        return max_n_1\n",
    "    else:\n",
    "        return a[n-1]"
   ]
  },
  {
   "cell_type": "code",
   "execution_count": 13,
   "metadata": {
    "ExecuteTime": {
     "end_time": "2020-11-26T10:30:08.445227Z",
     "start_time": "2020-11-26T10:30:08.434024Z"
    }
   },
   "outputs": [
    {
     "data": {
      "text/plain": [
       "92"
      ]
     },
     "execution_count": 13,
     "metadata": {},
     "output_type": "execute_result"
    }
   ],
   "source": [
    "v = [17, 92, 18, 33, 58, 7, 33, 42]\n",
    "find_max(v, len(v))"
   ]
  }
 ],
 "metadata": {
  "kernelspec": {
   "display_name": "Python 3",
   "language": "python",
   "name": "python3"
  },
  "language_info": {
   "codemirror_mode": {
    "name": "ipython",
    "version": 3
   },
   "file_extension": ".py",
   "mimetype": "text/x-python",
   "name": "python",
   "nbconvert_exporter": "python",
   "pygments_lexer": "ipython3",
   "version": "3.7.6"
  },
  "toc": {
   "base_numbering": 1,
   "nav_menu": {},
   "number_sections": true,
   "sideBar": true,
   "skip_h1_title": true,
   "title_cell": "Table of Contents",
   "title_sidebar": "Contents",
   "toc_cell": true,
   "toc_position": {},
   "toc_section_display": true,
   "toc_window_display": true
  }
 },
 "nbformat": 4,
 "nbformat_minor": 4
}

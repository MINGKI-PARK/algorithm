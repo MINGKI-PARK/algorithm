{
 "cells": [
  {
   "cell_type": "markdown",
   "metadata": {},
   "source": [
    "# 모두의 알고리즘_10_병합 정렬"
   ]
  },
  {
   "cell_type": "markdown",
   "metadata": {
    "toc": true
   },
   "source": [
    "<h1>Table of Contents<span class=\"tocSkip\"></span></h1>\n",
    "<div class=\"toc\"><ul class=\"toc-item\"><li><span><a href=\"#병합-정렬로-줄-세우기\" data-toc-modified-id=\"병합-정렬로-줄-세우기-1\"><span class=\"toc-item-num\">1&nbsp;&nbsp;</span>병합 정렬로 줄 세우기</a></span></li><li><span><a href=\"#쉽게-설명한-병합-정렬-알고리즘\" data-toc-modified-id=\"쉽게-설명한-병합-정렬-알고리즘-2\"><span class=\"toc-item-num\">2&nbsp;&nbsp;</span>쉽게 설명한 병합 정렬 알고리즘</a></span></li><li><span><a href=\"#병합-정렬에서의-재귀-호출\" data-toc-modified-id=\"병합-정렬에서의-재귀-호출-3\"><span class=\"toc-item-num\">3&nbsp;&nbsp;</span>병합 정렬에서의 재귀 호출</a></span></li><li><span><a href=\"#일반적인-병합-정렬-알고리즘\" data-toc-modified-id=\"일반적인-병합-정렬-알고리즘-4\"><span class=\"toc-item-num\">4&nbsp;&nbsp;</span>일반적인 병합 정렬 알고리즘</a></span></li><li><span><a href=\"#알고리즘-분석\" data-toc-modified-id=\"알고리즘-분석-5\"><span class=\"toc-item-num\">5&nbsp;&nbsp;</span>알고리즘 분석</a></span></li><li><span><a href=\"#연습문제\" data-toc-modified-id=\"연습문제-6\"><span class=\"toc-item-num\">6&nbsp;&nbsp;</span>연습문제</a></span></li><li><span><a href=\"#로그\" data-toc-modified-id=\"로그-7\"><span class=\"toc-item-num\">7&nbsp;&nbsp;</span>로그</a></span></li></ul></div>"
   ]
  },
  {
   "cell_type": "markdown",
   "metadata": {},
   "source": [
    "**리스트 안의 자료를 작은 수부터 큰 순서로 배열하는 정렬 알고리즘을 만들어 보자.**\n",
    "\n",
    "+ 재귀 호출을 사용해서 풀어보자\n",
    "+ 병합 정렬(Merge sort)"
   ]
  },
  {
   "cell_type": "markdown",
   "metadata": {},
   "source": [
    "## 병합 정렬로 줄 세우기"
   ]
  },
  {
   "cell_type": "markdown",
   "metadata": {},
   "source": [
    "## 쉽게 설명한 병합 정렬 알고리즘"
   ]
  },
  {
   "cell_type": "code",
   "execution_count": 1,
   "metadata": {
    "ExecuteTime": {
     "end_time": "2020-12-17T10:17:08.316405Z",
     "start_time": "2020-12-17T10:17:08.295458Z"
    }
   },
   "outputs": [],
   "source": [
    "# 쉽게 설명한 병합 정렬\n",
    "# 입력: 리스트 a\n",
    "# 출력: 정렬된 새 리스트\n",
    "\n",
    "def merge_sort(a):\n",
    "    n = len(a)\n",
    "    # 종료 조건 : 정렬한 리스트의 자료 개수가 한 개 이하이면 정렬할 필요 없음\n",
    "    if n <= 1:\n",
    "        return a\n",
    "\n",
    "    # 그룹을 나누어 각각 병합 정렬을 호출하는 과정\n",
    "    mid = n // 2             # 중간을 기준으로 두 그룹으로 나눔\n",
    "    g1 = merge_sort(a[:mid]) # 재귀 호출로 첫 번째 그룹을 정렬\n",
    "    g2 = merge_sort(a[mid:]) # 재귀 호출로 두 번째 그룹을 정렬\n",
    "    \n",
    "    # 두 그룹을 하나로 병합\n",
    "    result = []              # 두 그룹을 합쳐 만들 최종 결과\n",
    "    while g1 and g2:         # 두 그룹에 모두 자료가 남아 있는 동안 반복\n",
    "        if g1[0] < g2[0]:    # 두 그룹의 맨 앞자료 값을 비교\n",
    "            # g1의 값이 더 작으면 그 값을 빼내어 결과로 추가\n",
    "            result.append(g1.pop(0))\n",
    "        else:\n",
    "            # g2의 값이 더 작으면 그 값을 빼내어 결과로 추가\n",
    "            result.append(g2.pop(0))\n",
    "            \n",
    "    # 아직 남아 있는 자료들을 결과에 추가\n",
    "    # g1과 g2 중 이미 빈 것은 while을 바로 지나감\n",
    "    while g1:\n",
    "        result.append(g1.pop(0))\n",
    "    while g2:\n",
    "        result.append(g2.pop(0))\n",
    "    \n",
    "    return result"
   ]
  },
  {
   "cell_type": "code",
   "execution_count": 2,
   "metadata": {
    "ExecuteTime": {
     "end_time": "2020-12-17T10:17:34.831321Z",
     "start_time": "2020-12-17T10:17:34.810376Z"
    }
   },
   "outputs": [
    {
     "data": {
      "text/plain": [
       "[1, 2, 3, 4, 5, 6, 7, 8, 9, 10]"
      ]
     },
     "execution_count": 2,
     "metadata": {},
     "output_type": "execute_result"
    }
   ],
   "source": [
    "d = [6, 8, 3, 9, 10, 1, 2, 4, 7, 5]\n",
    "merge_sort(d)"
   ]
  },
  {
   "cell_type": "markdown",
   "metadata": {},
   "source": [
    "## 병합 정렬에서의 재귀 호출"
   ]
  },
  {
   "cell_type": "markdown",
   "metadata": {},
   "source": [
    "## 일반적인 병합 정렬 알고리즘"
   ]
  },
  {
   "cell_type": "code",
   "execution_count": 11,
   "metadata": {
    "ExecuteTime": {
     "end_time": "2020-12-17T10:35:47.231726Z",
     "start_time": "2020-12-17T10:35:47.209708Z"
    }
   },
   "outputs": [],
   "source": [
    "# 병합 정렬\n",
    "# 입력 : 리스트 a\n",
    "# 출력 : 없음(입력으로 주어진 a가 정렬됨)\n",
    "\n",
    "def merge_sort(a):\n",
    "    n = len(a)\n",
    "    \n",
    "    # 종료 조건 : 정렬된 리스트의 자료 개수가 한 개 이하이면 정렬할 필요가 없음\n",
    "    if n <= 1:\n",
    "        return\n",
    "    \n",
    "    # 그룹을 나누어 각각 병합 정렬을 호출하는 과정\n",
    "    mid = n // 2 # 중간을 기준으로 두 그룹으로 나눔\n",
    "    g1 = a[:mid]\n",
    "    g2 = a[mid:]\n",
    "    \n",
    "    merge_sort(g1) # 재귀 호출로 첫 번째 그룹을 정렬\n",
    "    merge_sort(g2) # 재귀 호출로 두 번째 그룹을 정렬\n",
    "    \n",
    "    # 두 그룹을 하나로 병합\n",
    "    i1 = 0\n",
    "    i2 = 0\n",
    "    ia = 0\n",
    "    while i1 < len(g1) and i2 < len(g2):\n",
    "        if g1[i1] < g2[i2]:\n",
    "            a[ia] = g1[i1]\n",
    "            i1 += 1\n",
    "            ia += 1\n",
    "        else:\n",
    "            a[ia] = g2[i2]\n",
    "            i2 += 1\n",
    "            ia += 1\n",
    "            \n",
    "    # 아직 남아 있는 자료들을 결과에 추가\n",
    "    while i1 < len(g1):\n",
    "        a[ia] = g1[i1]\n",
    "        i1 += 1\n",
    "        ia += 1\n",
    "    while i2 < len(g2):\n",
    "        a[ia] = g2[i2]\n",
    "        i2 += 1\n",
    "        ia += 1"
   ]
  },
  {
   "cell_type": "code",
   "execution_count": 12,
   "metadata": {
    "ExecuteTime": {
     "end_time": "2020-12-17T10:35:47.721977Z",
     "start_time": "2020-12-17T10:35:47.706006Z"
    }
   },
   "outputs": [
    {
     "data": {
      "text/plain": [
       "[1, 2, 3, 4, 5, 6, 7, 8, 9, 10]"
      ]
     },
     "execution_count": 12,
     "metadata": {},
     "output_type": "execute_result"
    }
   ],
   "source": [
    "d = [6, 8, 3, 9, 10, 1, 2, 4, 7, 5]\n",
    "merge_sort(d)\n",
    "d"
   ]
  },
  {
   "cell_type": "markdown",
   "metadata": {},
   "source": [
    "## 알고리즘 분석\n",
    "\n",
    "큰 문제를 작은 문제로 나눠서(분할하여) 푸는(정복하는) 방법을 알고리즘 설계 기법에서는 '분할 정복(divide and conquer)'이라고 부른다."
   ]
  },
  {
   "cell_type": "markdown",
   "metadata": {},
   "source": [
    "## 연습문제\n",
    "\n",
    "+ 내림차순 정렬로 변경해보기"
   ]
  },
  {
   "cell_type": "code",
   "execution_count": 19,
   "metadata": {
    "ExecuteTime": {
     "end_time": "2020-12-17T11:34:36.040432Z",
     "start_time": "2020-12-17T11:34:36.026468Z"
    }
   },
   "outputs": [],
   "source": [
    "def merge_sort(a):\n",
    "    n = len(a)\n",
    "    \n",
    "    # 종료 조건 : 정렬된 리스트의 자료 개수가 한 개 이하이면 정렬할 필요가 없음\n",
    "    if n <= 1:\n",
    "        return\n",
    "    \n",
    "    # 그룹을 나누어 각각 병합 정렬을 호출하는 과정\n",
    "    mid = n // 2 # 중간을 기준으로 두 그룹으로 나눔\n",
    "    g1 = a[:mid]\n",
    "    g2 = a[mid:]\n",
    "    \n",
    "    merge_sort(g1) # 재귀 호출로 첫 번째 그룹을 정렬\n",
    "    merge_sort(g2) # 재귀 호출로 두 번째 그룹을 정렬\n",
    "    \n",
    "    # 두 그룹을 하나로 병합\n",
    "    i1 = 0\n",
    "    i2 = 0\n",
    "    ia = 0\n",
    "    while i1 < len(g1) and i2 < len(g2):\n",
    "        if g1[i1] > g2[i2]:\n",
    "            a[ia] = g1[i1]\n",
    "            i1 += 1\n",
    "            ia += 1\n",
    "        else:\n",
    "            a[ia] = g2[i2]\n",
    "            i2 += 1\n",
    "            ia += 1\n",
    "            \n",
    "    # 아직 남아 있는 자료들을 결과에 추가\n",
    "    while i1 < len(g1):\n",
    "        a[ia] = g1[i1]\n",
    "        i1 += 1\n",
    "        ia += 1\n",
    "    while i2 < len(g2):\n",
    "        a[ia] = g2[i2]\n",
    "        i2 += 1\n",
    "        ia += 1"
   ]
  },
  {
   "cell_type": "code",
   "execution_count": 20,
   "metadata": {
    "ExecuteTime": {
     "end_time": "2020-12-17T11:34:39.250204Z",
     "start_time": "2020-12-17T11:34:39.241229Z"
    }
   },
   "outputs": [
    {
     "data": {
      "text/plain": [
       "[10, 9, 8, 7, 6, 5, 4, 3, 2, 1]"
      ]
     },
     "execution_count": 20,
     "metadata": {},
     "output_type": "execute_result"
    }
   ],
   "source": [
    "d = [6, 8, 3, 9, 10, 1, 2, 4, 7, 5]\n",
    "merge_sort(d)\n",
    "d"
   ]
  },
  {
   "cell_type": "markdown",
   "metadata": {},
   "source": [
    "## 로그"
   ]
  }
 ],
 "metadata": {
  "kernelspec": {
   "display_name": "Python 3",
   "language": "python",
   "name": "python3"
  },
  "language_info": {
   "codemirror_mode": {
    "name": "ipython",
    "version": 3
   },
   "file_extension": ".py",
   "mimetype": "text/x-python",
   "name": "python",
   "nbconvert_exporter": "python",
   "pygments_lexer": "ipython3",
   "version": "3.7.6"
  },
  "toc": {
   "base_numbering": 1,
   "nav_menu": {},
   "number_sections": true,
   "sideBar": true,
   "skip_h1_title": true,
   "title_cell": "Table of Contents",
   "title_sidebar": "Contents",
   "toc_cell": true,
   "toc_position": {
    "height": "calc(100% - 180px)",
    "left": "10px",
    "top": "150px",
    "width": "384px"
   },
   "toc_section_display": true,
   "toc_window_display": true
  }
 },
 "nbformat": 4,
 "nbformat_minor": 4
}

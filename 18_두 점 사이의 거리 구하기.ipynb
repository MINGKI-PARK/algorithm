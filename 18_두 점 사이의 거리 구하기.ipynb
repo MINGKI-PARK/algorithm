{
 "cells": [
  {
   "cell_type": "markdown",
   "metadata": {},
   "source": [
    "# 18_두 점 사이의 거리 구하기"
   ]
  },
  {
   "cell_type": "markdown",
   "metadata": {},
   "source": [
    "## 문제\n",
    "\n",
    "표준 입력으로 x, y 좌표 4개가 입력되어 Point2D 클래스의 인스턴스 리스트에 저장됩니다. 여기서 점 4개는 첫 번째 점부터 마지막 점까지 순서대로 이어져 있습니다. 다음 소스 코드를 완성하여 첫 번째 점부터 마지막 점까지 연결된 선의 길이가 출력되게 만드세요.\n",
    "\n",
    "```python\n",
    "import math\n",
    " \n",
    "class Point2D:\n",
    "    def __init__(self, x=0, y=0):\n",
    "        self.x = x\n",
    "        self.y = y\n",
    " \n",
    "length = 0.0\n",
    "p = [Point2D(), Point2D(), Point2D(), Point2D()]\n",
    "p[0].x, p[0].y, p[1].x, p[1].y, p[2].x, p[2].y, p[3].x, p[3].y = map(int, input().split())\n",
    "\n",
    "_____________________\n",
    "_____________________\n",
    "_____________________\n",
    "_____________________\n",
    "\n",
    "print(length)\n",
    "```"
   ]
  },
  {
   "cell_type": "markdown",
   "metadata": {},
   "source": [
    "## 나의 풀이"
   ]
  },
  {
   "cell_type": "code",
   "execution_count": 13,
   "metadata": {
    "ExecuteTime": {
     "end_time": "2020-12-22T08:12:28.636270Z",
     "start_time": "2020-12-22T08:12:21.903645Z"
    }
   },
   "outputs": [
    {
     "name": "stdout",
     "output_type": "stream",
     "text": [
      "10 10 20 20 30 30 40 40\n"
     ]
    }
   ],
   "source": [
    "import math\n",
    "\n",
    "class Point2D:\n",
    "    def __init__(self, x=0, y=0):\n",
    "        self.x = x\n",
    "        self.y = y\n",
    "\n",
    "length = 0.0\n",
    "p = [Point2D(), Point2D(), Point2D(), Point2D()]\n",
    "p[0].x, p[0].y, p[1].x, p[1].y, p[2].x, p[2].y, p[3].x, p[3].y = map(int, input().split())"
   ]
  },
  {
   "cell_type": "code",
   "execution_count": 14,
   "metadata": {
    "ExecuteTime": {
     "end_time": "2020-12-22T08:12:30.940774Z",
     "start_time": "2020-12-22T08:12:30.927813Z"
    }
   },
   "outputs": [
    {
     "data": {
      "text/plain": [
       "14.142135623730951"
      ]
     },
     "execution_count": 14,
     "metadata": {},
     "output_type": "execute_result"
    }
   ],
   "source": [
    "a = p[1].x - p[0].x\n",
    "b = p[1].y - p[0].y\n",
    "\n",
    "math.sqrt((a * a) + (b * b))"
   ]
  },
  {
   "cell_type": "code",
   "execution_count": 15,
   "metadata": {
    "ExecuteTime": {
     "end_time": "2020-12-22T08:12:31.737706Z",
     "start_time": "2020-12-22T08:12:31.719653Z"
    }
   },
   "outputs": [
    {
     "data": {
      "text/plain": [
       "42.42640687119285"
      ]
     },
     "execution_count": 15,
     "metadata": {},
     "output_type": "execute_result"
    }
   ],
   "source": [
    "for i in range(3):\n",
    "    a = p[i].x - p[i+1].x\n",
    "    b = p[i].y - p[i+1].y\n",
    "    length += math.sqrt((a * a) + (b * b))\n",
    "length"
   ]
  },
  {
   "cell_type": "markdown",
   "metadata": {},
   "source": [
    "## 정답"
   ]
  },
  {
   "cell_type": "code",
   "execution_count": 17,
   "metadata": {
    "ExecuteTime": {
     "end_time": "2020-12-22T08:14:01.749043Z",
     "start_time": "2020-12-22T08:14:01.738080Z"
    }
   },
   "outputs": [
    {
     "data": {
      "text/plain": [
       "42.42640687119285"
      ]
     },
     "execution_count": 17,
     "metadata": {},
     "output_type": "execute_result"
    }
   ],
   "source": [
    "length = 0.0\n",
    "for i in range(len(p)-1):\n",
    "    a = p[i].x - p[i+1].x\n",
    "    b = p[i].y - p[i+1].y\n",
    "    length += math.sqrt((a * a) + (b * b))\n",
    "length"
   ]
  }
 ],
 "metadata": {
  "kernelspec": {
   "display_name": "Python 3",
   "language": "python",
   "name": "python3"
  },
  "language_info": {
   "codemirror_mode": {
    "name": "ipython",
    "version": 3
   },
   "file_extension": ".py",
   "mimetype": "text/x-python",
   "name": "python",
   "nbconvert_exporter": "python",
   "pygments_lexer": "ipython3",
   "version": "3.7.6"
  },
  "toc": {
   "base_numbering": 1,
   "nav_menu": {},
   "number_sections": true,
   "sideBar": true,
   "skip_h1_title": true,
   "title_cell": "Table of Contents",
   "title_sidebar": "Contents",
   "toc_cell": false,
   "toc_position": {},
   "toc_section_display": true,
   "toc_window_display": true
  }
 },
 "nbformat": 4,
 "nbformat_minor": 4
}
